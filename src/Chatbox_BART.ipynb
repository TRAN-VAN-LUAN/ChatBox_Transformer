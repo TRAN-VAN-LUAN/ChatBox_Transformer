{
  "nbformat": 4,
  "nbformat_minor": 0,
  "metadata": {
    "colab": {
      "provenance": [],
      "gpuType": "T4"
    },
    "kernelspec": {
      "name": "python3",
      "display_name": "Python 3"
    },
    "language_info": {
      "name": "python"
    },
    "accelerator": "GPU",
    "widgets": {
      "application/vnd.jupyter.widget-state+json": {
        "02522fc8b042475f9e81ca973ff869a8": {
          "model_module": "@jupyter-widgets/controls",
          "model_name": "HBoxModel",
          "model_module_version": "1.5.0",
          "state": {
            "_dom_classes": [],
            "_model_module": "@jupyter-widgets/controls",
            "_model_module_version": "1.5.0",
            "_model_name": "HBoxModel",
            "_view_count": null,
            "_view_module": "@jupyter-widgets/controls",
            "_view_module_version": "1.5.0",
            "_view_name": "HBoxView",
            "box_style": "",
            "children": [
              "IPY_MODEL_b340e8e4a8c644e598e028775a74a71a",
              "IPY_MODEL_e5887e57afaa415eb74433dfac2b3915",
              "IPY_MODEL_d68b9f9f1e03465ab02bc7c2733437ff"
            ],
            "layout": "IPY_MODEL_e5be86bc7eca43c2b6d2f7b1a20951bd"
          }
        },
        "b340e8e4a8c644e598e028775a74a71a": {
          "model_module": "@jupyter-widgets/controls",
          "model_name": "HTMLModel",
          "model_module_version": "1.5.0",
          "state": {
            "_dom_classes": [],
            "_model_module": "@jupyter-widgets/controls",
            "_model_module_version": "1.5.0",
            "_model_name": "HTMLModel",
            "_view_count": null,
            "_view_module": "@jupyter-widgets/controls",
            "_view_module_version": "1.5.0",
            "_view_name": "HTMLView",
            "description": "",
            "description_tooltip": null,
            "layout": "IPY_MODEL_bead164c196b4c2b9319bb6134dc2b8a",
            "placeholder": "​",
            "style": "IPY_MODEL_86a6340e5db848f2a68eab7e5e06a9ae",
            "value": "sentencepiece.bpe.model: 100%"
          }
        },
        "e5887e57afaa415eb74433dfac2b3915": {
          "model_module": "@jupyter-widgets/controls",
          "model_name": "FloatProgressModel",
          "model_module_version": "1.5.0",
          "state": {
            "_dom_classes": [],
            "_model_module": "@jupyter-widgets/controls",
            "_model_module_version": "1.5.0",
            "_model_name": "FloatProgressModel",
            "_view_count": null,
            "_view_module": "@jupyter-widgets/controls",
            "_view_module_version": "1.5.0",
            "_view_name": "ProgressView",
            "bar_style": "success",
            "description": "",
            "description_tooltip": null,
            "layout": "IPY_MODEL_3bc690d4eded4e02a70c537de2289478",
            "max": 5069051,
            "min": 0,
            "orientation": "horizontal",
            "style": "IPY_MODEL_c1236b542ef843d28d8366e4f087f818",
            "value": 5069051
          }
        },
        "d68b9f9f1e03465ab02bc7c2733437ff": {
          "model_module": "@jupyter-widgets/controls",
          "model_name": "HTMLModel",
          "model_module_version": "1.5.0",
          "state": {
            "_dom_classes": [],
            "_model_module": "@jupyter-widgets/controls",
            "_model_module_version": "1.5.0",
            "_model_name": "HTMLModel",
            "_view_count": null,
            "_view_module": "@jupyter-widgets/controls",
            "_view_module_version": "1.5.0",
            "_view_name": "HTMLView",
            "description": "",
            "description_tooltip": null,
            "layout": "IPY_MODEL_5ec0d84b132d4c7a8462b52818268c61",
            "placeholder": "​",
            "style": "IPY_MODEL_5ad5c5f1efa04b8e996ee4cef60cc5ab",
            "value": " 5.07M/5.07M [00:00&lt;00:00, 19.5MB/s]"
          }
        },
        "e5be86bc7eca43c2b6d2f7b1a20951bd": {
          "model_module": "@jupyter-widgets/base",
          "model_name": "LayoutModel",
          "model_module_version": "1.2.0",
          "state": {
            "_model_module": "@jupyter-widgets/base",
            "_model_module_version": "1.2.0",
            "_model_name": "LayoutModel",
            "_view_count": null,
            "_view_module": "@jupyter-widgets/base",
            "_view_module_version": "1.2.0",
            "_view_name": "LayoutView",
            "align_content": null,
            "align_items": null,
            "align_self": null,
            "border": null,
            "bottom": null,
            "display": null,
            "flex": null,
            "flex_flow": null,
            "grid_area": null,
            "grid_auto_columns": null,
            "grid_auto_flow": null,
            "grid_auto_rows": null,
            "grid_column": null,
            "grid_gap": null,
            "grid_row": null,
            "grid_template_areas": null,
            "grid_template_columns": null,
            "grid_template_rows": null,
            "height": null,
            "justify_content": null,
            "justify_items": null,
            "left": null,
            "margin": null,
            "max_height": null,
            "max_width": null,
            "min_height": null,
            "min_width": null,
            "object_fit": null,
            "object_position": null,
            "order": null,
            "overflow": null,
            "overflow_x": null,
            "overflow_y": null,
            "padding": null,
            "right": null,
            "top": null,
            "visibility": null,
            "width": null
          }
        },
        "bead164c196b4c2b9319bb6134dc2b8a": {
          "model_module": "@jupyter-widgets/base",
          "model_name": "LayoutModel",
          "model_module_version": "1.2.0",
          "state": {
            "_model_module": "@jupyter-widgets/base",
            "_model_module_version": "1.2.0",
            "_model_name": "LayoutModel",
            "_view_count": null,
            "_view_module": "@jupyter-widgets/base",
            "_view_module_version": "1.2.0",
            "_view_name": "LayoutView",
            "align_content": null,
            "align_items": null,
            "align_self": null,
            "border": null,
            "bottom": null,
            "display": null,
            "flex": null,
            "flex_flow": null,
            "grid_area": null,
            "grid_auto_columns": null,
            "grid_auto_flow": null,
            "grid_auto_rows": null,
            "grid_column": null,
            "grid_gap": null,
            "grid_row": null,
            "grid_template_areas": null,
            "grid_template_columns": null,
            "grid_template_rows": null,
            "height": null,
            "justify_content": null,
            "justify_items": null,
            "left": null,
            "margin": null,
            "max_height": null,
            "max_width": null,
            "min_height": null,
            "min_width": null,
            "object_fit": null,
            "object_position": null,
            "order": null,
            "overflow": null,
            "overflow_x": null,
            "overflow_y": null,
            "padding": null,
            "right": null,
            "top": null,
            "visibility": null,
            "width": null
          }
        },
        "86a6340e5db848f2a68eab7e5e06a9ae": {
          "model_module": "@jupyter-widgets/controls",
          "model_name": "DescriptionStyleModel",
          "model_module_version": "1.5.0",
          "state": {
            "_model_module": "@jupyter-widgets/controls",
            "_model_module_version": "1.5.0",
            "_model_name": "DescriptionStyleModel",
            "_view_count": null,
            "_view_module": "@jupyter-widgets/base",
            "_view_module_version": "1.2.0",
            "_view_name": "StyleView",
            "description_width": ""
          }
        },
        "3bc690d4eded4e02a70c537de2289478": {
          "model_module": "@jupyter-widgets/base",
          "model_name": "LayoutModel",
          "model_module_version": "1.2.0",
          "state": {
            "_model_module": "@jupyter-widgets/base",
            "_model_module_version": "1.2.0",
            "_model_name": "LayoutModel",
            "_view_count": null,
            "_view_module": "@jupyter-widgets/base",
            "_view_module_version": "1.2.0",
            "_view_name": "LayoutView",
            "align_content": null,
            "align_items": null,
            "align_self": null,
            "border": null,
            "bottom": null,
            "display": null,
            "flex": null,
            "flex_flow": null,
            "grid_area": null,
            "grid_auto_columns": null,
            "grid_auto_flow": null,
            "grid_auto_rows": null,
            "grid_column": null,
            "grid_gap": null,
            "grid_row": null,
            "grid_template_areas": null,
            "grid_template_columns": null,
            "grid_template_rows": null,
            "height": null,
            "justify_content": null,
            "justify_items": null,
            "left": null,
            "margin": null,
            "max_height": null,
            "max_width": null,
            "min_height": null,
            "min_width": null,
            "object_fit": null,
            "object_position": null,
            "order": null,
            "overflow": null,
            "overflow_x": null,
            "overflow_y": null,
            "padding": null,
            "right": null,
            "top": null,
            "visibility": null,
            "width": null
          }
        },
        "c1236b542ef843d28d8366e4f087f818": {
          "model_module": "@jupyter-widgets/controls",
          "model_name": "ProgressStyleModel",
          "model_module_version": "1.5.0",
          "state": {
            "_model_module": "@jupyter-widgets/controls",
            "_model_module_version": "1.5.0",
            "_model_name": "ProgressStyleModel",
            "_view_count": null,
            "_view_module": "@jupyter-widgets/base",
            "_view_module_version": "1.2.0",
            "_view_name": "StyleView",
            "bar_color": null,
            "description_width": ""
          }
        },
        "5ec0d84b132d4c7a8462b52818268c61": {
          "model_module": "@jupyter-widgets/base",
          "model_name": "LayoutModel",
          "model_module_version": "1.2.0",
          "state": {
            "_model_module": "@jupyter-widgets/base",
            "_model_module_version": "1.2.0",
            "_model_name": "LayoutModel",
            "_view_count": null,
            "_view_module": "@jupyter-widgets/base",
            "_view_module_version": "1.2.0",
            "_view_name": "LayoutView",
            "align_content": null,
            "align_items": null,
            "align_self": null,
            "border": null,
            "bottom": null,
            "display": null,
            "flex": null,
            "flex_flow": null,
            "grid_area": null,
            "grid_auto_columns": null,
            "grid_auto_flow": null,
            "grid_auto_rows": null,
            "grid_column": null,
            "grid_gap": null,
            "grid_row": null,
            "grid_template_areas": null,
            "grid_template_columns": null,
            "grid_template_rows": null,
            "height": null,
            "justify_content": null,
            "justify_items": null,
            "left": null,
            "margin": null,
            "max_height": null,
            "max_width": null,
            "min_height": null,
            "min_width": null,
            "object_fit": null,
            "object_position": null,
            "order": null,
            "overflow": null,
            "overflow_x": null,
            "overflow_y": null,
            "padding": null,
            "right": null,
            "top": null,
            "visibility": null,
            "width": null
          }
        },
        "5ad5c5f1efa04b8e996ee4cef60cc5ab": {
          "model_module": "@jupyter-widgets/controls",
          "model_name": "DescriptionStyleModel",
          "model_module_version": "1.5.0",
          "state": {
            "_model_module": "@jupyter-widgets/controls",
            "_model_module_version": "1.5.0",
            "_model_name": "DescriptionStyleModel",
            "_view_count": null,
            "_view_module": "@jupyter-widgets/base",
            "_view_module_version": "1.2.0",
            "_view_name": "StyleView",
            "description_width": ""
          }
        },
        "45e1b9ee0f9d460284412943d2e63895": {
          "model_module": "@jupyter-widgets/controls",
          "model_name": "HBoxModel",
          "model_module_version": "1.5.0",
          "state": {
            "_dom_classes": [],
            "_model_module": "@jupyter-widgets/controls",
            "_model_module_version": "1.5.0",
            "_model_name": "HBoxModel",
            "_view_count": null,
            "_view_module": "@jupyter-widgets/controls",
            "_view_module_version": "1.5.0",
            "_view_name": "HBoxView",
            "box_style": "",
            "children": [
              "IPY_MODEL_9207c814236644cab4a146b45ff6e300",
              "IPY_MODEL_b5c9beab70fc45d6af46e08544e07cf4",
              "IPY_MODEL_aa7738d36ed04470b1886bfc398e4a96"
            ],
            "layout": "IPY_MODEL_d350c05d118541c9ac40a7e73f3bd621"
          }
        },
        "9207c814236644cab4a146b45ff6e300": {
          "model_module": "@jupyter-widgets/controls",
          "model_name": "HTMLModel",
          "model_module_version": "1.5.0",
          "state": {
            "_dom_classes": [],
            "_model_module": "@jupyter-widgets/controls",
            "_model_module_version": "1.5.0",
            "_model_name": "HTMLModel",
            "_view_count": null,
            "_view_module": "@jupyter-widgets/controls",
            "_view_module_version": "1.5.0",
            "_view_name": "HTMLView",
            "description": "",
            "description_tooltip": null,
            "layout": "IPY_MODEL_2b6745c701bf4f0e8922763a6f16b0c9",
            "placeholder": "​",
            "style": "IPY_MODEL_edc8fb52365d4884ae97ec045409d132",
            "value": "dict.txt: 100%"
          }
        },
        "b5c9beab70fc45d6af46e08544e07cf4": {
          "model_module": "@jupyter-widgets/controls",
          "model_name": "FloatProgressModel",
          "model_module_version": "1.5.0",
          "state": {
            "_dom_classes": [],
            "_model_module": "@jupyter-widgets/controls",
            "_model_module_version": "1.5.0",
            "_model_name": "FloatProgressModel",
            "_view_count": null,
            "_view_module": "@jupyter-widgets/controls",
            "_view_module_version": "1.5.0",
            "_view_name": "ProgressView",
            "bar_style": "success",
            "description": "",
            "description_tooltip": null,
            "layout": "IPY_MODEL_1341d4e8efd245bc96d221db765276fe",
            "max": 360025,
            "min": 0,
            "orientation": "horizontal",
            "style": "IPY_MODEL_d7b765fa7dc64b8f853b517c4eb3fd2f",
            "value": 360025
          }
        },
        "aa7738d36ed04470b1886bfc398e4a96": {
          "model_module": "@jupyter-widgets/controls",
          "model_name": "HTMLModel",
          "model_module_version": "1.5.0",
          "state": {
            "_dom_classes": [],
            "_model_module": "@jupyter-widgets/controls",
            "_model_module_version": "1.5.0",
            "_model_name": "HTMLModel",
            "_view_count": null,
            "_view_module": "@jupyter-widgets/controls",
            "_view_module_version": "1.5.0",
            "_view_name": "HTMLView",
            "description": "",
            "description_tooltip": null,
            "layout": "IPY_MODEL_029ddf7c98f74813934d33ab12006d74",
            "placeholder": "​",
            "style": "IPY_MODEL_71c316db57fb40cd8818f8ccc744d1ca",
            "value": " 360k/360k [00:00&lt;00:00, 1.83MB/s]"
          }
        },
        "d350c05d118541c9ac40a7e73f3bd621": {
          "model_module": "@jupyter-widgets/base",
          "model_name": "LayoutModel",
          "model_module_version": "1.2.0",
          "state": {
            "_model_module": "@jupyter-widgets/base",
            "_model_module_version": "1.2.0",
            "_model_name": "LayoutModel",
            "_view_count": null,
            "_view_module": "@jupyter-widgets/base",
            "_view_module_version": "1.2.0",
            "_view_name": "LayoutView",
            "align_content": null,
            "align_items": null,
            "align_self": null,
            "border": null,
            "bottom": null,
            "display": null,
            "flex": null,
            "flex_flow": null,
            "grid_area": null,
            "grid_auto_columns": null,
            "grid_auto_flow": null,
            "grid_auto_rows": null,
            "grid_column": null,
            "grid_gap": null,
            "grid_row": null,
            "grid_template_areas": null,
            "grid_template_columns": null,
            "grid_template_rows": null,
            "height": null,
            "justify_content": null,
            "justify_items": null,
            "left": null,
            "margin": null,
            "max_height": null,
            "max_width": null,
            "min_height": null,
            "min_width": null,
            "object_fit": null,
            "object_position": null,
            "order": null,
            "overflow": null,
            "overflow_x": null,
            "overflow_y": null,
            "padding": null,
            "right": null,
            "top": null,
            "visibility": null,
            "width": null
          }
        },
        "2b6745c701bf4f0e8922763a6f16b0c9": {
          "model_module": "@jupyter-widgets/base",
          "model_name": "LayoutModel",
          "model_module_version": "1.2.0",
          "state": {
            "_model_module": "@jupyter-widgets/base",
            "_model_module_version": "1.2.0",
            "_model_name": "LayoutModel",
            "_view_count": null,
            "_view_module": "@jupyter-widgets/base",
            "_view_module_version": "1.2.0",
            "_view_name": "LayoutView",
            "align_content": null,
            "align_items": null,
            "align_self": null,
            "border": null,
            "bottom": null,
            "display": null,
            "flex": null,
            "flex_flow": null,
            "grid_area": null,
            "grid_auto_columns": null,
            "grid_auto_flow": null,
            "grid_auto_rows": null,
            "grid_column": null,
            "grid_gap": null,
            "grid_row": null,
            "grid_template_areas": null,
            "grid_template_columns": null,
            "grid_template_rows": null,
            "height": null,
            "justify_content": null,
            "justify_items": null,
            "left": null,
            "margin": null,
            "max_height": null,
            "max_width": null,
            "min_height": null,
            "min_width": null,
            "object_fit": null,
            "object_position": null,
            "order": null,
            "overflow": null,
            "overflow_x": null,
            "overflow_y": null,
            "padding": null,
            "right": null,
            "top": null,
            "visibility": null,
            "width": null
          }
        },
        "edc8fb52365d4884ae97ec045409d132": {
          "model_module": "@jupyter-widgets/controls",
          "model_name": "DescriptionStyleModel",
          "model_module_version": "1.5.0",
          "state": {
            "_model_module": "@jupyter-widgets/controls",
            "_model_module_version": "1.5.0",
            "_model_name": "DescriptionStyleModel",
            "_view_count": null,
            "_view_module": "@jupyter-widgets/base",
            "_view_module_version": "1.2.0",
            "_view_name": "StyleView",
            "description_width": ""
          }
        },
        "1341d4e8efd245bc96d221db765276fe": {
          "model_module": "@jupyter-widgets/base",
          "model_name": "LayoutModel",
          "model_module_version": "1.2.0",
          "state": {
            "_model_module": "@jupyter-widgets/base",
            "_model_module_version": "1.2.0",
            "_model_name": "LayoutModel",
            "_view_count": null,
            "_view_module": "@jupyter-widgets/base",
            "_view_module_version": "1.2.0",
            "_view_name": "LayoutView",
            "align_content": null,
            "align_items": null,
            "align_self": null,
            "border": null,
            "bottom": null,
            "display": null,
            "flex": null,
            "flex_flow": null,
            "grid_area": null,
            "grid_auto_columns": null,
            "grid_auto_flow": null,
            "grid_auto_rows": null,
            "grid_column": null,
            "grid_gap": null,
            "grid_row": null,
            "grid_template_areas": null,
            "grid_template_columns": null,
            "grid_template_rows": null,
            "height": null,
            "justify_content": null,
            "justify_items": null,
            "left": null,
            "margin": null,
            "max_height": null,
            "max_width": null,
            "min_height": null,
            "min_width": null,
            "object_fit": null,
            "object_position": null,
            "order": null,
            "overflow": null,
            "overflow_x": null,
            "overflow_y": null,
            "padding": null,
            "right": null,
            "top": null,
            "visibility": null,
            "width": null
          }
        },
        "d7b765fa7dc64b8f853b517c4eb3fd2f": {
          "model_module": "@jupyter-widgets/controls",
          "model_name": "ProgressStyleModel",
          "model_module_version": "1.5.0",
          "state": {
            "_model_module": "@jupyter-widgets/controls",
            "_model_module_version": "1.5.0",
            "_model_name": "ProgressStyleModel",
            "_view_count": null,
            "_view_module": "@jupyter-widgets/base",
            "_view_module_version": "1.2.0",
            "_view_name": "StyleView",
            "bar_color": null,
            "description_width": ""
          }
        },
        "029ddf7c98f74813934d33ab12006d74": {
          "model_module": "@jupyter-widgets/base",
          "model_name": "LayoutModel",
          "model_module_version": "1.2.0",
          "state": {
            "_model_module": "@jupyter-widgets/base",
            "_model_module_version": "1.2.0",
            "_model_name": "LayoutModel",
            "_view_count": null,
            "_view_module": "@jupyter-widgets/base",
            "_view_module_version": "1.2.0",
            "_view_name": "LayoutView",
            "align_content": null,
            "align_items": null,
            "align_self": null,
            "border": null,
            "bottom": null,
            "display": null,
            "flex": null,
            "flex_flow": null,
            "grid_area": null,
            "grid_auto_columns": null,
            "grid_auto_flow": null,
            "grid_auto_rows": null,
            "grid_column": null,
            "grid_gap": null,
            "grid_row": null,
            "grid_template_areas": null,
            "grid_template_columns": null,
            "grid_template_rows": null,
            "height": null,
            "justify_content": null,
            "justify_items": null,
            "left": null,
            "margin": null,
            "max_height": null,
            "max_width": null,
            "min_height": null,
            "min_width": null,
            "object_fit": null,
            "object_position": null,
            "order": null,
            "overflow": null,
            "overflow_x": null,
            "overflow_y": null,
            "padding": null,
            "right": null,
            "top": null,
            "visibility": null,
            "width": null
          }
        },
        "71c316db57fb40cd8818f8ccc744d1ca": {
          "model_module": "@jupyter-widgets/controls",
          "model_name": "DescriptionStyleModel",
          "model_module_version": "1.5.0",
          "state": {
            "_model_module": "@jupyter-widgets/controls",
            "_model_module_version": "1.5.0",
            "_model_name": "DescriptionStyleModel",
            "_view_count": null,
            "_view_module": "@jupyter-widgets/base",
            "_view_module_version": "1.2.0",
            "_view_name": "StyleView",
            "description_width": ""
          }
        },
        "431848087d9341729a97adf2f4e125ca": {
          "model_module": "@jupyter-widgets/controls",
          "model_name": "HBoxModel",
          "model_module_version": "1.5.0",
          "state": {
            "_dom_classes": [],
            "_model_module": "@jupyter-widgets/controls",
            "_model_module_version": "1.5.0",
            "_model_name": "HBoxModel",
            "_view_count": null,
            "_view_module": "@jupyter-widgets/controls",
            "_view_module_version": "1.5.0",
            "_view_name": "HBoxView",
            "box_style": "",
            "children": [
              "IPY_MODEL_4e832996861545308db6288be0e54c2f",
              "IPY_MODEL_b471174526ac45b6b81dfb89ec40a595",
              "IPY_MODEL_def957e9fb0a40078a3cbe3777ba76fd"
            ],
            "layout": "IPY_MODEL_1466eef996a245788f45470218e19059"
          }
        },
        "4e832996861545308db6288be0e54c2f": {
          "model_module": "@jupyter-widgets/controls",
          "model_name": "HTMLModel",
          "model_module_version": "1.5.0",
          "state": {
            "_dom_classes": [],
            "_model_module": "@jupyter-widgets/controls",
            "_model_module_version": "1.5.0",
            "_model_name": "HTMLModel",
            "_view_count": null,
            "_view_module": "@jupyter-widgets/controls",
            "_view_module_version": "1.5.0",
            "_view_name": "HTMLView",
            "description": "",
            "description_tooltip": null,
            "layout": "IPY_MODEL_f90220670eb945ec9904cfbb5b240e93",
            "placeholder": "​",
            "style": "IPY_MODEL_2911de367daa4c9ca69c721341a533bb",
            "value": "tokenizer.json: 100%"
          }
        },
        "b471174526ac45b6b81dfb89ec40a595": {
          "model_module": "@jupyter-widgets/controls",
          "model_name": "FloatProgressModel",
          "model_module_version": "1.5.0",
          "state": {
            "_dom_classes": [],
            "_model_module": "@jupyter-widgets/controls",
            "_model_module_version": "1.5.0",
            "_model_name": "FloatProgressModel",
            "_view_count": null,
            "_view_module": "@jupyter-widgets/controls",
            "_view_module_version": "1.5.0",
            "_view_name": "ProgressView",
            "bar_style": "success",
            "description": "",
            "description_tooltip": null,
            "layout": "IPY_MODEL_f3215e9ddc8446b38d09915e83ad0a4e",
            "max": 2830309,
            "min": 0,
            "orientation": "horizontal",
            "style": "IPY_MODEL_74d13c0872cf4828beac7f677407f0c6",
            "value": 2830309
          }
        },
        "def957e9fb0a40078a3cbe3777ba76fd": {
          "model_module": "@jupyter-widgets/controls",
          "model_name": "HTMLModel",
          "model_module_version": "1.5.0",
          "state": {
            "_dom_classes": [],
            "_model_module": "@jupyter-widgets/controls",
            "_model_module_version": "1.5.0",
            "_model_name": "HTMLModel",
            "_view_count": null,
            "_view_module": "@jupyter-widgets/controls",
            "_view_module_version": "1.5.0",
            "_view_name": "HTMLView",
            "description": "",
            "description_tooltip": null,
            "layout": "IPY_MODEL_1d80fe3e9ffc4b39b00fafe0d8b0e837",
            "placeholder": "​",
            "style": "IPY_MODEL_64271a6070c94b79b10d94542d9c05ce",
            "value": " 2.83M/2.83M [00:00&lt;00:00, 18.4MB/s]"
          }
        },
        "1466eef996a245788f45470218e19059": {
          "model_module": "@jupyter-widgets/base",
          "model_name": "LayoutModel",
          "model_module_version": "1.2.0",
          "state": {
            "_model_module": "@jupyter-widgets/base",
            "_model_module_version": "1.2.0",
            "_model_name": "LayoutModel",
            "_view_count": null,
            "_view_module": "@jupyter-widgets/base",
            "_view_module_version": "1.2.0",
            "_view_name": "LayoutView",
            "align_content": null,
            "align_items": null,
            "align_self": null,
            "border": null,
            "bottom": null,
            "display": null,
            "flex": null,
            "flex_flow": null,
            "grid_area": null,
            "grid_auto_columns": null,
            "grid_auto_flow": null,
            "grid_auto_rows": null,
            "grid_column": null,
            "grid_gap": null,
            "grid_row": null,
            "grid_template_areas": null,
            "grid_template_columns": null,
            "grid_template_rows": null,
            "height": null,
            "justify_content": null,
            "justify_items": null,
            "left": null,
            "margin": null,
            "max_height": null,
            "max_width": null,
            "min_height": null,
            "min_width": null,
            "object_fit": null,
            "object_position": null,
            "order": null,
            "overflow": null,
            "overflow_x": null,
            "overflow_y": null,
            "padding": null,
            "right": null,
            "top": null,
            "visibility": null,
            "width": null
          }
        },
        "f90220670eb945ec9904cfbb5b240e93": {
          "model_module": "@jupyter-widgets/base",
          "model_name": "LayoutModel",
          "model_module_version": "1.2.0",
          "state": {
            "_model_module": "@jupyter-widgets/base",
            "_model_module_version": "1.2.0",
            "_model_name": "LayoutModel",
            "_view_count": null,
            "_view_module": "@jupyter-widgets/base",
            "_view_module_version": "1.2.0",
            "_view_name": "LayoutView",
            "align_content": null,
            "align_items": null,
            "align_self": null,
            "border": null,
            "bottom": null,
            "display": null,
            "flex": null,
            "flex_flow": null,
            "grid_area": null,
            "grid_auto_columns": null,
            "grid_auto_flow": null,
            "grid_auto_rows": null,
            "grid_column": null,
            "grid_gap": null,
            "grid_row": null,
            "grid_template_areas": null,
            "grid_template_columns": null,
            "grid_template_rows": null,
            "height": null,
            "justify_content": null,
            "justify_items": null,
            "left": null,
            "margin": null,
            "max_height": null,
            "max_width": null,
            "min_height": null,
            "min_width": null,
            "object_fit": null,
            "object_position": null,
            "order": null,
            "overflow": null,
            "overflow_x": null,
            "overflow_y": null,
            "padding": null,
            "right": null,
            "top": null,
            "visibility": null,
            "width": null
          }
        },
        "2911de367daa4c9ca69c721341a533bb": {
          "model_module": "@jupyter-widgets/controls",
          "model_name": "DescriptionStyleModel",
          "model_module_version": "1.5.0",
          "state": {
            "_model_module": "@jupyter-widgets/controls",
            "_model_module_version": "1.5.0",
            "_model_name": "DescriptionStyleModel",
            "_view_count": null,
            "_view_module": "@jupyter-widgets/base",
            "_view_module_version": "1.2.0",
            "_view_name": "StyleView",
            "description_width": ""
          }
        },
        "f3215e9ddc8446b38d09915e83ad0a4e": {
          "model_module": "@jupyter-widgets/base",
          "model_name": "LayoutModel",
          "model_module_version": "1.2.0",
          "state": {
            "_model_module": "@jupyter-widgets/base",
            "_model_module_version": "1.2.0",
            "_model_name": "LayoutModel",
            "_view_count": null,
            "_view_module": "@jupyter-widgets/base",
            "_view_module_version": "1.2.0",
            "_view_name": "LayoutView",
            "align_content": null,
            "align_items": null,
            "align_self": null,
            "border": null,
            "bottom": null,
            "display": null,
            "flex": null,
            "flex_flow": null,
            "grid_area": null,
            "grid_auto_columns": null,
            "grid_auto_flow": null,
            "grid_auto_rows": null,
            "grid_column": null,
            "grid_gap": null,
            "grid_row": null,
            "grid_template_areas": null,
            "grid_template_columns": null,
            "grid_template_rows": null,
            "height": null,
            "justify_content": null,
            "justify_items": null,
            "left": null,
            "margin": null,
            "max_height": null,
            "max_width": null,
            "min_height": null,
            "min_width": null,
            "object_fit": null,
            "object_position": null,
            "order": null,
            "overflow": null,
            "overflow_x": null,
            "overflow_y": null,
            "padding": null,
            "right": null,
            "top": null,
            "visibility": null,
            "width": null
          }
        },
        "74d13c0872cf4828beac7f677407f0c6": {
          "model_module": "@jupyter-widgets/controls",
          "model_name": "ProgressStyleModel",
          "model_module_version": "1.5.0",
          "state": {
            "_model_module": "@jupyter-widgets/controls",
            "_model_module_version": "1.5.0",
            "_model_name": "ProgressStyleModel",
            "_view_count": null,
            "_view_module": "@jupyter-widgets/base",
            "_view_module_version": "1.2.0",
            "_view_name": "StyleView",
            "bar_color": null,
            "description_width": ""
          }
        },
        "1d80fe3e9ffc4b39b00fafe0d8b0e837": {
          "model_module": "@jupyter-widgets/base",
          "model_name": "LayoutModel",
          "model_module_version": "1.2.0",
          "state": {
            "_model_module": "@jupyter-widgets/base",
            "_model_module_version": "1.2.0",
            "_model_name": "LayoutModel",
            "_view_count": null,
            "_view_module": "@jupyter-widgets/base",
            "_view_module_version": "1.2.0",
            "_view_name": "LayoutView",
            "align_content": null,
            "align_items": null,
            "align_self": null,
            "border": null,
            "bottom": null,
            "display": null,
            "flex": null,
            "flex_flow": null,
            "grid_area": null,
            "grid_auto_columns": null,
            "grid_auto_flow": null,
            "grid_auto_rows": null,
            "grid_column": null,
            "grid_gap": null,
            "grid_row": null,
            "grid_template_areas": null,
            "grid_template_columns": null,
            "grid_template_rows": null,
            "height": null,
            "justify_content": null,
            "justify_items": null,
            "left": null,
            "margin": null,
            "max_height": null,
            "max_width": null,
            "min_height": null,
            "min_width": null,
            "object_fit": null,
            "object_position": null,
            "order": null,
            "overflow": null,
            "overflow_x": null,
            "overflow_y": null,
            "padding": null,
            "right": null,
            "top": null,
            "visibility": null,
            "width": null
          }
        },
        "64271a6070c94b79b10d94542d9c05ce": {
          "model_module": "@jupyter-widgets/controls",
          "model_name": "DescriptionStyleModel",
          "model_module_version": "1.5.0",
          "state": {
            "_model_module": "@jupyter-widgets/controls",
            "_model_module_version": "1.5.0",
            "_model_name": "DescriptionStyleModel",
            "_view_count": null,
            "_view_module": "@jupyter-widgets/base",
            "_view_module_version": "1.2.0",
            "_view_name": "StyleView",
            "description_width": ""
          }
        },
        "66e1c101237d4fb0aaf73d7a1ef0d0f7": {
          "model_module": "@jupyter-widgets/controls",
          "model_name": "HBoxModel",
          "model_module_version": "1.5.0",
          "state": {
            "_dom_classes": [],
            "_model_module": "@jupyter-widgets/controls",
            "_model_module_version": "1.5.0",
            "_model_name": "HBoxModel",
            "_view_count": null,
            "_view_module": "@jupyter-widgets/controls",
            "_view_module_version": "1.5.0",
            "_view_name": "HBoxView",
            "box_style": "",
            "children": [
              "IPY_MODEL_d414568ca7354a35a008344f2fd40c59",
              "IPY_MODEL_4bf461f54d5148089c7bc05f682e7c8e",
              "IPY_MODEL_fc3ea6eddeb64160b5ab26c15ceea3c0"
            ],
            "layout": "IPY_MODEL_81f1cc1ba2fa43e0ac50985d2823cd33"
          }
        },
        "d414568ca7354a35a008344f2fd40c59": {
          "model_module": "@jupyter-widgets/controls",
          "model_name": "HTMLModel",
          "model_module_version": "1.5.0",
          "state": {
            "_dom_classes": [],
            "_model_module": "@jupyter-widgets/controls",
            "_model_module_version": "1.5.0",
            "_model_name": "HTMLModel",
            "_view_count": null,
            "_view_module": "@jupyter-widgets/controls",
            "_view_module_version": "1.5.0",
            "_view_name": "HTMLView",
            "description": "",
            "description_tooltip": null,
            "layout": "IPY_MODEL_d0892b2f7af243cd95d8f98394eb33f0",
            "placeholder": "​",
            "style": "IPY_MODEL_bb0d75780ce7429a89e356f02f1e4b12",
            "value": "config.json: 100%"
          }
        },
        "4bf461f54d5148089c7bc05f682e7c8e": {
          "model_module": "@jupyter-widgets/controls",
          "model_name": "FloatProgressModel",
          "model_module_version": "1.5.0",
          "state": {
            "_dom_classes": [],
            "_model_module": "@jupyter-widgets/controls",
            "_model_module_version": "1.5.0",
            "_model_name": "FloatProgressModel",
            "_view_count": null,
            "_view_module": "@jupyter-widgets/controls",
            "_view_module_version": "1.5.0",
            "_view_name": "ProgressView",
            "bar_style": "success",
            "description": "",
            "description_tooltip": null,
            "layout": "IPY_MODEL_27d3a3b1d88a4b3a8de85e1c5fe13ef1",
            "max": 897,
            "min": 0,
            "orientation": "horizontal",
            "style": "IPY_MODEL_552fe7a06d114df8a53187226a25faa2",
            "value": 897
          }
        },
        "fc3ea6eddeb64160b5ab26c15ceea3c0": {
          "model_module": "@jupyter-widgets/controls",
          "model_name": "HTMLModel",
          "model_module_version": "1.5.0",
          "state": {
            "_dom_classes": [],
            "_model_module": "@jupyter-widgets/controls",
            "_model_module_version": "1.5.0",
            "_model_name": "HTMLModel",
            "_view_count": null,
            "_view_module": "@jupyter-widgets/controls",
            "_view_module_version": "1.5.0",
            "_view_name": "HTMLView",
            "description": "",
            "description_tooltip": null,
            "layout": "IPY_MODEL_aa869301eb42409a880d3103d75bae8f",
            "placeholder": "​",
            "style": "IPY_MODEL_bb76e5537a964ae2b28b4154fbf43c4a",
            "value": " 897/897 [00:00&lt;00:00, 58.2kB/s]"
          }
        },
        "81f1cc1ba2fa43e0ac50985d2823cd33": {
          "model_module": "@jupyter-widgets/base",
          "model_name": "LayoutModel",
          "model_module_version": "1.2.0",
          "state": {
            "_model_module": "@jupyter-widgets/base",
            "_model_module_version": "1.2.0",
            "_model_name": "LayoutModel",
            "_view_count": null,
            "_view_module": "@jupyter-widgets/base",
            "_view_module_version": "1.2.0",
            "_view_name": "LayoutView",
            "align_content": null,
            "align_items": null,
            "align_self": null,
            "border": null,
            "bottom": null,
            "display": null,
            "flex": null,
            "flex_flow": null,
            "grid_area": null,
            "grid_auto_columns": null,
            "grid_auto_flow": null,
            "grid_auto_rows": null,
            "grid_column": null,
            "grid_gap": null,
            "grid_row": null,
            "grid_template_areas": null,
            "grid_template_columns": null,
            "grid_template_rows": null,
            "height": null,
            "justify_content": null,
            "justify_items": null,
            "left": null,
            "margin": null,
            "max_height": null,
            "max_width": null,
            "min_height": null,
            "min_width": null,
            "object_fit": null,
            "object_position": null,
            "order": null,
            "overflow": null,
            "overflow_x": null,
            "overflow_y": null,
            "padding": null,
            "right": null,
            "top": null,
            "visibility": null,
            "width": null
          }
        },
        "d0892b2f7af243cd95d8f98394eb33f0": {
          "model_module": "@jupyter-widgets/base",
          "model_name": "LayoutModel",
          "model_module_version": "1.2.0",
          "state": {
            "_model_module": "@jupyter-widgets/base",
            "_model_module_version": "1.2.0",
            "_model_name": "LayoutModel",
            "_view_count": null,
            "_view_module": "@jupyter-widgets/base",
            "_view_module_version": "1.2.0",
            "_view_name": "LayoutView",
            "align_content": null,
            "align_items": null,
            "align_self": null,
            "border": null,
            "bottom": null,
            "display": null,
            "flex": null,
            "flex_flow": null,
            "grid_area": null,
            "grid_auto_columns": null,
            "grid_auto_flow": null,
            "grid_auto_rows": null,
            "grid_column": null,
            "grid_gap": null,
            "grid_row": null,
            "grid_template_areas": null,
            "grid_template_columns": null,
            "grid_template_rows": null,
            "height": null,
            "justify_content": null,
            "justify_items": null,
            "left": null,
            "margin": null,
            "max_height": null,
            "max_width": null,
            "min_height": null,
            "min_width": null,
            "object_fit": null,
            "object_position": null,
            "order": null,
            "overflow": null,
            "overflow_x": null,
            "overflow_y": null,
            "padding": null,
            "right": null,
            "top": null,
            "visibility": null,
            "width": null
          }
        },
        "bb0d75780ce7429a89e356f02f1e4b12": {
          "model_module": "@jupyter-widgets/controls",
          "model_name": "DescriptionStyleModel",
          "model_module_version": "1.5.0",
          "state": {
            "_model_module": "@jupyter-widgets/controls",
            "_model_module_version": "1.5.0",
            "_model_name": "DescriptionStyleModel",
            "_view_count": null,
            "_view_module": "@jupyter-widgets/base",
            "_view_module_version": "1.2.0",
            "_view_name": "StyleView",
            "description_width": ""
          }
        },
        "27d3a3b1d88a4b3a8de85e1c5fe13ef1": {
          "model_module": "@jupyter-widgets/base",
          "model_name": "LayoutModel",
          "model_module_version": "1.2.0",
          "state": {
            "_model_module": "@jupyter-widgets/base",
            "_model_module_version": "1.2.0",
            "_model_name": "LayoutModel",
            "_view_count": null,
            "_view_module": "@jupyter-widgets/base",
            "_view_module_version": "1.2.0",
            "_view_name": "LayoutView",
            "align_content": null,
            "align_items": null,
            "align_self": null,
            "border": null,
            "bottom": null,
            "display": null,
            "flex": null,
            "flex_flow": null,
            "grid_area": null,
            "grid_auto_columns": null,
            "grid_auto_flow": null,
            "grid_auto_rows": null,
            "grid_column": null,
            "grid_gap": null,
            "grid_row": null,
            "grid_template_areas": null,
            "grid_template_columns": null,
            "grid_template_rows": null,
            "height": null,
            "justify_content": null,
            "justify_items": null,
            "left": null,
            "margin": null,
            "max_height": null,
            "max_width": null,
            "min_height": null,
            "min_width": null,
            "object_fit": null,
            "object_position": null,
            "order": null,
            "overflow": null,
            "overflow_x": null,
            "overflow_y": null,
            "padding": null,
            "right": null,
            "top": null,
            "visibility": null,
            "width": null
          }
        },
        "552fe7a06d114df8a53187226a25faa2": {
          "model_module": "@jupyter-widgets/controls",
          "model_name": "ProgressStyleModel",
          "model_module_version": "1.5.0",
          "state": {
            "_model_module": "@jupyter-widgets/controls",
            "_model_module_version": "1.5.0",
            "_model_name": "ProgressStyleModel",
            "_view_count": null,
            "_view_module": "@jupyter-widgets/base",
            "_view_module_version": "1.2.0",
            "_view_name": "StyleView",
            "bar_color": null,
            "description_width": ""
          }
        },
        "aa869301eb42409a880d3103d75bae8f": {
          "model_module": "@jupyter-widgets/base",
          "model_name": "LayoutModel",
          "model_module_version": "1.2.0",
          "state": {
            "_model_module": "@jupyter-widgets/base",
            "_model_module_version": "1.2.0",
            "_model_name": "LayoutModel",
            "_view_count": null,
            "_view_module": "@jupyter-widgets/base",
            "_view_module_version": "1.2.0",
            "_view_name": "LayoutView",
            "align_content": null,
            "align_items": null,
            "align_self": null,
            "border": null,
            "bottom": null,
            "display": null,
            "flex": null,
            "flex_flow": null,
            "grid_area": null,
            "grid_auto_columns": null,
            "grid_auto_flow": null,
            "grid_auto_rows": null,
            "grid_column": null,
            "grid_gap": null,
            "grid_row": null,
            "grid_template_areas": null,
            "grid_template_columns": null,
            "grid_template_rows": null,
            "height": null,
            "justify_content": null,
            "justify_items": null,
            "left": null,
            "margin": null,
            "max_height": null,
            "max_width": null,
            "min_height": null,
            "min_width": null,
            "object_fit": null,
            "object_position": null,
            "order": null,
            "overflow": null,
            "overflow_x": null,
            "overflow_y": null,
            "padding": null,
            "right": null,
            "top": null,
            "visibility": null,
            "width": null
          }
        },
        "bb76e5537a964ae2b28b4154fbf43c4a": {
          "model_module": "@jupyter-widgets/controls",
          "model_name": "DescriptionStyleModel",
          "model_module_version": "1.5.0",
          "state": {
            "_model_module": "@jupyter-widgets/controls",
            "_model_module_version": "1.5.0",
            "_model_name": "DescriptionStyleModel",
            "_view_count": null,
            "_view_module": "@jupyter-widgets/base",
            "_view_module_version": "1.2.0",
            "_view_name": "StyleView",
            "description_width": ""
          }
        },
        "58b7f703543f4093bebb5cb8ab3f311a": {
          "model_module": "@jupyter-widgets/controls",
          "model_name": "HBoxModel",
          "model_module_version": "1.5.0",
          "state": {
            "_dom_classes": [],
            "_model_module": "@jupyter-widgets/controls",
            "_model_module_version": "1.5.0",
            "_model_name": "HBoxModel",
            "_view_count": null,
            "_view_module": "@jupyter-widgets/controls",
            "_view_module_version": "1.5.0",
            "_view_name": "HBoxView",
            "box_style": "",
            "children": [
              "IPY_MODEL_6237b69b1d5b412b84d3e9d7fa64aef2",
              "IPY_MODEL_f416842f9a594d438fb9da118b102f5d",
              "IPY_MODEL_e617881604c745c9b5f9b039642e5aff"
            ],
            "layout": "IPY_MODEL_e5a9ade4a9284b0daa0ff1d8c48f9e8e"
          }
        },
        "6237b69b1d5b412b84d3e9d7fa64aef2": {
          "model_module": "@jupyter-widgets/controls",
          "model_name": "HTMLModel",
          "model_module_version": "1.5.0",
          "state": {
            "_dom_classes": [],
            "_model_module": "@jupyter-widgets/controls",
            "_model_module_version": "1.5.0",
            "_model_name": "HTMLModel",
            "_view_count": null,
            "_view_module": "@jupyter-widgets/controls",
            "_view_module_version": "1.5.0",
            "_view_name": "HTMLView",
            "description": "",
            "description_tooltip": null,
            "layout": "IPY_MODEL_779451cb3d43469d82a3c6437b616c70",
            "placeholder": "​",
            "style": "IPY_MODEL_3c9d37df5cff45368c7a7d89703d7e26",
            "value": "pytorch_model.bin: 100%"
          }
        },
        "f416842f9a594d438fb9da118b102f5d": {
          "model_module": "@jupyter-widgets/controls",
          "model_name": "FloatProgressModel",
          "model_module_version": "1.5.0",
          "state": {
            "_dom_classes": [],
            "_model_module": "@jupyter-widgets/controls",
            "_model_module_version": "1.5.0",
            "_model_name": "FloatProgressModel",
            "_view_count": null,
            "_view_module": "@jupyter-widgets/controls",
            "_view_module_version": "1.5.0",
            "_view_name": "ProgressView",
            "bar_style": "success",
            "description": "",
            "description_tooltip": null,
            "layout": "IPY_MODEL_ce70eb45973a40abb10500cd5984522f",
            "max": 1583451917,
            "min": 0,
            "orientation": "horizontal",
            "style": "IPY_MODEL_1f0bc7b3602a46b2bad4da17cc10a621",
            "value": 1583451917
          }
        },
        "e617881604c745c9b5f9b039642e5aff": {
          "model_module": "@jupyter-widgets/controls",
          "model_name": "HTMLModel",
          "model_module_version": "1.5.0",
          "state": {
            "_dom_classes": [],
            "_model_module": "@jupyter-widgets/controls",
            "_model_module_version": "1.5.0",
            "_model_name": "HTMLModel",
            "_view_count": null,
            "_view_module": "@jupyter-widgets/controls",
            "_view_module_version": "1.5.0",
            "_view_name": "HTMLView",
            "description": "",
            "description_tooltip": null,
            "layout": "IPY_MODEL_bf2bc27a4a2b45a588e82bfa263007b4",
            "placeholder": "​",
            "style": "IPY_MODEL_a3a9531f391542718c5e067d4c6695c5",
            "value": " 1.58G/1.58G [00:13&lt;00:00, 165MB/s]"
          }
        },
        "e5a9ade4a9284b0daa0ff1d8c48f9e8e": {
          "model_module": "@jupyter-widgets/base",
          "model_name": "LayoutModel",
          "model_module_version": "1.2.0",
          "state": {
            "_model_module": "@jupyter-widgets/base",
            "_model_module_version": "1.2.0",
            "_model_name": "LayoutModel",
            "_view_count": null,
            "_view_module": "@jupyter-widgets/base",
            "_view_module_version": "1.2.0",
            "_view_name": "LayoutView",
            "align_content": null,
            "align_items": null,
            "align_self": null,
            "border": null,
            "bottom": null,
            "display": null,
            "flex": null,
            "flex_flow": null,
            "grid_area": null,
            "grid_auto_columns": null,
            "grid_auto_flow": null,
            "grid_auto_rows": null,
            "grid_column": null,
            "grid_gap": null,
            "grid_row": null,
            "grid_template_areas": null,
            "grid_template_columns": null,
            "grid_template_rows": null,
            "height": null,
            "justify_content": null,
            "justify_items": null,
            "left": null,
            "margin": null,
            "max_height": null,
            "max_width": null,
            "min_height": null,
            "min_width": null,
            "object_fit": null,
            "object_position": null,
            "order": null,
            "overflow": null,
            "overflow_x": null,
            "overflow_y": null,
            "padding": null,
            "right": null,
            "top": null,
            "visibility": null,
            "width": null
          }
        },
        "779451cb3d43469d82a3c6437b616c70": {
          "model_module": "@jupyter-widgets/base",
          "model_name": "LayoutModel",
          "model_module_version": "1.2.0",
          "state": {
            "_model_module": "@jupyter-widgets/base",
            "_model_module_version": "1.2.0",
            "_model_name": "LayoutModel",
            "_view_count": null,
            "_view_module": "@jupyter-widgets/base",
            "_view_module_version": "1.2.0",
            "_view_name": "LayoutView",
            "align_content": null,
            "align_items": null,
            "align_self": null,
            "border": null,
            "bottom": null,
            "display": null,
            "flex": null,
            "flex_flow": null,
            "grid_area": null,
            "grid_auto_columns": null,
            "grid_auto_flow": null,
            "grid_auto_rows": null,
            "grid_column": null,
            "grid_gap": null,
            "grid_row": null,
            "grid_template_areas": null,
            "grid_template_columns": null,
            "grid_template_rows": null,
            "height": null,
            "justify_content": null,
            "justify_items": null,
            "left": null,
            "margin": null,
            "max_height": null,
            "max_width": null,
            "min_height": null,
            "min_width": null,
            "object_fit": null,
            "object_position": null,
            "order": null,
            "overflow": null,
            "overflow_x": null,
            "overflow_y": null,
            "padding": null,
            "right": null,
            "top": null,
            "visibility": null,
            "width": null
          }
        },
        "3c9d37df5cff45368c7a7d89703d7e26": {
          "model_module": "@jupyter-widgets/controls",
          "model_name": "DescriptionStyleModel",
          "model_module_version": "1.5.0",
          "state": {
            "_model_module": "@jupyter-widgets/controls",
            "_model_module_version": "1.5.0",
            "_model_name": "DescriptionStyleModel",
            "_view_count": null,
            "_view_module": "@jupyter-widgets/base",
            "_view_module_version": "1.2.0",
            "_view_name": "StyleView",
            "description_width": ""
          }
        },
        "ce70eb45973a40abb10500cd5984522f": {
          "model_module": "@jupyter-widgets/base",
          "model_name": "LayoutModel",
          "model_module_version": "1.2.0",
          "state": {
            "_model_module": "@jupyter-widgets/base",
            "_model_module_version": "1.2.0",
            "_model_name": "LayoutModel",
            "_view_count": null,
            "_view_module": "@jupyter-widgets/base",
            "_view_module_version": "1.2.0",
            "_view_name": "LayoutView",
            "align_content": null,
            "align_items": null,
            "align_self": null,
            "border": null,
            "bottom": null,
            "display": null,
            "flex": null,
            "flex_flow": null,
            "grid_area": null,
            "grid_auto_columns": null,
            "grid_auto_flow": null,
            "grid_auto_rows": null,
            "grid_column": null,
            "grid_gap": null,
            "grid_row": null,
            "grid_template_areas": null,
            "grid_template_columns": null,
            "grid_template_rows": null,
            "height": null,
            "justify_content": null,
            "justify_items": null,
            "left": null,
            "margin": null,
            "max_height": null,
            "max_width": null,
            "min_height": null,
            "min_width": null,
            "object_fit": null,
            "object_position": null,
            "order": null,
            "overflow": null,
            "overflow_x": null,
            "overflow_y": null,
            "padding": null,
            "right": null,
            "top": null,
            "visibility": null,
            "width": null
          }
        },
        "1f0bc7b3602a46b2bad4da17cc10a621": {
          "model_module": "@jupyter-widgets/controls",
          "model_name": "ProgressStyleModel",
          "model_module_version": "1.5.0",
          "state": {
            "_model_module": "@jupyter-widgets/controls",
            "_model_module_version": "1.5.0",
            "_model_name": "ProgressStyleModel",
            "_view_count": null,
            "_view_module": "@jupyter-widgets/base",
            "_view_module_version": "1.2.0",
            "_view_name": "StyleView",
            "bar_color": null,
            "description_width": ""
          }
        },
        "bf2bc27a4a2b45a588e82bfa263007b4": {
          "model_module": "@jupyter-widgets/base",
          "model_name": "LayoutModel",
          "model_module_version": "1.2.0",
          "state": {
            "_model_module": "@jupyter-widgets/base",
            "_model_module_version": "1.2.0",
            "_model_name": "LayoutModel",
            "_view_count": null,
            "_view_module": "@jupyter-widgets/base",
            "_view_module_version": "1.2.0",
            "_view_name": "LayoutView",
            "align_content": null,
            "align_items": null,
            "align_self": null,
            "border": null,
            "bottom": null,
            "display": null,
            "flex": null,
            "flex_flow": null,
            "grid_area": null,
            "grid_auto_columns": null,
            "grid_auto_flow": null,
            "grid_auto_rows": null,
            "grid_column": null,
            "grid_gap": null,
            "grid_row": null,
            "grid_template_areas": null,
            "grid_template_columns": null,
            "grid_template_rows": null,
            "height": null,
            "justify_content": null,
            "justify_items": null,
            "left": null,
            "margin": null,
            "max_height": null,
            "max_width": null,
            "min_height": null,
            "min_width": null,
            "object_fit": null,
            "object_position": null,
            "order": null,
            "overflow": null,
            "overflow_x": null,
            "overflow_y": null,
            "padding": null,
            "right": null,
            "top": null,
            "visibility": null,
            "width": null
          }
        },
        "a3a9531f391542718c5e067d4c6695c5": {
          "model_module": "@jupyter-widgets/controls",
          "model_name": "DescriptionStyleModel",
          "model_module_version": "1.5.0",
          "state": {
            "_model_module": "@jupyter-widgets/controls",
            "_model_module_version": "1.5.0",
            "_model_name": "DescriptionStyleModel",
            "_view_count": null,
            "_view_module": "@jupyter-widgets/base",
            "_view_module_version": "1.2.0",
            "_view_name": "StyleView",
            "description_width": ""
          }
        }
      }
    }
  },
  "cells": [
    {
      "cell_type": "markdown",
      "source": [
        "#**Chatbot Training and Response Generation with BART**"
      ],
      "metadata": {
        "id": "Lyh4wYJGyKyp"
      }
    },
    {
      "cell_type": "code",
      "execution_count": null,
      "metadata": {
        "colab": {
          "base_uri": "https://localhost:8080/"
        },
        "id": "YDlGWhIHosOn",
        "outputId": "c6aa2ca3-500b-4837-e8e7-b19e9d4d2213"
      },
      "outputs": [
        {
          "output_type": "stream",
          "name": "stdout",
          "text": [
            "Mounted at /content/drive\n"
          ]
        }
      ],
      "source": [
        "from google.colab import drive\n",
        "drive.mount('/content/drive')\n",
        "#/content/drive/MyDrive/"
      ]
    },
    {
      "cell_type": "code",
      "source": [
        "# !pip install transformers torch pandas"
      ],
      "metadata": {
        "id": "y4pC7LH-ovAe"
      },
      "execution_count": null,
      "outputs": []
    },
    {
      "cell_type": "code",
      "source": [
        "# # !pip install transformers[torch] vncorenlp\n",
        "# !pip install datasets"
      ],
      "metadata": {
        "id": "vn2rbmkdYi6h"
      },
      "execution_count": null,
      "outputs": []
    },
    {
      "cell_type": "code",
      "source": [
        "# pip install transformers --upgrade"
      ],
      "metadata": {
        "id": "dTYV5WilfITg"
      },
      "execution_count": null,
      "outputs": []
    },
    {
      "cell_type": "markdown",
      "source": [
        "## 1. Importing Libraries and Setting Up the Environment"
      ],
      "metadata": {
        "id": "M21njJA8ya3r"
      }
    },
    {
      "cell_type": "code",
      "source": [
        "import torch\n",
        "import torch.nn as nn\n",
        "from torch.utils.data import Dataset, DataLoader\n",
        "from transformers import BartphoTokenizer, BartForConditionalGeneration, AdamW\n",
        "from sklearn.metrics.pairwise import cosine_similarity\n",
        "import numpy as np\n",
        "from tqdm import tqdm\n",
        "import logging\n",
        "import pandas as pd\n",
        "from sklearn.decomposition import PCA\n",
        "import tensorflow as tf\n",
        "from nltk import ngrams\n",
        "from sklearn.feature_extraction.text import CountVectorizer\n",
        "\n",
        "#import for cbow\n",
        "from gensim.models import Word2Vec\n",
        "from gensim.utils import simple_preprocess\n",
        "from nltk.tokenize import word_tokenize\n",
        "import nltk\n",
        "nltk.download('punkt')"
      ],
      "metadata": {
        "id": "b1C7mTBzovHW",
        "colab": {
          "base_uri": "https://localhost:8080/"
        },
        "outputId": "4407a1b6-f00e-4398-86ef-f0cee3536a21"
      },
      "execution_count": null,
      "outputs": [
        {
          "output_type": "stream",
          "name": "stderr",
          "text": [
            "[nltk_data] Downloading package punkt to /root/nltk_data...\n",
            "[nltk_data]   Unzipping tokenizers/punkt.zip.\n"
          ]
        },
        {
          "output_type": "execute_result",
          "data": {
            "text/plain": [
              "True"
            ]
          },
          "metadata": {},
          "execution_count": 5
        }
      ]
    },
    {
      "cell_type": "code",
      "source": [
        "# Setup logging\n",
        "logging.basicConfig(level=logging.INFO)"
      ],
      "metadata": {
        "id": "h-8fuaniyhNO"
      },
      "execution_count": null,
      "outputs": []
    },
    {
      "cell_type": "code",
      "source": [
        "# Device configuration\n",
        "device = torch.device(\"cuda\" if torch.cuda.is_available() else \"cpu\")"
      ],
      "metadata": {
        "id": "jYvFi31mlgo7"
      },
      "execution_count": null,
      "outputs": []
    },
    {
      "cell_type": "code",
      "source": [
        "# device = torch.device(\"cpu\")"
      ],
      "metadata": {
        "id": "VAK4A1gBo5bZ"
      },
      "execution_count": null,
      "outputs": []
    },
    {
      "cell_type": "markdown",
      "source": [
        "## 2. Loading Pretrained BART Model and Tokenizer"
      ],
      "metadata": {
        "id": "_69weJxPK1W8"
      }
    },
    {
      "cell_type": "code",
      "source": [
        "# Load BARTpho tokenizer and model\n",
        "model_name = 'vinai/bartpho-syllable'\n",
        "\n",
        "try:\n",
        "    # Use BartphoTokenizer for BARTpho models\n",
        "    tokenizer = BartphoTokenizer.from_pretrained(model_name)\n",
        "    model = BartForConditionalGeneration.from_pretrained(model_name).to(device)\n",
        "    print(\"Model and tokenizer loaded successfully.\")\n",
        "except Exception as e:\n",
        "    print(f\"An error occurred while loading the model: {e}\")\n",
        "    raise e"
      ],
      "metadata": {
        "colab": {
          "base_uri": "https://localhost:8080/",
          "height": 371,
          "referenced_widgets": [
            "02522fc8b042475f9e81ca973ff869a8",
            "b340e8e4a8c644e598e028775a74a71a",
            "e5887e57afaa415eb74433dfac2b3915",
            "d68b9f9f1e03465ab02bc7c2733437ff",
            "e5be86bc7eca43c2b6d2f7b1a20951bd",
            "bead164c196b4c2b9319bb6134dc2b8a",
            "86a6340e5db848f2a68eab7e5e06a9ae",
            "3bc690d4eded4e02a70c537de2289478",
            "c1236b542ef843d28d8366e4f087f818",
            "5ec0d84b132d4c7a8462b52818268c61",
            "5ad5c5f1efa04b8e996ee4cef60cc5ab",
            "45e1b9ee0f9d460284412943d2e63895",
            "9207c814236644cab4a146b45ff6e300",
            "b5c9beab70fc45d6af46e08544e07cf4",
            "aa7738d36ed04470b1886bfc398e4a96",
            "d350c05d118541c9ac40a7e73f3bd621",
            "2b6745c701bf4f0e8922763a6f16b0c9",
            "edc8fb52365d4884ae97ec045409d132",
            "1341d4e8efd245bc96d221db765276fe",
            "d7b765fa7dc64b8f853b517c4eb3fd2f",
            "029ddf7c98f74813934d33ab12006d74",
            "71c316db57fb40cd8818f8ccc744d1ca",
            "431848087d9341729a97adf2f4e125ca",
            "4e832996861545308db6288be0e54c2f",
            "b471174526ac45b6b81dfb89ec40a595",
            "def957e9fb0a40078a3cbe3777ba76fd",
            "1466eef996a245788f45470218e19059",
            "f90220670eb945ec9904cfbb5b240e93",
            "2911de367daa4c9ca69c721341a533bb",
            "f3215e9ddc8446b38d09915e83ad0a4e",
            "74d13c0872cf4828beac7f677407f0c6",
            "1d80fe3e9ffc4b39b00fafe0d8b0e837",
            "64271a6070c94b79b10d94542d9c05ce",
            "66e1c101237d4fb0aaf73d7a1ef0d0f7",
            "d414568ca7354a35a008344f2fd40c59",
            "4bf461f54d5148089c7bc05f682e7c8e",
            "fc3ea6eddeb64160b5ab26c15ceea3c0",
            "81f1cc1ba2fa43e0ac50985d2823cd33",
            "d0892b2f7af243cd95d8f98394eb33f0",
            "bb0d75780ce7429a89e356f02f1e4b12",
            "27d3a3b1d88a4b3a8de85e1c5fe13ef1",
            "552fe7a06d114df8a53187226a25faa2",
            "aa869301eb42409a880d3103d75bae8f",
            "bb76e5537a964ae2b28b4154fbf43c4a",
            "58b7f703543f4093bebb5cb8ab3f311a",
            "6237b69b1d5b412b84d3e9d7fa64aef2",
            "f416842f9a594d438fb9da118b102f5d",
            "e617881604c745c9b5f9b039642e5aff",
            "e5a9ade4a9284b0daa0ff1d8c48f9e8e",
            "779451cb3d43469d82a3c6437b616c70",
            "3c9d37df5cff45368c7a7d89703d7e26",
            "ce70eb45973a40abb10500cd5984522f",
            "1f0bc7b3602a46b2bad4da17cc10a621",
            "bf2bc27a4a2b45a588e82bfa263007b4",
            "a3a9531f391542718c5e067d4c6695c5"
          ]
        },
        "id": "qhZCZ1pwK2fW",
        "outputId": "804e029a-fd6b-4b35-ce54-142b9190733e"
      },
      "execution_count": null,
      "outputs": [
        {
          "output_type": "stream",
          "name": "stderr",
          "text": [
            "/usr/local/lib/python3.10/dist-packages/huggingface_hub/utils/_token.py:89: UserWarning: \n",
            "The secret `HF_TOKEN` does not exist in your Colab secrets.\n",
            "To authenticate with the Hugging Face Hub, create a token in your settings tab (https://huggingface.co/settings/tokens), set it as secret in your Google Colab and restart your session.\n",
            "You will be able to reuse this secret in all of your notebooks.\n",
            "Please note that authentication is recommended but still optional to access public models or datasets.\n",
            "  warnings.warn(\n"
          ]
        },
        {
          "output_type": "display_data",
          "data": {
            "text/plain": [
              "sentencepiece.bpe.model:   0%|          | 0.00/5.07M [00:00<?, ?B/s]"
            ],
            "application/vnd.jupyter.widget-view+json": {
              "version_major": 2,
              "version_minor": 0,
              "model_id": "02522fc8b042475f9e81ca973ff869a8"
            }
          },
          "metadata": {}
        },
        {
          "output_type": "display_data",
          "data": {
            "text/plain": [
              "dict.txt:   0%|          | 0.00/360k [00:00<?, ?B/s]"
            ],
            "application/vnd.jupyter.widget-view+json": {
              "version_major": 2,
              "version_minor": 0,
              "model_id": "45e1b9ee0f9d460284412943d2e63895"
            }
          },
          "metadata": {}
        },
        {
          "output_type": "display_data",
          "data": {
            "text/plain": [
              "tokenizer.json:   0%|          | 0.00/2.83M [00:00<?, ?B/s]"
            ],
            "application/vnd.jupyter.widget-view+json": {
              "version_major": 2,
              "version_minor": 0,
              "model_id": "431848087d9341729a97adf2f4e125ca"
            }
          },
          "metadata": {}
        },
        {
          "output_type": "display_data",
          "data": {
            "text/plain": [
              "config.json:   0%|          | 0.00/897 [00:00<?, ?B/s]"
            ],
            "application/vnd.jupyter.widget-view+json": {
              "version_major": 2,
              "version_minor": 0,
              "model_id": "66e1c101237d4fb0aaf73d7a1ef0d0f7"
            }
          },
          "metadata": {}
        },
        {
          "output_type": "stream",
          "name": "stderr",
          "text": [
            "/usr/local/lib/python3.10/dist-packages/transformers/tokenization_utils_base.py:1601: FutureWarning: `clean_up_tokenization_spaces` was not set. It will be set to `True` by default. This behavior will be depracted in transformers v4.45, and will be then set to `False` by default. For more details check this issue: https://github.com/huggingface/transformers/issues/31884\n",
            "  warnings.warn(\n",
            "You are using a model of type mbart to instantiate a model of type bart. This is not supported for all configurations of models and can yield errors.\n"
          ]
        },
        {
          "output_type": "display_data",
          "data": {
            "text/plain": [
              "pytorch_model.bin:   0%|          | 0.00/1.58G [00:00<?, ?B/s]"
            ],
            "application/vnd.jupyter.widget-view+json": {
              "version_major": 2,
              "version_minor": 0,
              "model_id": "58b7f703543f4093bebb5cb8ab3f311a"
            }
          },
          "metadata": {}
        },
        {
          "output_type": "stream",
          "name": "stdout",
          "text": [
            "Model and tokenizer loaded successfully.\n"
          ]
        }
      ]
    },
    {
      "cell_type": "markdown",
      "source": [
        "## 3. Defining Hyperparameters"
      ],
      "metadata": {
        "id": "Ov23D06LzwAz"
      }
    },
    {
      "cell_type": "code",
      "source": [
        "# Hyperparameters\n",
        "batch_size = 16\n",
        "gradient_accumulation_steps = 4\n",
        "learning_rate = 5e-5\n",
        "num_epochs = 6\n",
        "warmup_steps = 100\n",
        "max_length = 1024"
      ],
      "metadata": {
        "id": "6tkRHPp5zwg4"
      },
      "execution_count": null,
      "outputs": []
    },
    {
      "cell_type": "markdown",
      "source": [
        "## 4. Dataset for Demonstration"
      ],
      "metadata": {
        "id": "241mqPVHptpy"
      }
    },
    {
      "cell_type": "code",
      "source": [
        "# Đọc dữ liệu từ file CSV hoặc JSON\n",
        "df = pd.read_csv('/content/drive/MyDrive/ChatBox/data/processed_medical.csv')  # Thay đổi đường dẫn đến tập dữ liệu của bạn\n",
        "\n",
        "# Kiểm tra dữ liệu\n",
        "df.head()\n",
        "\n",
        "#Dùng tf-idf giảm những ý không quan trọng\n"
      ],
      "metadata": {
        "colab": {
          "base_uri": "https://localhost:8080/",
          "height": 957
        },
        "id": "K9nYn92FovKX",
        "outputId": "55803c96-5fc4-47c6-e9ed-ae6eed46f042"
      },
      "execution_count": null,
      "outputs": [
        {
          "output_type": "execute_result",
          "data": {
            "text/plain": [
              "                                               Title  \\\n",
              "0       rào_cản tự_nhiên chống lại nhiễm_trùng về da   \n",
              "1  rào_cản tự_nhiên chống lại nhiễm_trùng về niêm...   \n",
              "2  rào_cản tự_nhiên chống lại nhiễm_trùng về đườn...   \n",
              "3  rào_cản tự_nhiên chống lại nhiễm_trùng về đườn...   \n",
              "4  rào_cản tự_nhiên chống lại nhiễm_trùng về đườn...   \n",
              "\n",
              "                                    Detailed Content  \\\n",
              "0  da thường chặn các vi_sinh_vật xâm_nhập trừ kh...   \n",
              "1  nhiều màng_nhầy ngập trong chất tiết có đặc_tí...   \n",
              "2  đường hô_hấp có các hệ_thống lọc đường thở trê...   \n",
              "3  các rào_cản trong đường tiêu_hóa bao_gồm ph ac...   \n",
              "4  các rào_cản về đường sinh_dục tiết_niệu bao_gồ...   \n",
              "\n",
              "                                      Reference Link  \n",
              "0  https://www.msdmanuals.com/vi-vn/professional/...  \n",
              "1  https://www.msdmanuals.com/vi-vn/professional/...  \n",
              "2  https://www.msdmanuals.com/vi-vn/professional/...  \n",
              "3  https://www.msdmanuals.com/vi-vn/professional/...  \n",
              "4  https://www.msdmanuals.com/vi-vn/professional/...  "
            ],
            "text/html": [
              "\n",
              "  <div id=\"df-ed8f524a-dfa3-4f17-9684-c370ce6c22cf\" class=\"colab-df-container\">\n",
              "    <div>\n",
              "<style scoped>\n",
              "    .dataframe tbody tr th:only-of-type {\n",
              "        vertical-align: middle;\n",
              "    }\n",
              "\n",
              "    .dataframe tbody tr th {\n",
              "        vertical-align: top;\n",
              "    }\n",
              "\n",
              "    .dataframe thead th {\n",
              "        text-align: right;\n",
              "    }\n",
              "</style>\n",
              "<table border=\"1\" class=\"dataframe\">\n",
              "  <thead>\n",
              "    <tr style=\"text-align: right;\">\n",
              "      <th></th>\n",
              "      <th>Title</th>\n",
              "      <th>Detailed Content</th>\n",
              "      <th>Reference Link</th>\n",
              "    </tr>\n",
              "  </thead>\n",
              "  <tbody>\n",
              "    <tr>\n",
              "      <th>0</th>\n",
              "      <td>rào_cản tự_nhiên chống lại nhiễm_trùng về da</td>\n",
              "      <td>da thường chặn các vi_sinh_vật xâm_nhập trừ kh...</td>\n",
              "      <td>https://www.msdmanuals.com/vi-vn/professional/...</td>\n",
              "    </tr>\n",
              "    <tr>\n",
              "      <th>1</th>\n",
              "      <td>rào_cản tự_nhiên chống lại nhiễm_trùng về niêm...</td>\n",
              "      <td>nhiều màng_nhầy ngập trong chất tiết có đặc_tí...</td>\n",
              "      <td>https://www.msdmanuals.com/vi-vn/professional/...</td>\n",
              "    </tr>\n",
              "    <tr>\n",
              "      <th>2</th>\n",
              "      <td>rào_cản tự_nhiên chống lại nhiễm_trùng về đườn...</td>\n",
              "      <td>đường hô_hấp có các hệ_thống lọc đường thở trê...</td>\n",
              "      <td>https://www.msdmanuals.com/vi-vn/professional/...</td>\n",
              "    </tr>\n",
              "    <tr>\n",
              "      <th>3</th>\n",
              "      <td>rào_cản tự_nhiên chống lại nhiễm_trùng về đườn...</td>\n",
              "      <td>các rào_cản trong đường tiêu_hóa bao_gồm ph ac...</td>\n",
              "      <td>https://www.msdmanuals.com/vi-vn/professional/...</td>\n",
              "    </tr>\n",
              "    <tr>\n",
              "      <th>4</th>\n",
              "      <td>rào_cản tự_nhiên chống lại nhiễm_trùng về đườn...</td>\n",
              "      <td>các rào_cản về đường sinh_dục tiết_niệu bao_gồ...</td>\n",
              "      <td>https://www.msdmanuals.com/vi-vn/professional/...</td>\n",
              "    </tr>\n",
              "  </tbody>\n",
              "</table>\n",
              "</div>\n",
              "    <div class=\"colab-df-buttons\">\n",
              "\n",
              "  <div class=\"colab-df-container\">\n",
              "    <button class=\"colab-df-convert\" onclick=\"convertToInteractive('df-ed8f524a-dfa3-4f17-9684-c370ce6c22cf')\"\n",
              "            title=\"Convert this dataframe to an interactive table.\"\n",
              "            style=\"display:none;\">\n",
              "\n",
              "  <svg xmlns=\"http://www.w3.org/2000/svg\" height=\"24px\" viewBox=\"0 -960 960 960\">\n",
              "    <path d=\"M120-120v-720h720v720H120Zm60-500h600v-160H180v160Zm220 220h160v-160H400v160Zm0 220h160v-160H400v160ZM180-400h160v-160H180v160Zm440 0h160v-160H620v160ZM180-180h160v-160H180v160Zm440 0h160v-160H620v160Z\"/>\n",
              "  </svg>\n",
              "    </button>\n",
              "\n",
              "  <style>\n",
              "    .colab-df-container {\n",
              "      display:flex;\n",
              "      gap: 12px;\n",
              "    }\n",
              "\n",
              "    .colab-df-convert {\n",
              "      background-color: #E8F0FE;\n",
              "      border: none;\n",
              "      border-radius: 50%;\n",
              "      cursor: pointer;\n",
              "      display: none;\n",
              "      fill: #1967D2;\n",
              "      height: 32px;\n",
              "      padding: 0 0 0 0;\n",
              "      width: 32px;\n",
              "    }\n",
              "\n",
              "    .colab-df-convert:hover {\n",
              "      background-color: #E2EBFA;\n",
              "      box-shadow: 0px 1px 2px rgba(60, 64, 67, 0.3), 0px 1px 3px 1px rgba(60, 64, 67, 0.15);\n",
              "      fill: #174EA6;\n",
              "    }\n",
              "\n",
              "    .colab-df-buttons div {\n",
              "      margin-bottom: 4px;\n",
              "    }\n",
              "\n",
              "    [theme=dark] .colab-df-convert {\n",
              "      background-color: #3B4455;\n",
              "      fill: #D2E3FC;\n",
              "    }\n",
              "\n",
              "    [theme=dark] .colab-df-convert:hover {\n",
              "      background-color: #434B5C;\n",
              "      box-shadow: 0px 1px 3px 1px rgba(0, 0, 0, 0.15);\n",
              "      filter: drop-shadow(0px 1px 2px rgba(0, 0, 0, 0.3));\n",
              "      fill: #FFFFFF;\n",
              "    }\n",
              "  </style>\n",
              "\n",
              "    <script>\n",
              "      const buttonEl =\n",
              "        document.querySelector('#df-ed8f524a-dfa3-4f17-9684-c370ce6c22cf button.colab-df-convert');\n",
              "      buttonEl.style.display =\n",
              "        google.colab.kernel.accessAllowed ? 'block' : 'none';\n",
              "\n",
              "      async function convertToInteractive(key) {\n",
              "        const element = document.querySelector('#df-ed8f524a-dfa3-4f17-9684-c370ce6c22cf');\n",
              "        const dataTable =\n",
              "          await google.colab.kernel.invokeFunction('convertToInteractive',\n",
              "                                                    [key], {});\n",
              "        if (!dataTable) return;\n",
              "\n",
              "        const docLinkHtml = 'Like what you see? Visit the ' +\n",
              "          '<a target=\"_blank\" href=https://colab.research.google.com/notebooks/data_table.ipynb>data table notebook</a>'\n",
              "          + ' to learn more about interactive tables.';\n",
              "        element.innerHTML = '';\n",
              "        dataTable['output_type'] = 'display_data';\n",
              "        await google.colab.output.renderOutput(dataTable, element);\n",
              "        const docLink = document.createElement('div');\n",
              "        docLink.innerHTML = docLinkHtml;\n",
              "        element.appendChild(docLink);\n",
              "      }\n",
              "    </script>\n",
              "  </div>\n",
              "\n",
              "\n",
              "<div id=\"df-bd53d60d-5512-497d-846c-a2c94af04348\">\n",
              "  <button class=\"colab-df-quickchart\" onclick=\"quickchart('df-bd53d60d-5512-497d-846c-a2c94af04348')\"\n",
              "            title=\"Suggest charts\"\n",
              "            style=\"display:none;\">\n",
              "\n",
              "<svg xmlns=\"http://www.w3.org/2000/svg\" height=\"24px\"viewBox=\"0 0 24 24\"\n",
              "     width=\"24px\">\n",
              "    <g>\n",
              "        <path d=\"M19 3H5c-1.1 0-2 .9-2 2v14c0 1.1.9 2 2 2h14c1.1 0 2-.9 2-2V5c0-1.1-.9-2-2-2zM9 17H7v-7h2v7zm4 0h-2V7h2v10zm4 0h-2v-4h2v4z\"/>\n",
              "    </g>\n",
              "</svg>\n",
              "  </button>\n",
              "\n",
              "<style>\n",
              "  .colab-df-quickchart {\n",
              "      --bg-color: #E8F0FE;\n",
              "      --fill-color: #1967D2;\n",
              "      --hover-bg-color: #E2EBFA;\n",
              "      --hover-fill-color: #174EA6;\n",
              "      --disabled-fill-color: #AAA;\n",
              "      --disabled-bg-color: #DDD;\n",
              "  }\n",
              "\n",
              "  [theme=dark] .colab-df-quickchart {\n",
              "      --bg-color: #3B4455;\n",
              "      --fill-color: #D2E3FC;\n",
              "      --hover-bg-color: #434B5C;\n",
              "      --hover-fill-color: #FFFFFF;\n",
              "      --disabled-bg-color: #3B4455;\n",
              "      --disabled-fill-color: #666;\n",
              "  }\n",
              "\n",
              "  .colab-df-quickchart {\n",
              "    background-color: var(--bg-color);\n",
              "    border: none;\n",
              "    border-radius: 50%;\n",
              "    cursor: pointer;\n",
              "    display: none;\n",
              "    fill: var(--fill-color);\n",
              "    height: 32px;\n",
              "    padding: 0;\n",
              "    width: 32px;\n",
              "  }\n",
              "\n",
              "  .colab-df-quickchart:hover {\n",
              "    background-color: var(--hover-bg-color);\n",
              "    box-shadow: 0 1px 2px rgba(60, 64, 67, 0.3), 0 1px 3px 1px rgba(60, 64, 67, 0.15);\n",
              "    fill: var(--button-hover-fill-color);\n",
              "  }\n",
              "\n",
              "  .colab-df-quickchart-complete:disabled,\n",
              "  .colab-df-quickchart-complete:disabled:hover {\n",
              "    background-color: var(--disabled-bg-color);\n",
              "    fill: var(--disabled-fill-color);\n",
              "    box-shadow: none;\n",
              "  }\n",
              "\n",
              "  .colab-df-spinner {\n",
              "    border: 2px solid var(--fill-color);\n",
              "    border-color: transparent;\n",
              "    border-bottom-color: var(--fill-color);\n",
              "    animation:\n",
              "      spin 1s steps(1) infinite;\n",
              "  }\n",
              "\n",
              "  @keyframes spin {\n",
              "    0% {\n",
              "      border-color: transparent;\n",
              "      border-bottom-color: var(--fill-color);\n",
              "      border-left-color: var(--fill-color);\n",
              "    }\n",
              "    20% {\n",
              "      border-color: transparent;\n",
              "      border-left-color: var(--fill-color);\n",
              "      border-top-color: var(--fill-color);\n",
              "    }\n",
              "    30% {\n",
              "      border-color: transparent;\n",
              "      border-left-color: var(--fill-color);\n",
              "      border-top-color: var(--fill-color);\n",
              "      border-right-color: var(--fill-color);\n",
              "    }\n",
              "    40% {\n",
              "      border-color: transparent;\n",
              "      border-right-color: var(--fill-color);\n",
              "      border-top-color: var(--fill-color);\n",
              "    }\n",
              "    60% {\n",
              "      border-color: transparent;\n",
              "      border-right-color: var(--fill-color);\n",
              "    }\n",
              "    80% {\n",
              "      border-color: transparent;\n",
              "      border-right-color: var(--fill-color);\n",
              "      border-bottom-color: var(--fill-color);\n",
              "    }\n",
              "    90% {\n",
              "      border-color: transparent;\n",
              "      border-bottom-color: var(--fill-color);\n",
              "    }\n",
              "  }\n",
              "</style>\n",
              "\n",
              "  <script>\n",
              "    async function quickchart(key) {\n",
              "      const quickchartButtonEl =\n",
              "        document.querySelector('#' + key + ' button');\n",
              "      quickchartButtonEl.disabled = true;  // To prevent multiple clicks.\n",
              "      quickchartButtonEl.classList.add('colab-df-spinner');\n",
              "      try {\n",
              "        const charts = await google.colab.kernel.invokeFunction(\n",
              "            'suggestCharts', [key], {});\n",
              "      } catch (error) {\n",
              "        console.error('Error during call to suggestCharts:', error);\n",
              "      }\n",
              "      quickchartButtonEl.classList.remove('colab-df-spinner');\n",
              "      quickchartButtonEl.classList.add('colab-df-quickchart-complete');\n",
              "    }\n",
              "    (() => {\n",
              "      let quickchartButtonEl =\n",
              "        document.querySelector('#df-bd53d60d-5512-497d-846c-a2c94af04348 button');\n",
              "      quickchartButtonEl.style.display =\n",
              "        google.colab.kernel.accessAllowed ? 'block' : 'none';\n",
              "    })();\n",
              "  </script>\n",
              "</div>\n",
              "\n",
              "    </div>\n",
              "  </div>\n"
            ],
            "application/vnd.google.colaboratory.intrinsic+json": {
              "type": "dataframe",
              "variable_name": "df",
              "summary": "{\n  \"name\": \"df\",\n  \"rows\": 12488,\n  \"fields\": [\n    {\n      \"column\": \"Title\",\n      \"properties\": {\n        \"dtype\": \"string\",\n        \"num_unique_values\": 11756,\n        \"samples\": [\n          \"ch\\u1ea9n_\\u0111o\\u00e1n sle v\\u1ec1 b\\u1ec7nh th\\u1eadn theo sinh_thi\\u1ebft\",\n          \"nguy\\u00ean_nh\\u00e2n u \\u1edf mi\\u1ec7ng v\\u1ec1 b\\u1ea1ch_s\\u1ea3n\",\n          \"\\u0111i\\u1ec1u_tr\\u1ecb ch\\u1ee9ng ti\\u1ec3u_ti\\u1ec7n kh\\u00f4ng t\\u1ef1_ch\\u1ee7 \\u1edf ng\\u01b0\\u1eddi_l\\u1edbn v\\u1ec1 ph\\u1eabu_thu\\u1eadt v\\u00e0 c\\u00e1c ph\\u01b0\\u01a1ng_ph\\u00e1p kh\\u00e1c\"\n        ],\n        \"semantic_type\": \"\",\n        \"description\": \"\"\n      }\n    },\n    {\n      \"column\": \"Detailed Content\",\n      \"properties\": {\n        \"dtype\": \"string\",\n        \"num_unique_values\": 12488,\n        \"samples\": [\n          \"m\\u1ed9t_khi nhi\\u1ec5m hiv \\u0111\\u01b0\\u1ee3c ch\\u1ea9n_\\u0111o\\u00e1n c\\u00e1c x\\u00e9t_nghi\\u1ec7m kh\\u00e1c \\u0111\\u01b0\\u1ee3c th\\u1ef1c_hi\\u1ec7n s\\u1ed1_l\\u01b0\\u1ee3ng t\\u1ebf_b\\u00e0o t cd4 s\\u1ed1_l\\u01b0\\u1ee3ng t\\u1ebf_b\\u00e0o t cd8 n\\u1ed3ng_\\u0111\\u1ed9 rna virut trong huy\\u1ebft_t\\u01b0\\u01a1ng tr\\u1ebb_em b\\u1ecb nhi\\u1ec5m_b\\u1ec7nh c\\u1ea7n ph\\u1ea3i \\u0111\\u1ebfm s\\u1ed1 t\\u1ebf_b\\u00e0o t cd4 v\\u00e0 cd8 v\\u00e0 n\\u1ed3ng_\\u0111\\u1ed9 rna virut huy\\u1ebft_t\\u01b0\\u01a1ng t\\u1ea3i l\\u01b0\\u1ee3ng virus \\u0111\\u1ec3 x\\u00e1c_\\u0111\\u1ecbnh m\\u1ee9c_\\u0111\\u1ed9 b\\u1ec7nh ti\\u00ean_l\\u01b0\\u1ee3ng v\\u00e0 hi\\u1ec7u_qu\\u1ea3 \\u0111i\\u1ec1u_tr\\u1ecb s\\u1ed1_l\\u01b0\\u1ee3ng cd4 c\\u00f3_th\\u1ec3 b\\u00ecnh_th\\u01b0\\u1eddng v\\u00ed_d\\u1ee5 tr\\u00ean ng\\u01b0\\u1ee1ng gi\\u1edbi_h\\u1ea1n theo tu\\u1ed5i c\\u1ee5_th\\u1ec3 c\\u1ee7a lo\\u1ea1i 1 trong b\\u1ea3ng ph\\u00e2n_lo\\u1ea1i mi\\u1ec5n_d\\u1ecbch c\\u00e1c giai_\\u0111o\\u1ea1n nhi\\u1ec5m hiv cho tr\\u1ebb_em 13 tu\\u1ed5i b\\u1ecb nhi\\u1ec5m hiv d\\u1ef1a tr\\u00ean s\\u1ed1_l\\u01b0\\u1ee3ng ho\\u1eb7c t\\u1ef7_l\\u1ec7 ph\\u1ea7n_tr\\u0103m t\\u1ebf_b\\u00e0o t cd4 c\\u1ee5_th\\u1ec3 theo tu\\u1ed5i ban_\\u0111\\u1ea7u nh\\u01b0ng gi\\u1ea3m sau_c\\u00f9ng cd8 th\\u01b0\\u1eddng t\\u0103ng l\\u00ean ban_\\u0111\\u1ea7u v\\u00e0 th\\u01b0\\u1eddng kh\\u00f4ng gi\\u1ea3m cho \\u0111\\u1ebfn giai_\\u0111o\\u1ea1n mu\\u1ed9n c\\u1ee7a nhi\\u1ec5m hiv nh\\u1eefng thay_\\u0111\\u1ed5i n\\u00e0y trong qu\\u1ea7n_th\\u1ec3 t\\u1ebf_b\\u00e0o l\\u00e0m gi\\u1ea3m t\\u1ec9_s\\u1ed1 cd4 cd8 m\\u1ed9t \\u0111\\u1eb7c_tr\\u01b0ng c\\u1ee7a nhi\\u1ec5m hiv m\\u1eb7c_d\\u00f9 \\u0111\\u00f4i_khi x\\u1ea3y ra \\u1edf c\\u00e1c b\\u1ec7nh nhi\\u1ec5m_tr\\u00f9ng kh\\u00e1c n\\u1ed3ng_\\u0111\\u1ed9 rna virus trong huy\\u1ebft_t\\u01b0\\u01a1ng \\u1edf tr\\u1ebb kh\\u00f4ng \\u0111\\u01b0\\u1ee3c \\u0111i\\u1ec1u_tr\\u1ecb 12 th\\u00e1ng tu\\u1ed5i th\\u01b0\\u1eddng r\\u1ea5t cao trung_b\\u00ecnh kho\\u1ea3ng 200000 b\\u1ea3n_sao rna ml v\\u00e0o_kho\\u1ea3ng 24 th\\u00e1ng tu\\u1ed5i n\\u1ed3ng_\\u0111\\u1ed9 virus \\u1edf tr\\u1ebb kh\\u00f4ng \\u0111\\u01b0\\u1ee3c \\u0111i\\u1ec1u_tr\\u1ecb gi\\u1ea3m trung_b\\u00ecnh kho\\u1ea3ng 40000 b\\u1ea3n_sao rna ml m\\u1eb7c_d\\u00f9 kho\\u1ea3ng n\\u1ed3ng_\\u0111\\u1ed9 rna c\\u1ee7a hiv r\\u1ed9ng \\u1edf tr\\u1ebb_em l\\u00e0m cho c\\u00e1c d\\u1eef_li\\u1ec7u \\u00edt c\\u00f3 kh\\u1ea3_n\\u0103ng d\\u1ef1_\\u0111o\\u00e1n v\\u1ec1 b\\u1ec7nh_t\\u1eadt v\\u00e0 t\\u1eed_vong h\\u01a1n \\u1edf ng\\u01b0\\u1eddi_l\\u1edbn vi\\u1ec7c x\\u00e1c_\\u0111\\u1ecbnh n\\u1ed3ng_\\u0111\\u1ed9 virus trong huy\\u1ebft_t\\u01b0\\u01a1ng k\\u1ebft_h\\u1ee3p v\\u1edbi s\\u1ed1_l\\u01b0\\u1ee3ng cd4 v\\u1eabn mang l\\u1ea1i th\\u00f4ng_tin ti\\u00ean_l\\u01b0\\u1ee3ng ch\\u00ednh_x\\u00e1c h\\u01a1n so v\\u1edbi vi\\u1ec7c x\\u00e1c_\\u0111\\u1ecbnh ch\\u1ec9 m\\u1ed9t marker c\\u00e1c ch\\u1ea5t ch\\u1ec9_\\u0111i\\u1ec3m thay_th\\u1ebf kh\\u00e1c \\u00edt t\\u1ed1n_k\\u00e9m h\\u01a1n nh\\u01b0 l\\u00e0 t\\u1ed5ng_s\\u1ed1_l\\u01b0\\u1ee3ng b\\u1ea1ch_c\\u1ea7u lympho v\\u00e0 n\\u1ed3ng_\\u0111\\u1ed9 albumin huy\\u1ebft_thanh c\\u0169ng c\\u00f3_th\\u1ec3 d\\u1ef1_\\u0111o\\u00e1n t\\u1ef7_l\\u1ec7 t\\u1eed_vong do aids \\u1edf tr\\u1ebb_em \\u0111i\\u1ec1u n\\u00e0y c\\u00f3_th\\u1ec3 h\\u1eefu_\\u00edch \\u1edf nh\\u1eefng n\\u01a1i kh\\u00f4ng c\\u00f3 x\\u00e9t_nghi\\u1ec7m ph\\u1ee9c_t\\u1ea1p h\\u01a1n m\\u1eb7c_d\\u00f9 kh\\u00f4ng \\u0111\\u01b0\\u1ee3c \\u0111o_l\\u01b0\\u1eddng th\\u01b0\\u1eddng quy nh\\u01b0ng n\\u1ed3ng_\\u0111\\u1ed9 globulin mi\\u1ec5n_d\\u1ecbch huy\\u1ebft_thanh \\u0111\\u1eb7c_bi\\u1ec7t l\\u00e0 igg v\\u00e0 iga th\\u01b0\\u1eddng t\\u0103ng l\\u00ean \\u0111\\u00e1ng_k\\u1ec3 nh\\u01b0ng th\\u1ec9nh_tho\\u1ea3ng m\\u1ed9t_s\\u1ed1 tr\\u1ebb b\\u1ecb gi\\u1ea3m gamma globulin m\\u00e1u b\\u1ec7nh_nh\\u00e2n c\\u00f3_th\\u1ec3 d\\u1ecb_\\u1ee9ng v\\u1edbi c\\u00e1c kh\\u00e1ng_nguy\\u00ean x\\u00e9t_nghi\\u1ec7m da s\\u1ed1_l\\u01b0\\u1ee3ng t\\u1ebf_b\\u00e0o t cd4 s\\u1ed1_l\\u01b0\\u1ee3ng t\\u1ebf_b\\u00e0o t cd8 n\\u1ed3ng_\\u0111\\u1ed9 rna virut trong huy\\u1ebft_t\\u01b0\\u01a1ng\",\n          \"ngo\\u00e0i \\u0111\\u01b0\\u1eddng ti\\u00eau_h\\u00f3a 1 \\u2013 2 mg ti\\u00eam b\\u1eafp ho\\u1eb7c ti\\u00eam d\\u01b0\\u1edbi da 6 \\u2013 8 gi\\u1edd m\\u1ed9t l\\u1ea7n 1 mg \\u0111\\u01b0\\u1eddng t\\u0129nh_m\\u1ea1ch 3 \\u2013 6 gi\\u1edd m\\u1ed9t l\\u1ea7n\",\n          \"ch\\u1ea9n_\\u0111o\\u00e1n ph\\u00e2n_bi\\u1ec7t bao_g\\u1ed3m b\\u1ec7nh porphyria c\\u1ea5p kh\\u00f4ng li\\u00ean_t\\u1ee5c b\\u1ec7nh ph\\u00f9 m\\u1ea1ch di_truy\\u1ec1n v\\u1edbi c\\u00e1c c\\u01a1n \\u0111au b\\u1ee5ng vi\\u00eam_t\\u1ee5y t\\u00e1i_ph\\u00e1t v\\u00e0 c\\u00e1c tri\\u1ec7u_ch\\u1ee9ng s\\u1ed1t t\\u00e1i_ph\\u00e1t di_truy\\u1ec1n kh\\u00e1c\"\n        ],\n        \"semantic_type\": \"\",\n        \"description\": \"\"\n      }\n    },\n    {\n      \"column\": \"Reference Link\",\n      \"properties\": {\n        \"dtype\": \"category\",\n        \"num_unique_values\": 1640,\n        \"samples\": [\n          \"https://www.msdmanuals.com/vi-vn/professional/ph%E1%BB%A5-khoa-v%C3%A0-s%E1%BA%A3n-khoa/m%C3%A3n-kinh/m%C3%A3n-kinh\",\n          \"https://www.msdmanuals.com/vi-vn/professional/r%E1%BB%91i-lo%E1%BA%A1n-ti%C3%AAu-h%C3%B3a/ti%E1%BA%BFp-c%E1%BA%ADn-b%E1%BB%87nh-nh%C3%A2n-c%C3%B3-b%E1%BB%87nh-l%C3%BD-ti%C3%AAu-h%C3%B3a/%C4%91%C3%A1nh-gi%C3%A1-b%E1%BB%87nh-nh%C3%A2n-c%C3%B3-b%E1%BB%87nh-l%C3%BD-ti%C3%AAu-h%C3%B3a\",\n          \"https://www.msdmanuals.com/vi-vn/professional/r%E1%BB%91i-lo%E1%BA%A1n-dinh-d%C6%B0%E1%BB%A1ng/suy-dinh-d%C6%B0%E1%BB%A1ng/suy-dinh-d%C6%B0%E1%BB%A1ng-protein-n%C4%83ng-l%C6%B0%E1%BB%A3ng-peu\"\n        ],\n        \"semantic_type\": \"\",\n        \"description\": \"\"\n      }\n    }\n  ]\n}"
            }
          },
          "metadata": {},
          "execution_count": 11
        }
      ]
    },
    {
      "cell_type": "code",
      "source": [
        "df.shape"
      ],
      "metadata": {
        "colab": {
          "base_uri": "https://localhost:8080/"
        },
        "id": "cAcpjFVdj581",
        "outputId": "d6240652-487b-448b-fc4c-b60058873b91"
      },
      "execution_count": null,
      "outputs": [
        {
          "output_type": "execute_result",
          "data": {
            "text/plain": [
              "(12488, 3)"
            ]
          },
          "metadata": {},
          "execution_count": 12
        }
      ]
    },
    {
      "cell_type": "markdown",
      "source": [
        "# *Data Preparation*"
      ],
      "metadata": {
        "id": "n6NOQjMT8Ajr"
      }
    },
    {
      "cell_type": "code",
      "source": [
        "# Data Preparation\n",
        "titles = df['Title'].tolist()\n",
        "detailed_contents = df['Detailed Content'].tolist()\n",
        "\n",
        "# Đảm bảo tất cả các phần tử trong danh sách là chuỗi\n",
        "titles = [str(title) for title in titles]\n",
        "detailed_contents = [str(content) for content in detailed_contents]"
      ],
      "metadata": {
        "id": "_mC6Wh9ULcHz"
      },
      "execution_count": null,
      "outputs": []
    },
    {
      "cell_type": "code",
      "source": [
        "import re\n",
        "\n",
        "# Hàm tìm từ ghép có dấu '_'\n",
        "def find_compound_words(texts):\n",
        "    compound_words = set()\n",
        "    for text in texts:\n",
        "        # Tìm các từ chứa dấu '_'\n",
        "        matches = re.findall(r'\\b\\w+_\\w+\\b', text)\n",
        "        compound_words.update(matches)\n",
        "    return list(compound_words)\n",
        "\n",
        "# Tìm từ ghép trong titles và detailed_contents\n",
        "compound_words_titles = find_compound_words(titles)\n",
        "compound_words_contents = find_compound_words(detailed_contents)\n",
        "\n",
        "# Kết hợp từ ghép từ cả titles và detailed_contents và đảm bảo tính duy nhất\n",
        "compound_words = list(set(compound_words_titles + compound_words_contents))\n",
        "\n",
        "# Kiểm tra số lượng từ ghép đã tìm thấy và các từ là duy nhất\n",
        "print(f\"Number of unique compound words: {len(compound_words)}\")\n",
        "print(compound_words[:10])  # In ra 10 từ ghép đầu tiên để kiểm tra"
      ],
      "metadata": {
        "id": "2KTfajPDX_-4",
        "colab": {
          "base_uri": "https://localhost:8080/"
        },
        "outputId": "e46389e3-15ef-47f7-e6f8-b8dbd73e9bdf"
      },
      "execution_count": null,
      "outputs": [
        {
          "output_type": "stream",
          "name": "stdout",
          "text": [
            "Number of unique compound words: 10739\n",
            "['bệnh_nhân_thể_trạng', 'huyết_thanh_thế_hệ', 'phụ_huynh', 'phổi_tạng', 'anion_âm', 'kim_dụng_cụ', 'thuyết_phục', 'đầu_cuối', 'cây_cỏ', 'hạ_sốt']\n"
          ]
        }
      ]
    },
    {
      "cell_type": "code",
      "source": [
        "num_added_tokens = tokenizer.add_tokens(compound_words)\n",
        "\n",
        "model.resize_token_embeddings(len(tokenizer))\n",
        "\n",
        "print(f\"Added {num_added_tokens} tokens. New vocab size: {len(tokenizer)}\")"
      ],
      "metadata": {
        "colab": {
          "base_uri": "https://localhost:8080/"
        },
        "id": "VmTihdciGHEL",
        "outputId": "6417c6b0-356e-4ca4-bf8d-8edef7c8d9af"
      },
      "execution_count": null,
      "outputs": [
        {
          "output_type": "stream",
          "name": "stdout",
          "text": [
            "Added 10739 tokens. New vocab size: 50769\n"
          ]
        }
      ]
    },
    {
      "cell_type": "code",
      "source": [
        "test_sentence = \"rào_cản tự_nhiên chống lại nhiễm_trùng da\"\n",
        "tokens = tokenizer.tokenize(test_sentence)\n",
        "print(tokens)"
      ],
      "metadata": {
        "id": "KFkkOIo4YKwr",
        "colab": {
          "base_uri": "https://localhost:8080/"
        },
        "outputId": "8f300597-2e80-44f9-b45f-c05ea8c5c858"
      },
      "execution_count": null,
      "outputs": [
        {
          "output_type": "stream",
          "name": "stdout",
          "text": [
            "['rào_cản', 'tự_nhiên', '▁chống', '▁lại', 'nhiễm_trùng', '▁da']\n"
          ]
        }
      ]
    },
    {
      "cell_type": "markdown",
      "source": [
        "### a. Khởi Tạo Keras Tokenizer"
      ],
      "metadata": {
        "id": "D03M1gRZ44Ud"
      }
    },
    {
      "cell_type": "markdown",
      "source": [
        "### b. N-GRAM\n"
      ],
      "metadata": {
        "id": "UptkpzWl5Bgm"
      }
    },
    {
      "cell_type": "code",
      "source": [
        "# !pip install pyvi"
      ],
      "metadata": {
        "id": "3rpW-dTaJ8FI"
      },
      "execution_count": null,
      "outputs": []
    },
    {
      "cell_type": "markdown",
      "source": [
        "### Khởi tạo tokens"
      ],
      "metadata": {
        "id": "eMN3Bjjs_x_3"
      }
    },
    {
      "cell_type": "code",
      "source": [
        "def tokenize_data(titles, contents, tokenizer, title_max_length, content_max_length):\n",
        "    def process_in_batches(texts, tokenizer, batch_size, max_length):\n",
        "        encodings = []\n",
        "        for i in range(0, len(texts), batch_size):\n",
        "            batch_texts = texts[i:i + batch_size]\n",
        "\n",
        "            batch_encodings = tokenizer(\n",
        "                batch_texts,\n",
        "                truncation=True,\n",
        "                padding='max_length',\n",
        "                max_length=max_length,\n",
        "                return_tensors='pt'\n",
        "            )\n",
        "            encodings.append(batch_encodings)\n",
        "\n",
        "        # Kết hợp tất cả encodings từ các batch\n",
        "        combined_encodings = {key: torch.cat([batch[key] for batch in encodings], dim=0) for key in encodings[0]}\n",
        "        return combined_encodings\n",
        "\n",
        "    # Tokenize titles and contents\n",
        "    input_encodings = process_in_batches(titles, tokenizer, batch_size=32, max_length=title_max_length)\n",
        "    answer_encodings = process_in_batches(contents, tokenizer, batch_size=32, max_length=content_max_length)\n",
        "\n",
        "    return input_encodings, answer_encodings\n"
      ],
      "metadata": {
        "id": "qXOk3YLYVRD6"
      },
      "execution_count": null,
      "outputs": []
    },
    {
      "cell_type": "code",
      "source": [
        "# Tokenize the data\n",
        "title_max_length = 60\n",
        "content_max_length = 950\n",
        "input_encodings, answer_encodings = tokenize_data(titles, detailed_contents, tokenizer, title_max_length, content_max_length)"
      ],
      "metadata": {
        "id": "gy5_0YCiYSbg"
      },
      "execution_count": null,
      "outputs": []
    },
    {
      "cell_type": "code",
      "source": [
        "# Tính độ dài của mỗi câu trong input_encodings dựa trên attention_mask\n",
        "input_lengths = input_encodings['attention_mask'].sum(dim=1)\n",
        "input_max_length = input_lengths.max().item()\n",
        "\n",
        "# Tính độ dài của mỗi câu trong answer_encodings dựa trên attention_mask\n",
        "answer_lengths = answer_encodings['attention_mask'].sum(dim=1)\n",
        "answer_max_length = answer_lengths.max().item()\n",
        "\n",
        "print(f\"Đoạn dài nhất trong input_encodings sau khi loại bỏ <pad> có kích thước {input_max_length} token.\")\n",
        "print(f\"Đoạn dài nhất trong answer_encodings sau khi loại bỏ <pad> có kích thước {answer_max_length} token.\")"
      ],
      "metadata": {
        "id": "wmBFJ0K7ECTI",
        "colab": {
          "base_uri": "https://localhost:8080/"
        },
        "outputId": "dac5f2f0-3ea7-4fa3-a55a-9b2b0b0d7386"
      },
      "execution_count": null,
      "outputs": [
        {
          "output_type": "stream",
          "name": "stdout",
          "text": [
            "Đoạn dài nhất trong input_encodings sau khi loại bỏ <pad> có kích thước 57 token.\n",
            "Đoạn dài nhất trong answer_encodings sau khi loại bỏ <pad> có kích thước 945 token.\n"
          ]
        }
      ]
    },
    {
      "cell_type": "code",
      "source": [
        "# Hàm để kiểm tra tokenization\n",
        "def check_tokenization(texts, encodings, tokenizer):\n",
        "    for i in range(min(3, len(texts))):  # Chỉ in ra 3 ví dụ đầu tiên\n",
        "        original_text = texts[i]\n",
        "        token_ids = encodings['input_ids'][i]\n",
        "        tokens = tokenizer.convert_ids_to_tokens(token_ids)\n",
        "        decoded_text = tokenizer.decode(token_ids, skip_special_tokens=True)\n",
        "        # print(token_ids)\n",
        "        print(f\"Original Text: {original_text}\")\n",
        "        print(f\"Tokens: {tokens}\")\n",
        "        print(f\"Decoded Text: {decoded_text}\")\n",
        "        print(\"=\"*50)\n",
        "\n",
        "# Kiểm tra tokenization cho titles và contents\n",
        "check_tokenization(titles, input_encodings, tokenizer)\n",
        "check_tokenization(detailed_contents, answer_encodings, tokenizer)"
      ],
      "metadata": {
        "colab": {
          "base_uri": "https://localhost:8080/"
        },
        "id": "ldbFussP-ejA",
        "outputId": "18e5502c-24de-4c12-c3e0-644fdb33d9f8"
      },
      "execution_count": null,
      "outputs": [
        {
          "output_type": "stream",
          "name": "stdout",
          "text": [
            "Original Text: rào_cản tự_nhiên chống lại nhiễm_trùng về da\n",
            "Tokens: ['<s>', 'rào_cản', 'tự_nhiên', '▁chống', '▁lại', 'nhiễm_trùng', '▁về', '▁da', '</s>', '<pad>', '<pad>', '<pad>', '<pad>', '<pad>', '<pad>', '<pad>', '<pad>', '<pad>', '<pad>', '<pad>', '<pad>', '<pad>', '<pad>', '<pad>', '<pad>', '<pad>', '<pad>', '<pad>', '<pad>', '<pad>', '<pad>', '<pad>', '<pad>', '<pad>', '<pad>', '<pad>', '<pad>', '<pad>', '<pad>', '<pad>', '<pad>', '<pad>', '<pad>', '<pad>', '<pad>', '<pad>', '<pad>', '<pad>', '<pad>', '<pad>', '<pad>', '<pad>', '<pad>', '<pad>', '<pad>', '<pad>', '<pad>', '<pad>', '<pad>', '<pad>']\n",
            "Decoded Text: rào_cản tự_nhiên chống lại nhiễm_trùng về da\n",
            "==================================================\n",
            "Original Text: rào_cản tự_nhiên chống lại nhiễm_trùng về niêm_mạc\n",
            "Tokens: ['<s>', 'rào_cản', 'tự_nhiên', '▁chống', '▁lại', 'nhiễm_trùng', '▁về', 'niêm_mạc', '</s>', '<pad>', '<pad>', '<pad>', '<pad>', '<pad>', '<pad>', '<pad>', '<pad>', '<pad>', '<pad>', '<pad>', '<pad>', '<pad>', '<pad>', '<pad>', '<pad>', '<pad>', '<pad>', '<pad>', '<pad>', '<pad>', '<pad>', '<pad>', '<pad>', '<pad>', '<pad>', '<pad>', '<pad>', '<pad>', '<pad>', '<pad>', '<pad>', '<pad>', '<pad>', '<pad>', '<pad>', '<pad>', '<pad>', '<pad>', '<pad>', '<pad>', '<pad>', '<pad>', '<pad>', '<pad>', '<pad>', '<pad>', '<pad>', '<pad>', '<pad>', '<pad>']\n",
            "Decoded Text: rào_cản tự_nhiên chống lại nhiễm_trùng về niêm_mạc\n",
            "==================================================\n",
            "Original Text: rào_cản tự_nhiên chống lại nhiễm_trùng về đường hô_hấp\n",
            "Tokens: ['<s>', 'rào_cản', 'tự_nhiên', '▁chống', '▁lại', 'nhiễm_trùng', '▁về', '▁đường', 'hô_hấp', '</s>', '<pad>', '<pad>', '<pad>', '<pad>', '<pad>', '<pad>', '<pad>', '<pad>', '<pad>', '<pad>', '<pad>', '<pad>', '<pad>', '<pad>', '<pad>', '<pad>', '<pad>', '<pad>', '<pad>', '<pad>', '<pad>', '<pad>', '<pad>', '<pad>', '<pad>', '<pad>', '<pad>', '<pad>', '<pad>', '<pad>', '<pad>', '<pad>', '<pad>', '<pad>', '<pad>', '<pad>', '<pad>', '<pad>', '<pad>', '<pad>', '<pad>', '<pad>', '<pad>', '<pad>', '<pad>', '<pad>', '<pad>', '<pad>', '<pad>', '<pad>']\n",
            "Decoded Text: rào_cản tự_nhiên chống lại nhiễm_trùng về đường hô_hấp\n",
            "==================================================\n",
            "Original Text: da thường chặn các vi_sinh_vật xâm_nhập trừ khi nó bị tổn_thương ví_dụ do động_vật chân_đốt chấn_thương ống thông iv hoặc phẫu_thuật rạch các ngoại_lệ bao_gồm virus papilloma_người có_thể xâm_nhập vào da bình_thường gây ra mụn cóc một_số ký_sinh_trùng ví_dụ strongyloides_stercoralis những loại gây bệnh_nhiễm giun_móc virus papilloma người có_thể xâm_nhập vào da bình_thường gây ra mụn cóc một_số ký_sinh_trùng ví_dụ strongyloides stercoralis những loại gây bệnh nhiễmgiun móc\n",
            "Tokens: ['<s>', '▁da', '▁thường', '▁chặn', '▁các', 'vi_sinh_vật', 'xâm_nhập', '▁trừ', '▁khi', '▁nó', '▁bị', 'tổn_thương', 'ví_dụ', '▁do', 'động_vật', 'chân_đốt', 'chấn_thương', '▁', 'ống', '▁thông', '▁i', 'v', '▁hoặc', 'phẫu_thuật', '▁r', 'ạch', '▁các', 'ngoại_lệ', 'bao_gồm', '▁virus', 'papilloma_người', 'có_thể', 'xâm_nhập', '▁vào', '▁da', 'bình_thường', '▁gây', '▁ra', '▁mụn', '▁có', 'c', 'một_số', 'ký_sinh_trùng', 'ví_dụ', 'strongyloides_stercoralis', '▁những', '▁loại', '▁gây', 'bệnh_nhiễm', 'giun_móc', '▁virus', '▁papil', 'loma', '▁người', 'có_thể', 'xâm_nhập', '▁vào', '▁da', 'bình_thường', '▁gây', '▁ra', '▁mụn', '▁có', 'c', 'một_số', 'ký_sinh_trùng', 'ví_dụ', '▁strong', 'y', 'lo', 'ides', '▁ster', 'cor', 'alis', '▁những', '▁loại', '▁gây', '▁bệnh', '▁nhiễm', 'gi', 'un', '▁móc', '</s>', '<pad>', '<pad>', '<pad>', '<pad>', '<pad>', '<pad>', '<pad>', '<pad>', '<pad>', '<pad>', '<pad>', '<pad>', '<pad>', '<pad>', '<pad>', '<pad>', '<pad>', '<pad>', '<pad>', '<pad>', '<pad>', '<pad>', '<pad>', '<pad>', '<pad>', '<pad>', '<pad>', '<pad>', '<pad>', '<pad>', '<pad>', '<pad>', '<pad>', '<pad>', '<pad>', '<pad>', '<pad>', '<pad>', '<pad>', '<pad>', '<pad>', '<pad>', '<pad>', '<pad>', '<pad>', '<pad>', '<pad>', '<pad>', '<pad>', '<pad>', '<pad>', '<pad>', '<pad>', '<pad>', '<pad>', '<pad>', '<pad>', '<pad>', '<pad>', '<pad>', '<pad>', '<pad>', '<pad>', '<pad>', '<pad>', '<pad>', '<pad>', '<pad>', '<pad>', '<pad>', '<pad>', '<pad>', '<pad>', '<pad>', '<pad>', '<pad>', '<pad>', '<pad>', '<pad>', '<pad>', '<pad>', '<pad>', '<pad>', '<pad>', '<pad>', '<pad>', '<pad>', '<pad>', '<pad>', '<pad>', '<pad>', '<pad>', '<pad>', '<pad>', '<pad>', '<pad>', '<pad>', '<pad>', '<pad>', '<pad>', '<pad>', '<pad>', '<pad>', '<pad>', '<pad>', '<pad>', '<pad>', '<pad>', '<pad>', '<pad>', '<pad>', '<pad>', '<pad>', '<pad>', '<pad>', '<pad>', '<pad>', '<pad>', '<pad>', '<pad>', '<pad>', '<pad>', '<pad>', '<pad>', '<pad>', '<pad>', '<pad>', '<pad>', '<pad>', '<pad>', '<pad>', '<pad>', '<pad>', '<pad>', '<pad>', '<pad>', '<pad>', '<pad>', '<pad>', '<pad>', '<pad>', '<pad>', '<pad>', '<pad>', '<pad>', '<pad>', '<pad>', '<pad>', '<pad>', '<pad>', '<pad>', '<pad>', '<pad>', '<pad>', '<pad>', '<pad>', '<pad>', '<pad>', '<pad>', '<pad>', '<pad>', '<pad>', '<pad>', '<pad>', '<pad>', '<pad>', '<pad>', '<pad>', '<pad>', '<pad>', '<pad>', '<pad>', '<pad>', '<pad>', '<pad>', '<pad>', '<pad>', '<pad>', '<pad>', '<pad>', '<pad>', '<pad>', '<pad>', '<pad>', '<pad>', '<pad>', '<pad>', '<pad>', '<pad>', '<pad>', '<pad>', '<pad>', '<pad>', '<pad>', '<pad>', '<pad>', '<pad>', '<pad>', '<pad>', '<pad>', '<pad>', '<pad>', '<pad>', '<pad>', '<pad>', '<pad>', '<pad>', '<pad>', '<pad>', '<pad>', '<pad>', '<pad>', '<pad>', '<pad>', '<pad>', '<pad>', '<pad>', '<pad>', '<pad>', '<pad>', '<pad>', '<pad>', '<pad>', '<pad>', '<pad>', '<pad>', '<pad>', '<pad>', '<pad>', '<pad>', '<pad>', '<pad>', '<pad>', '<pad>', '<pad>', '<pad>', '<pad>', '<pad>', '<pad>', '<pad>', '<pad>', '<pad>', '<pad>', '<pad>', '<pad>', '<pad>', '<pad>', '<pad>', '<pad>', '<pad>', '<pad>', '<pad>', '<pad>', '<pad>', '<pad>', '<pad>', '<pad>', '<pad>', '<pad>', '<pad>', '<pad>', '<pad>', '<pad>', '<pad>', '<pad>', '<pad>', '<pad>', '<pad>', '<pad>', '<pad>', '<pad>', '<pad>', '<pad>', '<pad>', '<pad>', '<pad>', '<pad>', '<pad>', '<pad>', '<pad>', '<pad>', '<pad>', '<pad>', '<pad>', '<pad>', '<pad>', '<pad>', '<pad>', '<pad>', '<pad>', '<pad>', '<pad>', '<pad>', '<pad>', '<pad>', '<pad>', '<pad>', '<pad>', '<pad>', '<pad>', '<pad>', '<pad>', '<pad>', '<pad>', '<pad>', '<pad>', '<pad>', '<pad>', '<pad>', '<pad>', '<pad>', '<pad>', '<pad>', '<pad>', '<pad>', '<pad>', '<pad>', '<pad>', '<pad>', '<pad>', '<pad>', '<pad>', '<pad>', '<pad>', '<pad>', '<pad>', '<pad>', '<pad>', '<pad>', '<pad>', '<pad>', '<pad>', '<pad>', '<pad>', '<pad>', '<pad>', '<pad>', '<pad>', '<pad>', '<pad>', '<pad>', '<pad>', '<pad>', '<pad>', '<pad>', '<pad>', '<pad>', '<pad>', '<pad>', '<pad>', '<pad>', '<pad>', '<pad>', '<pad>', '<pad>', '<pad>', '<pad>', '<pad>', '<pad>', '<pad>', '<pad>', '<pad>', '<pad>', '<pad>', '<pad>', '<pad>', '<pad>', '<pad>', '<pad>', '<pad>', '<pad>', '<pad>', '<pad>', '<pad>', '<pad>', '<pad>', '<pad>', '<pad>', '<pad>', '<pad>', '<pad>', '<pad>', '<pad>', '<pad>', '<pad>', '<pad>', '<pad>', '<pad>', '<pad>', '<pad>', '<pad>', '<pad>', '<pad>', '<pad>', '<pad>', '<pad>', '<pad>', '<pad>', '<pad>', '<pad>', '<pad>', '<pad>', '<pad>', '<pad>', '<pad>', '<pad>', '<pad>', '<pad>', '<pad>', '<pad>', '<pad>', '<pad>', '<pad>', '<pad>', '<pad>', '<pad>', '<pad>', '<pad>', '<pad>', '<pad>', '<pad>', '<pad>', '<pad>', '<pad>', '<pad>', '<pad>', '<pad>', '<pad>', '<pad>', '<pad>', '<pad>', '<pad>', '<pad>', '<pad>', '<pad>', '<pad>', '<pad>', '<pad>', '<pad>', '<pad>', '<pad>', '<pad>', '<pad>', '<pad>', '<pad>', '<pad>', '<pad>', '<pad>', '<pad>', '<pad>', '<pad>', '<pad>', '<pad>', '<pad>', '<pad>', '<pad>', '<pad>', '<pad>', '<pad>', '<pad>', '<pad>', '<pad>', '<pad>', '<pad>', '<pad>', '<pad>', '<pad>', '<pad>', '<pad>', '<pad>', '<pad>', '<pad>', '<pad>', '<pad>', '<pad>', '<pad>', '<pad>', '<pad>', '<pad>', '<pad>', '<pad>', '<pad>', '<pad>', '<pad>', '<pad>', '<pad>', '<pad>', '<pad>', '<pad>', '<pad>', '<pad>', '<pad>', '<pad>', '<pad>', '<pad>', '<pad>', '<pad>', '<pad>', '<pad>', '<pad>', '<pad>', '<pad>', '<pad>', '<pad>', '<pad>', '<pad>', '<pad>', '<pad>', '<pad>', '<pad>', '<pad>', '<pad>', '<pad>', '<pad>', '<pad>', '<pad>', '<pad>', '<pad>', '<pad>', '<pad>', '<pad>', '<pad>', '<pad>', '<pad>', '<pad>', '<pad>', '<pad>', '<pad>', '<pad>', '<pad>', '<pad>', '<pad>', '<pad>', '<pad>', '<pad>', '<pad>', '<pad>', '<pad>', '<pad>', '<pad>', '<pad>', '<pad>', '<pad>', '<pad>', '<pad>', '<pad>', '<pad>', '<pad>', '<pad>', '<pad>', '<pad>', '<pad>', '<pad>', '<pad>', '<pad>', '<pad>', '<pad>', '<pad>', '<pad>', '<pad>', '<pad>', '<pad>', '<pad>', '<pad>', '<pad>', '<pad>', '<pad>', '<pad>', '<pad>', '<pad>', '<pad>', '<pad>', '<pad>', '<pad>', '<pad>', '<pad>', '<pad>', '<pad>', '<pad>', '<pad>', '<pad>', '<pad>', '<pad>', '<pad>', '<pad>', '<pad>', '<pad>', '<pad>', '<pad>', '<pad>', '<pad>', '<pad>', '<pad>', '<pad>', '<pad>', '<pad>', '<pad>', '<pad>', '<pad>', '<pad>', '<pad>', '<pad>', '<pad>', '<pad>', '<pad>', '<pad>', '<pad>', '<pad>', '<pad>', '<pad>', '<pad>', '<pad>', '<pad>', '<pad>', '<pad>', '<pad>', '<pad>', '<pad>', '<pad>', '<pad>', '<pad>', '<pad>', '<pad>', '<pad>', '<pad>', '<pad>', '<pad>', '<pad>', '<pad>', '<pad>', '<pad>', '<pad>', '<pad>', '<pad>', '<pad>', '<pad>', '<pad>', '<pad>', '<pad>', '<pad>', '<pad>', '<pad>', '<pad>', '<pad>', '<pad>', '<pad>', '<pad>', '<pad>', '<pad>', '<pad>', '<pad>', '<pad>', '<pad>', '<pad>', '<pad>', '<pad>', '<pad>', '<pad>', '<pad>', '<pad>', '<pad>', '<pad>', '<pad>', '<pad>', '<pad>', '<pad>', '<pad>', '<pad>', '<pad>', '<pad>', '<pad>', '<pad>', '<pad>', '<pad>', '<pad>', '<pad>', '<pad>', '<pad>', '<pad>', '<pad>', '<pad>', '<pad>', '<pad>', '<pad>', '<pad>', '<pad>', '<pad>', '<pad>', '<pad>', '<pad>', '<pad>', '<pad>', '<pad>', '<pad>', '<pad>', '<pad>', '<pad>', '<pad>', '<pad>', '<pad>', '<pad>', '<pad>', '<pad>', '<pad>', '<pad>', '<pad>', '<pad>', '<pad>', '<pad>', '<pad>', '<pad>', '<pad>', '<pad>', '<pad>', '<pad>', '<pad>', '<pad>', '<pad>', '<pad>', '<pad>', '<pad>', '<pad>', '<pad>', '<pad>', '<pad>', '<pad>', '<pad>', '<pad>', '<pad>', '<pad>', '<pad>', '<pad>', '<pad>', '<pad>', '<pad>', '<pad>', '<pad>', '<pad>', '<pad>', '<pad>', '<pad>', '<pad>', '<pad>', '<pad>', '<pad>', '<pad>', '<pad>', '<pad>', '<pad>', '<pad>', '<pad>', '<pad>', '<pad>', '<pad>', '<pad>', '<pad>', '<pad>', '<pad>', '<pad>', '<pad>', '<pad>', '<pad>', '<pad>', '<pad>', '<pad>', '<pad>', '<pad>', '<pad>', '<pad>', '<pad>', '<pad>', '<pad>', '<pad>', '<pad>', '<pad>', '<pad>', '<pad>', '<pad>', '<pad>', '<pad>', '<pad>', '<pad>', '<pad>', '<pad>', '<pad>', '<pad>', '<pad>', '<pad>', '<pad>', '<pad>', '<pad>', '<pad>', '<pad>', '<pad>', '<pad>', '<pad>', '<pad>', '<pad>', '<pad>', '<pad>', '<pad>', '<pad>', '<pad>', '<pad>', '<pad>', '<pad>', '<pad>', '<pad>', '<pad>', '<pad>', '<pad>', '<pad>', '<pad>', '<pad>', '<pad>', '<pad>', '<pad>', '<pad>', '<pad>', '<pad>', '<pad>', '<pad>', '<pad>', '<pad>', '<pad>', '<pad>', '<pad>', '<pad>', '<pad>', '<pad>', '<pad>', '<pad>', '<pad>', '<pad>', '<pad>', '<pad>', '<pad>', '<pad>', '<pad>', '<pad>', '<pad>', '<pad>', '<pad>', '<pad>', '<pad>', '<pad>', '<pad>', '<pad>', '<pad>', '<pad>', '<pad>', '<pad>', '<pad>', '<pad>', '<pad>', '<pad>', '<pad>', '<pad>', '<pad>', '<pad>', '<pad>', '<pad>', '<pad>', '<pad>', '<pad>', '<pad>', '<pad>']\n",
            "Decoded Text: da thường chặn các vi_sinh_vật xâm_nhập trừ khi nó bị tổn_thương ví_dụ do động_vật chân_đốt chấn_thương ống thông iv hoặc phẫu_thuật rạch các ngoại_lệ bao_gồm virus papilloma_người có_thể xâm_nhập vào da bình_thường gây ra mụn cóc một_số ký_sinh_trùng ví_dụ strongyloides_stercoralis những loại gây bệnh_nhiễm giun_móc virus papilloma người có_thể xâm_nhập vào da bình_thường gây ra mụn cóc một_số ký_sinh_trùng ví_dụ strongyloides stercoralis những loại gây bệnh nhiễmgiun móc\n",
            "==================================================\n",
            "Original Text: nhiều màng_nhầy ngập trong chất tiết có đặc_tính kháng khuẩn ví_dụ chất nhầy cổ tử_cung dịch tuyến tiền_liệt và nước_mắt có chứa lysozyme chất này chia_cắt liên_kết axit muramic trong thành tế_bào vi_khuẩn đặc_biệt là ở các sinh_vật gram dương vi_khuẩn gram âm được bảo_vệ bởi lipopolysaccharid ở màng ngoài của chúng các dịch tiết tại_chỗ cũng chứa globulin miễn_dịch chủ_yếu là igg và iga tiết ra ngăn_ngừa các vi_sinh_vật gắn vào tế_bào chủ và các protein liên_kết sắt rất cần_thiết cho nhiều vi_sinh_vật\n",
            "Tokens: ['<s>', '▁nhiều', 'màng_nhầy', '▁ngập', '▁trong', '▁chất', '▁tiết', '▁có', 'đặc_tính', '▁kháng', '▁khuẩn', 'ví_dụ', '▁chất', '▁nh', 'ầ', 'y', '▁cổ', 'tử_cung', '▁dịch', '▁tuyến', 'tiền_liệt', '▁và', 'nước_mắt', '▁có', '▁chứa', '▁lys', 'o', 'zy', 'me', '▁chất', '▁này', 'chia_cắt', 'liên_kết', '▁a', 'xit', '▁mura', 'mic', '▁trong', '▁thành', 'tế_bào', 'vi_khuẩn', 'đặc_biệt', '▁là', '▁ở', '▁các', 'sinh_vật', '▁gram', '▁dương', 'vi_khuẩn', '▁gram', '▁âm', '▁được', 'bảo_vệ', '▁bởi', '▁lipo', 'poly', 's', 'ac', 'char', 'id', '▁ở', '▁màng', '▁ngoài', '▁của', '▁chúng', '▁các', '▁dịch', '▁tiết', 'tại_chỗ', '▁cũng', '▁chứa', '▁glob', 'ulin', 'miễn_dịch', 'chủ_yếu', '▁là', '▁i', 'gg', '▁và', '<unk>', '▁tiết', '▁ra', 'ngăn_ngừa', '▁các', 'vi_sinh_vật', '▁gắn', '▁vào', 'tế_bào', '▁chủ', '▁và', '▁các', '▁protein', 'liên_kết', '▁sắt', '▁rất', 'cần_thiết', '▁cho', '▁nhiều', 'vi_sinh_vật', '</s>', '<pad>', '<pad>', '<pad>', '<pad>', '<pad>', '<pad>', '<pad>', '<pad>', '<pad>', '<pad>', '<pad>', '<pad>', '<pad>', '<pad>', '<pad>', '<pad>', '<pad>', '<pad>', '<pad>', '<pad>', '<pad>', '<pad>', '<pad>', '<pad>', '<pad>', '<pad>', '<pad>', '<pad>', '<pad>', '<pad>', '<pad>', '<pad>', '<pad>', '<pad>', '<pad>', '<pad>', '<pad>', '<pad>', '<pad>', '<pad>', '<pad>', '<pad>', '<pad>', '<pad>', '<pad>', '<pad>', '<pad>', '<pad>', '<pad>', '<pad>', '<pad>', '<pad>', '<pad>', '<pad>', '<pad>', '<pad>', '<pad>', '<pad>', '<pad>', '<pad>', '<pad>', '<pad>', '<pad>', '<pad>', '<pad>', '<pad>', '<pad>', '<pad>', '<pad>', '<pad>', '<pad>', '<pad>', '<pad>', '<pad>', '<pad>', '<pad>', '<pad>', '<pad>', '<pad>', '<pad>', '<pad>', '<pad>', '<pad>', '<pad>', '<pad>', '<pad>', '<pad>', '<pad>', '<pad>', '<pad>', '<pad>', '<pad>', '<pad>', '<pad>', '<pad>', '<pad>', '<pad>', '<pad>', '<pad>', '<pad>', '<pad>', '<pad>', '<pad>', '<pad>', '<pad>', '<pad>', '<pad>', '<pad>', '<pad>', '<pad>', '<pad>', '<pad>', '<pad>', '<pad>', '<pad>', '<pad>', '<pad>', '<pad>', '<pad>', '<pad>', '<pad>', '<pad>', '<pad>', '<pad>', '<pad>', '<pad>', '<pad>', '<pad>', '<pad>', '<pad>', '<pad>', '<pad>', '<pad>', '<pad>', '<pad>', '<pad>', '<pad>', '<pad>', '<pad>', '<pad>', '<pad>', '<pad>', '<pad>', '<pad>', '<pad>', '<pad>', '<pad>', '<pad>', '<pad>', '<pad>', '<pad>', '<pad>', '<pad>', '<pad>', '<pad>', '<pad>', '<pad>', '<pad>', '<pad>', '<pad>', '<pad>', '<pad>', '<pad>', '<pad>', '<pad>', '<pad>', '<pad>', '<pad>', '<pad>', '<pad>', '<pad>', '<pad>', '<pad>', '<pad>', '<pad>', '<pad>', '<pad>', '<pad>', '<pad>', '<pad>', '<pad>', '<pad>', '<pad>', '<pad>', '<pad>', '<pad>', '<pad>', '<pad>', '<pad>', '<pad>', '<pad>', '<pad>', '<pad>', '<pad>', '<pad>', '<pad>', '<pad>', '<pad>', '<pad>', '<pad>', '<pad>', '<pad>', '<pad>', '<pad>', '<pad>', '<pad>', '<pad>', '<pad>', '<pad>', '<pad>', '<pad>', '<pad>', '<pad>', '<pad>', '<pad>', '<pad>', '<pad>', '<pad>', '<pad>', '<pad>', '<pad>', '<pad>', '<pad>', '<pad>', '<pad>', '<pad>', '<pad>', '<pad>', '<pad>', '<pad>', '<pad>', '<pad>', '<pad>', '<pad>', '<pad>', '<pad>', '<pad>', '<pad>', '<pad>', '<pad>', '<pad>', '<pad>', '<pad>', '<pad>', '<pad>', '<pad>', '<pad>', '<pad>', '<pad>', '<pad>', '<pad>', '<pad>', '<pad>', '<pad>', '<pad>', '<pad>', '<pad>', '<pad>', '<pad>', '<pad>', '<pad>', '<pad>', '<pad>', '<pad>', '<pad>', '<pad>', '<pad>', '<pad>', '<pad>', '<pad>', '<pad>', '<pad>', '<pad>', '<pad>', '<pad>', '<pad>', '<pad>', '<pad>', '<pad>', '<pad>', '<pad>', '<pad>', '<pad>', '<pad>', '<pad>', '<pad>', '<pad>', '<pad>', '<pad>', '<pad>', '<pad>', '<pad>', '<pad>', '<pad>', '<pad>', '<pad>', '<pad>', '<pad>', '<pad>', '<pad>', '<pad>', '<pad>', '<pad>', '<pad>', '<pad>', '<pad>', '<pad>', '<pad>', '<pad>', '<pad>', '<pad>', '<pad>', '<pad>', '<pad>', '<pad>', '<pad>', '<pad>', '<pad>', '<pad>', '<pad>', '<pad>', '<pad>', '<pad>', '<pad>', '<pad>', '<pad>', '<pad>', '<pad>', '<pad>', '<pad>', '<pad>', '<pad>', '<pad>', '<pad>', '<pad>', '<pad>', '<pad>', '<pad>', '<pad>', '<pad>', '<pad>', '<pad>', '<pad>', '<pad>', '<pad>', '<pad>', '<pad>', '<pad>', '<pad>', '<pad>', '<pad>', '<pad>', '<pad>', '<pad>', '<pad>', '<pad>', '<pad>', '<pad>', '<pad>', '<pad>', '<pad>', '<pad>', '<pad>', '<pad>', '<pad>', '<pad>', '<pad>', '<pad>', '<pad>', '<pad>', '<pad>', '<pad>', '<pad>', '<pad>', '<pad>', '<pad>', '<pad>', '<pad>', '<pad>', '<pad>', '<pad>', '<pad>', '<pad>', '<pad>', '<pad>', '<pad>', '<pad>', '<pad>', '<pad>', '<pad>', '<pad>', '<pad>', '<pad>', '<pad>', '<pad>', '<pad>', '<pad>', '<pad>', '<pad>', '<pad>', '<pad>', '<pad>', '<pad>', '<pad>', '<pad>', '<pad>', '<pad>', '<pad>', '<pad>', '<pad>', '<pad>', '<pad>', '<pad>', '<pad>', '<pad>', '<pad>', '<pad>', '<pad>', '<pad>', '<pad>', '<pad>', '<pad>', '<pad>', '<pad>', '<pad>', '<pad>', '<pad>', '<pad>', '<pad>', '<pad>', '<pad>', '<pad>', '<pad>', '<pad>', '<pad>', '<pad>', '<pad>', '<pad>', '<pad>', '<pad>', '<pad>', '<pad>', '<pad>', '<pad>', '<pad>', '<pad>', '<pad>', '<pad>', '<pad>', '<pad>', '<pad>', '<pad>', '<pad>', '<pad>', '<pad>', '<pad>', '<pad>', '<pad>', '<pad>', '<pad>', '<pad>', '<pad>', '<pad>', '<pad>', '<pad>', '<pad>', '<pad>', '<pad>', '<pad>', '<pad>', '<pad>', '<pad>', '<pad>', '<pad>', '<pad>', '<pad>', '<pad>', '<pad>', '<pad>', '<pad>', '<pad>', '<pad>', '<pad>', '<pad>', '<pad>', '<pad>', '<pad>', '<pad>', '<pad>', '<pad>', '<pad>', '<pad>', '<pad>', '<pad>', '<pad>', '<pad>', '<pad>', '<pad>', '<pad>', '<pad>', '<pad>', '<pad>', '<pad>', '<pad>', '<pad>', '<pad>', '<pad>', '<pad>', '<pad>', '<pad>', '<pad>', '<pad>', '<pad>', '<pad>', '<pad>', '<pad>', '<pad>', '<pad>', '<pad>', '<pad>', '<pad>', '<pad>', '<pad>', '<pad>', '<pad>', '<pad>', '<pad>', '<pad>', '<pad>', '<pad>', '<pad>', '<pad>', '<pad>', '<pad>', '<pad>', '<pad>', '<pad>', '<pad>', '<pad>', '<pad>', '<pad>', '<pad>', '<pad>', '<pad>', '<pad>', '<pad>', '<pad>', '<pad>', '<pad>', '<pad>', '<pad>', '<pad>', '<pad>', '<pad>', '<pad>', '<pad>', '<pad>', '<pad>', '<pad>', '<pad>', '<pad>', '<pad>', '<pad>', '<pad>', '<pad>', '<pad>', '<pad>', '<pad>', '<pad>', '<pad>', '<pad>', '<pad>', '<pad>', '<pad>', '<pad>', '<pad>', '<pad>', '<pad>', '<pad>', '<pad>', '<pad>', '<pad>', '<pad>', '<pad>', '<pad>', '<pad>', '<pad>', '<pad>', '<pad>', '<pad>', '<pad>', '<pad>', '<pad>', '<pad>', '<pad>', '<pad>', '<pad>', '<pad>', '<pad>', '<pad>', '<pad>', '<pad>', '<pad>', '<pad>', '<pad>', '<pad>', '<pad>', '<pad>', '<pad>', '<pad>', '<pad>', '<pad>', '<pad>', '<pad>', '<pad>', '<pad>', '<pad>', '<pad>', '<pad>', '<pad>', '<pad>', '<pad>', '<pad>', '<pad>', '<pad>', '<pad>', '<pad>', '<pad>', '<pad>', '<pad>', '<pad>', '<pad>', '<pad>', '<pad>', '<pad>', '<pad>', '<pad>', '<pad>', '<pad>', '<pad>', '<pad>', '<pad>', '<pad>', '<pad>', '<pad>', '<pad>', '<pad>', '<pad>', '<pad>', '<pad>', '<pad>', '<pad>', '<pad>', '<pad>', '<pad>', '<pad>', '<pad>', '<pad>', '<pad>', '<pad>', '<pad>', '<pad>', '<pad>', '<pad>', '<pad>', '<pad>', '<pad>', '<pad>', '<pad>', '<pad>', '<pad>', '<pad>', '<pad>', '<pad>', '<pad>', '<pad>', '<pad>', '<pad>', '<pad>', '<pad>', '<pad>', '<pad>', '<pad>', '<pad>', '<pad>', '<pad>', '<pad>', '<pad>', '<pad>', '<pad>', '<pad>', '<pad>', '<pad>', '<pad>', '<pad>', '<pad>', '<pad>', '<pad>', '<pad>', '<pad>', '<pad>', '<pad>', '<pad>', '<pad>', '<pad>', '<pad>', '<pad>', '<pad>', '<pad>', '<pad>', '<pad>', '<pad>', '<pad>', '<pad>', '<pad>', '<pad>', '<pad>', '<pad>', '<pad>', '<pad>', '<pad>', '<pad>', '<pad>', '<pad>', '<pad>', '<pad>', '<pad>', '<pad>', '<pad>', '<pad>', '<pad>', '<pad>', '<pad>', '<pad>', '<pad>', '<pad>', '<pad>', '<pad>', '<pad>', '<pad>', '<pad>', '<pad>', '<pad>', '<pad>', '<pad>', '<pad>', '<pad>', '<pad>', '<pad>', '<pad>', '<pad>', '<pad>', '<pad>', '<pad>', '<pad>', '<pad>', '<pad>', '<pad>', '<pad>', '<pad>', '<pad>', '<pad>', '<pad>', '<pad>', '<pad>', '<pad>', '<pad>', '<pad>', '<pad>', '<pad>', '<pad>', '<pad>', '<pad>', '<pad>', '<pad>', '<pad>', '<pad>', '<pad>', '<pad>', '<pad>', '<pad>', '<pad>', '<pad>', '<pad>', '<pad>', '<pad>', '<pad>', '<pad>', '<pad>', '<pad>', '<pad>', '<pad>', '<pad>', '<pad>', '<pad>', '<pad>', '<pad>', '<pad>', '<pad>', '<pad>', '<pad>', '<pad>', '<pad>', '<pad>', '<pad>', '<pad>', '<pad>', '<pad>', '<pad>', '<pad>', '<pad>', '<pad>', '<pad>', '<pad>', '<pad>', '<pad>', '<pad>', '<pad>', '<pad>', '<pad>', '<pad>', '<pad>', '<pad>', '<pad>', '<pad>', '<pad>', '<pad>', '<pad>', '<pad>', '<pad>', '<pad>', '<pad>', '<pad>', '<pad>', '<pad>', '<pad>', '<pad>', '<pad>', '<pad>', '<pad>', '<pad>', '<pad>', '<pad>', '<pad>', '<pad>', '<pad>', '<pad>', '<pad>', '<pad>', '<pad>']\n",
            "Decoded Text: nhiều màng_nhầy ngập trong chất tiết có đặc_tính kháng khuẩn ví_dụ chất nhầy cổ tử_cung dịch tuyến tiền_liệt và nước_mắt có chứa lysozyme chất này chia_cắt liên_kết axit muramic trong thành tế_bào vi_khuẩn đặc_biệt là ở các sinh_vật gram dương vi_khuẩn gram âm được bảo_vệ bởi lipopolysaccharid ở màng ngoài của chúng các dịch tiết tại_chỗ cũng chứa globulin miễn_dịch chủ_yếu là igg và tiết ra ngăn_ngừa các vi_sinh_vật gắn vào tế_bào chủ và các protein liên_kết sắt rất cần_thiết cho nhiều vi_sinh_vật\n",
            "==================================================\n",
            "Original Text: đường hô_hấp có các hệ_thống lọc đường thở trên nếu các sinh_vật xâm_nhập cây phế_quản biểu mô niêm_mạc sẽ di_chuyển chúng ra khỏi phổi ho cũng giúp loại_bỏ các sinh_vật nếu các sinh_vật đến được phế_nang các đại thực bào phế_nang và các tế_bào biểu mô hấp_thụ chúng tuy_nhiên những biện_pháp phòng_vệ này có_thể bị vượt qua được bởi một số_lượng lớn các sinh_vật hoặc do khả_năng bị suy_giảm do các chất gây ô_nhiễm không_khí ví_dụ như khói thuốc_lá hoặc can_thiệp vào các cơ_chế bảo_vệ ví_dụ đặt nội khí_quản mở khí_quản hoặc do dị_tật bẩm_sinh ví_dụ bệnh xơ nang\n",
            "Tokens: ['<s>', '▁đường', 'hô_hấp', '▁có', '▁các', 'hệ_thống', '▁lọc', '▁đường', '▁thở', '▁trên', '▁nếu', '▁các', 'sinh_vật', 'xâm_nhập', '▁cây', 'phế_quản', '▁biểu', '▁mô', 'niêm_mạc', '▁sẽ', 'di_chuyển', '▁chúng', '▁ra', '▁khỏi', '▁phổ', 'i', '▁ho', '▁cũng', '▁giúp', 'loại_bỏ', '▁các', 'sinh_vật', '▁nếu', '▁các', 'sinh_vật', '▁đến', '▁được', 'phế_nang', '▁các', '▁đại', '▁thực', '▁bào', 'phế_nang', '▁và', '▁các', 'tế_bào', '▁biểu', '▁mô', 'hấp_thụ', '▁chúng', 'tuy_nhiên', '▁những', 'biện_pháp', 'phòng_vệ', '▁này', 'có_thể', '▁bị', '▁vượt', '▁qua', '▁được', '▁bởi', '▁một', 'số_lượng', '▁lớn', '▁các', 'sinh_vật', '▁hoặc', '▁do', 'khả_năng', '▁bị', 'suy_giảm', '▁do', '▁các', '▁chất', '▁gây', 'ô_nhiễm', 'không_khí', 'ví_dụ', '▁như', '▁khó', 'i', 'thuốc_lá', '▁hoặc', 'can_thiệp', '▁vào', '▁các', 'cơ_chế', 'bảo_vệ', 'ví_dụ', '▁đặt', '▁nội', 'khí_quản', '▁mở', 'khí_quản', '▁hoặc', '▁do', 'dị_tật', 'bẩm_sinh', 'ví_dụ', '▁bệnh', '▁x', 'ơ', '▁nang', '</s>', '<pad>', '<pad>', '<pad>', '<pad>', '<pad>', '<pad>', '<pad>', '<pad>', '<pad>', '<pad>', '<pad>', '<pad>', '<pad>', '<pad>', '<pad>', '<pad>', '<pad>', '<pad>', '<pad>', '<pad>', '<pad>', '<pad>', '<pad>', '<pad>', '<pad>', '<pad>', '<pad>', '<pad>', '<pad>', '<pad>', '<pad>', '<pad>', '<pad>', '<pad>', '<pad>', '<pad>', '<pad>', '<pad>', '<pad>', '<pad>', '<pad>', '<pad>', '<pad>', '<pad>', '<pad>', '<pad>', '<pad>', '<pad>', '<pad>', '<pad>', '<pad>', '<pad>', '<pad>', '<pad>', '<pad>', '<pad>', '<pad>', '<pad>', '<pad>', '<pad>', '<pad>', '<pad>', '<pad>', '<pad>', '<pad>', '<pad>', '<pad>', '<pad>', '<pad>', '<pad>', '<pad>', '<pad>', '<pad>', '<pad>', '<pad>', '<pad>', '<pad>', '<pad>', '<pad>', '<pad>', '<pad>', '<pad>', '<pad>', '<pad>', '<pad>', '<pad>', '<pad>', '<pad>', '<pad>', '<pad>', '<pad>', '<pad>', '<pad>', '<pad>', '<pad>', '<pad>', '<pad>', '<pad>', '<pad>', '<pad>', '<pad>', '<pad>', '<pad>', '<pad>', '<pad>', '<pad>', '<pad>', '<pad>', '<pad>', '<pad>', '<pad>', '<pad>', '<pad>', '<pad>', '<pad>', '<pad>', '<pad>', '<pad>', '<pad>', '<pad>', '<pad>', '<pad>', '<pad>', '<pad>', '<pad>', '<pad>', '<pad>', '<pad>', '<pad>', '<pad>', '<pad>', '<pad>', '<pad>', '<pad>', '<pad>', '<pad>', '<pad>', '<pad>', '<pad>', '<pad>', '<pad>', '<pad>', '<pad>', '<pad>', '<pad>', '<pad>', '<pad>', '<pad>', '<pad>', '<pad>', '<pad>', '<pad>', '<pad>', '<pad>', '<pad>', '<pad>', '<pad>', '<pad>', '<pad>', '<pad>', '<pad>', '<pad>', '<pad>', '<pad>', '<pad>', '<pad>', '<pad>', '<pad>', '<pad>', '<pad>', '<pad>', '<pad>', '<pad>', '<pad>', '<pad>', '<pad>', '<pad>', '<pad>', '<pad>', '<pad>', '<pad>', '<pad>', '<pad>', '<pad>', '<pad>', '<pad>', '<pad>', '<pad>', '<pad>', '<pad>', '<pad>', '<pad>', '<pad>', '<pad>', '<pad>', '<pad>', '<pad>', '<pad>', '<pad>', '<pad>', '<pad>', '<pad>', '<pad>', '<pad>', '<pad>', '<pad>', '<pad>', '<pad>', '<pad>', '<pad>', '<pad>', '<pad>', '<pad>', '<pad>', '<pad>', '<pad>', '<pad>', '<pad>', '<pad>', '<pad>', '<pad>', '<pad>', '<pad>', '<pad>', '<pad>', '<pad>', '<pad>', '<pad>', '<pad>', '<pad>', '<pad>', '<pad>', '<pad>', '<pad>', '<pad>', '<pad>', '<pad>', '<pad>', '<pad>', '<pad>', '<pad>', '<pad>', '<pad>', '<pad>', '<pad>', '<pad>', '<pad>', '<pad>', '<pad>', '<pad>', '<pad>', '<pad>', '<pad>', '<pad>', '<pad>', '<pad>', '<pad>', '<pad>', '<pad>', '<pad>', '<pad>', '<pad>', '<pad>', '<pad>', '<pad>', '<pad>', '<pad>', '<pad>', '<pad>', '<pad>', '<pad>', '<pad>', '<pad>', '<pad>', '<pad>', '<pad>', '<pad>', '<pad>', '<pad>', '<pad>', '<pad>', '<pad>', '<pad>', '<pad>', '<pad>', '<pad>', '<pad>', '<pad>', '<pad>', '<pad>', '<pad>', '<pad>', '<pad>', '<pad>', '<pad>', '<pad>', '<pad>', '<pad>', '<pad>', '<pad>', '<pad>', '<pad>', '<pad>', '<pad>', '<pad>', '<pad>', '<pad>', '<pad>', '<pad>', '<pad>', '<pad>', '<pad>', '<pad>', '<pad>', '<pad>', '<pad>', '<pad>', '<pad>', '<pad>', '<pad>', '<pad>', '<pad>', '<pad>', '<pad>', '<pad>', '<pad>', '<pad>', '<pad>', '<pad>', '<pad>', '<pad>', '<pad>', '<pad>', '<pad>', '<pad>', '<pad>', '<pad>', '<pad>', '<pad>', '<pad>', '<pad>', '<pad>', '<pad>', '<pad>', '<pad>', '<pad>', '<pad>', '<pad>', '<pad>', '<pad>', '<pad>', '<pad>', '<pad>', '<pad>', '<pad>', '<pad>', '<pad>', '<pad>', '<pad>', '<pad>', '<pad>', '<pad>', '<pad>', '<pad>', '<pad>', '<pad>', '<pad>', '<pad>', '<pad>', '<pad>', '<pad>', '<pad>', '<pad>', '<pad>', '<pad>', '<pad>', '<pad>', '<pad>', '<pad>', '<pad>', '<pad>', '<pad>', '<pad>', '<pad>', '<pad>', '<pad>', '<pad>', '<pad>', '<pad>', '<pad>', '<pad>', '<pad>', '<pad>', '<pad>', '<pad>', '<pad>', '<pad>', '<pad>', '<pad>', '<pad>', '<pad>', '<pad>', '<pad>', '<pad>', '<pad>', '<pad>', '<pad>', '<pad>', '<pad>', '<pad>', '<pad>', '<pad>', '<pad>', '<pad>', '<pad>', '<pad>', '<pad>', '<pad>', '<pad>', '<pad>', '<pad>', '<pad>', '<pad>', '<pad>', '<pad>', '<pad>', '<pad>', '<pad>', '<pad>', '<pad>', '<pad>', '<pad>', '<pad>', '<pad>', '<pad>', '<pad>', '<pad>', '<pad>', '<pad>', '<pad>', '<pad>', '<pad>', '<pad>', '<pad>', '<pad>', '<pad>', '<pad>', '<pad>', '<pad>', '<pad>', '<pad>', '<pad>', '<pad>', '<pad>', '<pad>', '<pad>', '<pad>', '<pad>', '<pad>', '<pad>', '<pad>', '<pad>', '<pad>', '<pad>', '<pad>', '<pad>', '<pad>', '<pad>', '<pad>', '<pad>', '<pad>', '<pad>', '<pad>', '<pad>', '<pad>', '<pad>', '<pad>', '<pad>', '<pad>', '<pad>', '<pad>', '<pad>', '<pad>', '<pad>', '<pad>', '<pad>', '<pad>', '<pad>', '<pad>', '<pad>', '<pad>', '<pad>', '<pad>', '<pad>', '<pad>', '<pad>', '<pad>', '<pad>', '<pad>', '<pad>', '<pad>', '<pad>', '<pad>', '<pad>', '<pad>', '<pad>', '<pad>', '<pad>', '<pad>', '<pad>', '<pad>', '<pad>', '<pad>', '<pad>', '<pad>', '<pad>', '<pad>', '<pad>', '<pad>', '<pad>', '<pad>', '<pad>', '<pad>', '<pad>', '<pad>', '<pad>', '<pad>', '<pad>', '<pad>', '<pad>', '<pad>', '<pad>', '<pad>', '<pad>', '<pad>', '<pad>', '<pad>', '<pad>', '<pad>', '<pad>', '<pad>', '<pad>', '<pad>', '<pad>', '<pad>', '<pad>', '<pad>', '<pad>', '<pad>', '<pad>', '<pad>', '<pad>', '<pad>', '<pad>', '<pad>', '<pad>', '<pad>', '<pad>', '<pad>', '<pad>', '<pad>', '<pad>', '<pad>', '<pad>', '<pad>', '<pad>', '<pad>', '<pad>', '<pad>', '<pad>', '<pad>', '<pad>', '<pad>', '<pad>', '<pad>', '<pad>', '<pad>', '<pad>', '<pad>', '<pad>', '<pad>', '<pad>', '<pad>', '<pad>', '<pad>', '<pad>', '<pad>', '<pad>', '<pad>', '<pad>', '<pad>', '<pad>', '<pad>', '<pad>', '<pad>', '<pad>', '<pad>', '<pad>', '<pad>', '<pad>', '<pad>', '<pad>', '<pad>', '<pad>', '<pad>', '<pad>', '<pad>', '<pad>', '<pad>', '<pad>', '<pad>', '<pad>', '<pad>', '<pad>', '<pad>', '<pad>', '<pad>', '<pad>', '<pad>', '<pad>', '<pad>', '<pad>', '<pad>', '<pad>', '<pad>', '<pad>', '<pad>', '<pad>', '<pad>', '<pad>', '<pad>', '<pad>', '<pad>', '<pad>', '<pad>', '<pad>', '<pad>', '<pad>', '<pad>', '<pad>', '<pad>', '<pad>', '<pad>', '<pad>', '<pad>', '<pad>', '<pad>', '<pad>', '<pad>', '<pad>', '<pad>', '<pad>', '<pad>', '<pad>', '<pad>', '<pad>', '<pad>', '<pad>', '<pad>', '<pad>', '<pad>', '<pad>', '<pad>', '<pad>', '<pad>', '<pad>', '<pad>', '<pad>', '<pad>', '<pad>', '<pad>', '<pad>', '<pad>', '<pad>', '<pad>', '<pad>', '<pad>', '<pad>', '<pad>', '<pad>', '<pad>', '<pad>', '<pad>', '<pad>', '<pad>', '<pad>', '<pad>', '<pad>', '<pad>', '<pad>', '<pad>', '<pad>', '<pad>', '<pad>', '<pad>', '<pad>', '<pad>', '<pad>', '<pad>', '<pad>', '<pad>', '<pad>', '<pad>', '<pad>', '<pad>', '<pad>', '<pad>', '<pad>', '<pad>', '<pad>', '<pad>', '<pad>', '<pad>', '<pad>', '<pad>', '<pad>', '<pad>', '<pad>', '<pad>', '<pad>', '<pad>', '<pad>', '<pad>', '<pad>', '<pad>', '<pad>', '<pad>', '<pad>', '<pad>', '<pad>', '<pad>', '<pad>', '<pad>', '<pad>', '<pad>', '<pad>', '<pad>', '<pad>', '<pad>', '<pad>', '<pad>', '<pad>', '<pad>', '<pad>', '<pad>', '<pad>', '<pad>', '<pad>', '<pad>', '<pad>', '<pad>', '<pad>', '<pad>', '<pad>', '<pad>', '<pad>', '<pad>', '<pad>', '<pad>', '<pad>', '<pad>', '<pad>', '<pad>', '<pad>', '<pad>', '<pad>', '<pad>', '<pad>', '<pad>', '<pad>', '<pad>', '<pad>', '<pad>', '<pad>', '<pad>', '<pad>', '<pad>', '<pad>', '<pad>', '<pad>', '<pad>', '<pad>', '<pad>', '<pad>', '<pad>', '<pad>', '<pad>', '<pad>', '<pad>', '<pad>', '<pad>', '<pad>', '<pad>', '<pad>', '<pad>', '<pad>', '<pad>', '<pad>', '<pad>', '<pad>', '<pad>', '<pad>', '<pad>', '<pad>', '<pad>', '<pad>', '<pad>', '<pad>', '<pad>', '<pad>', '<pad>', '<pad>', '<pad>', '<pad>', '<pad>', '<pad>', '<pad>', '<pad>', '<pad>', '<pad>', '<pad>', '<pad>', '<pad>', '<pad>', '<pad>', '<pad>', '<pad>', '<pad>', '<pad>', '<pad>', '<pad>', '<pad>', '<pad>', '<pad>', '<pad>', '<pad>', '<pad>', '<pad>', '<pad>', '<pad>', '<pad>', '<pad>', '<pad>', '<pad>', '<pad>', '<pad>']\n",
            "Decoded Text: đường hô_hấp có các hệ_thống lọc đường thở trên nếu các sinh_vật xâm_nhập cây phế_quản biểu mô niêm_mạc sẽ di_chuyển chúng ra khỏi phổi ho cũng giúp loại_bỏ các sinh_vật nếu các sinh_vật đến được phế_nang các đại thực bào phế_nang và các tế_bào biểu mô hấp_thụ chúng tuy_nhiên những biện_pháp phòng_vệ này có_thể bị vượt qua được bởi một số_lượng lớn các sinh_vật hoặc do khả_năng bị suy_giảm do các chất gây ô_nhiễm không_khí ví_dụ như khói thuốc_lá hoặc can_thiệp vào các cơ_chế bảo_vệ ví_dụ đặt nội khí_quản mở khí_quản hoặc do dị_tật bẩm_sinh ví_dụ bệnh xơ nang\n",
            "==================================================\n"
          ]
        }
      ]
    },
    {
      "cell_type": "markdown",
      "source": [
        "## Check word embeding"
      ],
      "metadata": {
        "id": "CucEzRLiORjX"
      }
    },
    {
      "cell_type": "code",
      "source": [
        "# Define a function to check word embeddings\n",
        "def check_word_embeddings(texts, tokenizer):\n",
        "    missing_words = set()\n",
        "    all_words = set()\n",
        "\n",
        "    # Tokenize each text and collect words\n",
        "    for text in texts:\n",
        "        # Ensure text is a string before tokenization\n",
        "        if not isinstance(text, str):\n",
        "            text = str(text)  # Convert to string if not already\n",
        "        tokens = tokenizer.tokenize(text)\n",
        "        all_words.update(tokens)\n",
        "\n",
        "    # Check which words are in the tokenizer's vocabulary\n",
        "    tokenizer_vocab = tokenizer.get_vocab()\n",
        "    missing_words = [word for word in all_words if word not in tokenizer_vocab]\n",
        "\n",
        "    return missing_words"
      ],
      "metadata": {
        "id": "N61aeZGtq5t8"
      },
      "execution_count": null,
      "outputs": []
    },
    {
      "cell_type": "code",
      "source": [
        "# Check missing words\n",
        "missing_words = check_word_embeddings(detailed_contents, tokenizer)\n",
        "\n",
        "# Print results\n",
        "print(\"Number of missing words:\", len(missing_words))\n",
        "print(\"Missing words:\", missing_words)"
      ],
      "metadata": {
        "colab": {
          "base_uri": "https://localhost:8080/"
        },
        "id": "6zosTxB0q843",
        "outputId": "6878a951-be75-46ef-84c2-41d00851baa8"
      },
      "execution_count": null,
      "outputs": [
        {
          "output_type": "stream",
          "name": "stdout",
          "text": [
            "Number of missing words: 524\n",
            "Missing words: ['▁licence', '▁ο', '▁amalga', '▁reta', '▁apparent', '▁cred', '▁zile', 'nadh', '▁vibr', '▁karta', '▁moja', '‡', '▁fonda', '▁kasaba', '▁aire', '▁gust', '▁stim', '▁pct', '▁efe', 'pastu', '▁crit', '▁sporo', '▁nih', '▁coordinat', '▁dib', '▁previa', '▁corporis', '▁federa', '▁tosi', '▁hominis', '▁lhe', '▁tòa', '▁chronic', '▁oly', '▁bence', '▁iglesia', 'ǂ', '▁infection', '▁modifier', '▁arter', '▁henne', '▁criza', '▁piv', '▁lyser', '▁lyst', '▁itt', '▁prostat', '▁dental', '▁chuva', 'adolescent', '▁apne', '▁mero', '▁ryg', '▁haj', '▁physio', '▁sensitive', '▁minimal', '▁prognos', '▁stok', '▁comprehensive', '▁dọa', '▁institut', '▁ym', '▁rendu', '▁fungo', '▁sjö', '▁ganti', '▁fy', '▁urin', '▁durable', 'lusta', '▁xist', '▁chiar', '▁neer', 'neho', '▁nepri', '▁dhe', '▁rendel', '▁buni', '▁bied', '▁manifestation', '▁bordet', '▁occupa', '▁snelle', '▁hazard', '▁treated', '▁hav', '▁hỏa', '▁vim', 'qol', '▁teraz', '▁renal', '▁medication', '▁lait', '▁psychiatr', '▁lak', '▁fez', '▁baze', '▁wann', '▁sisa', 'popol', '▁pyy', '▁anomali', '▁azy', '▁wegen', 'consider', '▁fok', '▁audit', 'ivos', '▁commission', '▁tens', '▁synd', '▁reag', '▁surgery', '▁indice', '▁nafar', '▁routine', '▁recommendations', 'intro', '▁pils', '▁allergi', '▁cilt', '▁respirator', '▁berlin', '▁hinc', '▁svo', '▁melk', '▁graves', '▁bero', '▁apre', '▁tests', '▁emergency', '▁ganz', '▁kall', '▁agen', '▁counsel', '▁hemos', '▁itp', '▁tùy', 'eeee', '▁kies', '▁screening', '▁multime', '▁elf', '▁apr', 'ssss', '▁mees', '▁valgus', '▁legi', '▁xóa', '▁prep', '▁strain', '▁cila', '▁regime', '▁babes', 'nkt', '▁indir', '▁ambula', '▁olan', '▁respira', '▁famo', '▁orto', '▁tega', '▁preventiv', '▁courses', '▁agam', '▁menn', '▁gik', '▁inta', '▁urobil', '▁calm', '▁hva', '▁london', '▁visible', '▁ucrain', '▁identify', '▁systematic', 'uose', '▁heer', '▁reik', '▁jeg', 'propor', '▁aap', '▁folle', '▁olsa', 'depressiv', '▁brug', '▁gero', '▁gleich', '▁gesta', '▁hủy', 'besar', '▁pime', '▁hace', '▁sfi', '▁cca', '▁daun', '▁bér', '▁assess', '▁advice', '▁examina', '▁facit', '▁khóa', '▁metabolism', '▁gauche', '▁focused', '▁muga', '▁foram', '▁relation', '▁causing', '▁relat', '▁traz', '▁certo', '▁aspira', '▁insult', '▁diverti', '▁noma', '▁appropriate', '▁elastan', '▁dle', '▁kini', '▁ndi', '▁helps', '▁vei', '▁dron', 'neutral', '▁rinne', 'vlad', '▁pleca', '▁brenn', '▁european', 'regul', '▁metros', '▁bude', '▁uva', '▁feil', '▁siad', '▁agita', '▁dermatolog', '▁multo', '▁valg', '▁comparison', '▁iti', '▁laborator', '▁individuals', '▁severe', 'laget', 'àna', '▁fiducia', '▁prematur', '▁intensiv', '▁bref', '▁norme', '▁rett', '▁eso', '↓', '▁kras', '▁cardiac', '▁ventilator', '▁molecular', '˃', '▁prospect', '▁sinus', '▁peau', '▁hj', '▁outcome', '▁vorto', '▁mrk', 'sinn', '▁expose', '▁yolda', '▁feb', '▁efa', '▁prac', 'banding', '▁uste', '▁klaus', '▁trus', '▁januar', '▁toca', '▁bouton', '▁napi', '▁amen', '▁sert', '▁autism', '▁epidemi', '▁iad', '▁klippe', '▁thủy', '▁trauma', '▁tez', '▁brud', '▁jari', '▁behalf', '▁uli', '▁shiga', '▁procedura', '▁matern', '▁họa', '▁kü', '▁appreciate', '▁structura', '_', '▁metai', '▁vinde', '▁ej', '▁meio', '▁malas', '▁relief', '▁cardiovascular', '▁peut', '▁veg', '▁hòa', '¶', 'giem', '▁posa', '▁gravida', '▁nej', '▁fallo', 'paus', '▁bulu', '▁naj', '▁aduc', '▁interpret', '▁periodic', '▁gj', '▁aq', '▁bruit', '▁fh', '▁prava', '▁edo', 'schirm', '▁agencies', '▁segar', '▁stie', '▁centru', '▁infants', '▁abuse', '▁comparativ', '▁pyar', '▁prazo', '▁treg', '▁ajo', '▁heen', 'zanim', '‖', '▁plazo', '▁pulmonar', '§', 'alimentation', '▁japanese', '▁malign', '▁adolescents', '▁ici', '▁halos', '▁campagna', '▁dobu', '▁nera', 'vrh', '▁strategie', '▁providing', '▁upad', '▁blau', '▁viser', '▁fari', '▁teman', '▁ondan', '▁significa', '▁mna', '▁calme', '▁faci', '▁vola', '▁fein', '▁icma', '▁aps', '▁osim', '▁consensu', '▁benda', '▁sequenti', '▁maji', '▁risa', '▁moderna', 'abast', '▁noon', '▁retard', '▁tros', '▁fick', '▁improvement', '▁lille', '▁pilar', '▁puu', '▁agents', 'löf', '▁geri', '▁casal', '▁puesto', '▁diam', '▁tunel', '▁jiro', '▁ilo', '▁dosta', '▁sota', '▁consideration', '▁khỏe', '▁nemali', '▁humor', '▁pik', '▁spes', '▁activ', '▁intestinal', '▁hamar', 'tider', '▁kring', '▁mortal', '▁fastidio', '▁observation', '▁circulation', '▁lubi', '▁pharmacy', '▁creu', '▁summary', '▁castra', '▁mcm', '▁cellulare', '▁modification', '▁schön', '▁aller', '▁pots', '▁anser', '▁waard', '▁proposal', '▁barcelo', '▁practical', '▁patir', '▁previ', '▁kesk', '▁ủy', '▁mutation', '▁risus', '▁qal', '▁klin', '▁_', '▁sest', 'appropria', '▁neurodermatitis', '▁externo', '▁dado', 'nast', '▁toll', '▁nutrition', '▁vur', '▁cognitive', '▁hev', 'terv', '▁physician', '▁heit', '▁conversation', '▁mechan', 'giver', '▁gilt', '▁nedo', '▁saa', '▁dolu', '▁iar', '▁patient', '▁unna', '▁febr', 'barkeit', '▁bruto', 'aois', '▁supplement', '▁sano', '▁antibiotic', '▁sken', '▁trec', '▁quarta', '▁sympa', '▁trh', '▁amik', '▁kaina', '▁cid', '▁recommended', '▁aloe', '▁menet', '▁sebe', 'fase', '▁prob', '▁graafi', '▁mü', '▁acho', '▁samt', '▁fourni', '▁↑', '▁kova', '▁evaluation', '▁pone', '▁rhag', '▁asking', '▁kakak', '▁suv', '▁guidelines', '▁teri', '▁excess', '▁dri', '▁developing', '▁tọa', '▁diabetes', '▁eventually', '▁iga', '▁\\u202c', '▁patients', '▁diagnostic', '▁ehrlich', '▁langer', '▁mbl', '▁cerebro', '▁pediatr', '▁pregnant', '▁mö', '▁nevi', '▁pamo', '▁stair', '▁dedicato', '▁gwa']\n"
          ]
        }
      ]
    },
    {
      "cell_type": "markdown",
      "source": [
        "## 5. Defining the Medical Dataset Class"
      ],
      "metadata": {
        "id": "Kr0MKfoqzETw"
      }
    },
    {
      "cell_type": "code",
      "source": [
        "class MedicalDataset(Dataset):\n",
        "    def __init__(self, input_encodings, answer_encodings):\n",
        "        self.input_encodings = input_encodings\n",
        "        self.answer_encodings = answer_encodings\n",
        "\n",
        "    def __len__(self):\n",
        "        return len(self.input_encodings['input_ids'])\n",
        "\n",
        "    def __getitem__(self, idx):\n",
        "        input_ids = self.input_encodings['input_ids'][idx]\n",
        "        attention_mask = self.input_encodings['attention_mask'][idx]\n",
        "        labels = self.answer_encodings['input_ids'][idx]\n",
        "\n",
        "        # Padding hoặc cắt ngắn labels để khớp với kích thước input_ids\n",
        "        if len(labels) < len(input_ids):\n",
        "            labels = labels + [0] * (len(input_ids) - len(labels))  # Padding\n",
        "        elif len(labels) > len(input_ids):\n",
        "            labels = labels[:len(input_ids)]  # Cắt ngắn\n",
        "\n",
        "        return {\n",
        "            'input_ids': torch.tensor(input_ids, dtype=torch.long),\n",
        "            'attention_mask': torch.tensor(attention_mask, dtype=torch.long),\n",
        "            'labels': torch.tensor(labels, dtype=torch.long)\n",
        "        }\n"
      ],
      "metadata": {
        "id": "QlP7eGmg43GT"
      },
      "execution_count": null,
      "outputs": []
    },
    {
      "cell_type": "code",
      "source": [
        "# Shuffle dữ liệu trước khi chia\n",
        "def shuffle_data(input_encodings, answer_encodings):\n",
        "    perm = torch.randperm(len(input_encodings['input_ids']))\n",
        "    for key in input_encodings.keys():\n",
        "        input_encodings[key] = input_encodings[key][perm]\n",
        "        answer_encodings[key] = answer_encodings[key][perm]\n",
        "    return input_encodings, answer_encodings\n",
        "\n",
        "# Shuffle dữ liệu\n",
        "input_encodings, answer_encodings = shuffle_data(input_encodings, answer_encodings)\n",
        "\n",
        "# Chia dữ liệu thành tập train và validation\n",
        "train_size = int(0.8 * len(input_encodings['input_ids']))\n",
        "val_size = len(input_encodings['input_ids']) - train_size\n",
        "\n",
        "train_dataset = MedicalDataset(\n",
        "    {key: val[:train_size] for key, val in input_encodings.items()},\n",
        "    {key: val[:train_size] for key, val in answer_encodings.items()}\n",
        ")\n",
        "\n",
        "val_dataset = MedicalDataset(\n",
        "    {key: val[train_size:] for key, val in input_encodings.items()},\n",
        "    {key: val[train_size:] for key, val in answer_encodings.items()}\n",
        ")\n",
        "\n",
        "# Bạn có thể kiểm tra kích thước của train và val dataset\n",
        "print(f\"Kích thước tập huấn luyện: {len(train_dataset)}\")\n",
        "print(f\"Kích thước tập kiểm tra: {len(val_dataset)}\")"
      ],
      "metadata": {
        "id": "awgrEFMI9luO",
        "colab": {
          "base_uri": "https://localhost:8080/"
        },
        "outputId": "2ca055a6-5d17-403e-e575-9f96774ceacc"
      },
      "execution_count": null,
      "outputs": [
        {
          "output_type": "stream",
          "name": "stdout",
          "text": [
            "Kích thước tập huấn luyện: 9990\n",
            "Kích thước tập kiểm tra: 2498\n"
          ]
        }
      ]
    },
    {
      "cell_type": "markdown",
      "source": [
        "### Dataloaders"
      ],
      "metadata": {
        "id": "HoIUvRCKnNQ-"
      }
    },
    {
      "cell_type": "code",
      "source": [
        "# Dataloaders\n",
        "train_loader = DataLoader(train_dataset, batch_size=batch_size, shuffle=True)\n",
        "val_loader = DataLoader(val_dataset, batch_size=batch_size, shuffle=False)\n",
        "\n",
        "# Optimizer and Scheduler\n",
        "optimizer = AdamW(model.parameters(), lr=learning_rate)"
      ],
      "metadata": {
        "id": "obVqjlS4LKdY",
        "colab": {
          "base_uri": "https://localhost:8080/"
        },
        "outputId": "17762b82-e1c1-4d9e-cfcc-f92e51c33fcd"
      },
      "execution_count": null,
      "outputs": [
        {
          "output_type": "stream",
          "name": "stderr",
          "text": [
            "/usr/local/lib/python3.10/dist-packages/transformers/optimization.py:591: FutureWarning: This implementation of AdamW is deprecated and will be removed in a future version. Use the PyTorch implementation torch.optim.AdamW instead, or set `no_deprecation_warning=True` to disable this warning\n",
            "  warnings.warn(\n"
          ]
        }
      ]
    },
    {
      "cell_type": "markdown",
      "source": [
        "## **10. Training the Model**"
      ],
      "metadata": {
        "id": "LJfscdNa0yfp"
      }
    },
    {
      "cell_type": "code",
      "source": [
        "def train_bart_chatbot(model, tokenizer, train_loader, val_loader, optimizer, num_epochs=3, gradient_accumulation_steps=4):\n",
        "    best_val_loss = float('inf')\n",
        "    model.train()\n",
        "\n",
        "    for epoch in range(num_epochs):\n",
        "        total_loss = 0\n",
        "\n",
        "        epoch_progress_bar = tqdm(enumerate(train_loader), total=len(train_loader),\n",
        "                                  desc=f\"Epoch {epoch + 1}/{num_epochs}\", leave=False)\n",
        "\n",
        "        for step, batch in epoch_progress_bar:\n",
        "            try:\n",
        "                inputs = {k: v.to(device) for k, v in batch.items()}\n",
        "                outputs = model(**inputs)\n",
        "\n",
        "                loss = outputs.loss\n",
        "                total_loss += loss.item()\n",
        "\n",
        "                loss = loss / gradient_accumulation_steps\n",
        "                loss.backward()\n",
        "\n",
        "                if (step + 1) % gradient_accumulation_steps == 0:\n",
        "                    optimizer.step()\n",
        "                    optimizer.zero_grad()\n",
        "\n",
        "                epoch_progress_bar.set_postfix({\"Loss\": total_loss / (step + 1)})\n",
        "\n",
        "            except IndexError as e:\n",
        "                print(f\"IndexError during training step {step}: {e}\")\n",
        "                raise e\n",
        "\n",
        "        avg_loss = total_loss / len(train_loader)\n",
        "        logging.info(f\"Epoch {epoch + 1}/{num_epochs}, Average Loss: {avg_loss}\")\n",
        "\n",
        "        # Validation\n",
        "        model.eval()\n",
        "        # Validation after each epoch\n",
        "        val_loss = validate_bart_chatbot_during_training(model, val_loader, device)\n",
        "        model.train()\n",
        "\n",
        "        # Save the best model based on validation loss\n",
        "        if val_loss < best_val_loss:\n",
        "            best_val_loss = val_loss\n",
        "            torch.save(model.state_dict(), \"best_bart_model.pt\")\n"
      ],
      "metadata": {
        "id": "N4VgY_hj08Y7"
      },
      "execution_count": null,
      "outputs": []
    },
    {
      "cell_type": "code",
      "source": [
        "def validate_bart_chatbot_during_training(model, val_loader, device):\n",
        "    model.eval()\n",
        "    total_loss = 0\n",
        "\n",
        "    for batch in tqdm(val_loader, desc=\"Validating\"):\n",
        "        with torch.no_grad():\n",
        "            inputs = {k: v.to(device) for k, v in batch.items()}\n",
        "            outputs = model(**inputs)\n",
        "            loss = outputs.loss\n",
        "            total_loss += loss.item()\n",
        "\n",
        "    avg_val_loss = total_loss / len(val_loader)\n",
        "    logging.info(f\"Validation Loss: {avg_val_loss}\")\n",
        "\n",
        "    return avg_val_loss"
      ],
      "metadata": {
        "id": "CVYV3ATdSbYo"
      },
      "execution_count": null,
      "outputs": []
    },
    {
      "cell_type": "code",
      "source": [
        "def exact_match(prediction, ground_truth):\n",
        "    return prediction.strip() == ground_truth.strip()\n",
        "\n",
        "def f1(prediction, ground_truth):\n",
        "    pred_tokens = prediction.split()\n",
        "    gt_tokens = ground_truth.split()\n",
        "\n",
        "    common = set(pred_tokens) & set(gt_tokens)\n",
        "    if len(common) == 0:\n",
        "        return 0.0\n",
        "\n",
        "    precision = len(common) / len(pred_tokens)\n",
        "    recall = len(common) / len(gt_tokens)\n",
        "    f1 = 2 * (precision * recall) / (precision + recall)\n",
        "    return f1"
      ],
      "metadata": {
        "id": "jOjf1_glfKua"
      },
      "execution_count": null,
      "outputs": []
    },
    {
      "cell_type": "code",
      "source": [
        "def validate_bart_chatbot_after_training(model, tokenizer, val_loader, device):\n",
        "    model.eval()\n",
        "    total_loss = 0\n",
        "    em_score = 0\n",
        "    f1_scores = []\n",
        "\n",
        "    for batch in tqdm(val_loader, desc=\"Final Evaluation\"):\n",
        "        with torch.no_grad():\n",
        "            # Ensure all tensors are on the correct device\n",
        "            inputs = {k: v.to(device) for k, v in batch.items()}\n",
        "            outputs = model(**inputs)\n",
        "            loss = outputs.loss\n",
        "            total_loss += loss.item()\n",
        "\n",
        "            # Use the customized generation settings\n",
        "            predictions = model.generate(\n",
        "                input_ids=inputs['input_ids'],\n",
        "                attention_mask=inputs['attention_mask'],\n",
        "                max_length=answer_max_length,  # or answer_max_length if defined\n",
        "                do_sample=True,\n",
        "                top_k=50,\n",
        "                top_p=0.92,\n",
        "                temperature=0.7,\n",
        "                no_repeat_ngram_size=1,\n",
        "                early_stopping=True\n",
        "            )\n",
        "\n",
        "            # Move predictions and labels to CPU if they are on GPU\n",
        "            decoded_preds = [tokenizer.decode(g.cpu(), skip_special_tokens=True, clean_up_tokenization_spaces=False) for g in predictions]\n",
        "            decoded_labels = [tokenizer.decode(g.cpu(), skip_special_tokens=True, clean_up_tokenization_spaces=False) for g in inputs['labels']]\n",
        "\n",
        "            for pred, label in zip(decoded_preds, decoded_labels):\n",
        "                print(f\"Prediction: {pred}\")\n",
        "                print(f\"Label: {label}\")\n",
        "                em_score += exact_match(pred, label)\n",
        "                f1_scores.append(f1(pred, label))\n",
        "\n",
        "    avg_val_loss = total_loss / len(val_loader)\n",
        "    avg_em_score = em_score / len(val_loader.dataset)\n",
        "    avg_f1_score = sum(f1_scores) / len(f1_scores)\n",
        "\n",
        "    logging.info(f\"Final Validation Loss: {avg_val_loss}\")\n",
        "    logging.info(f\"Exact Match: {avg_em_score}\")\n",
        "    logging.info(f\"F1 Score: {avg_f1_score}\")\n",
        "\n",
        "    return avg_val_loss, avg_em_score, avg_f1_score"
      ],
      "metadata": {
        "id": "XJuYZ-xqKJ7r"
      },
      "execution_count": null,
      "outputs": []
    },
    {
      "cell_type": "markdown",
      "source": [
        "## 11. Start Training"
      ],
      "metadata": {
        "id": "_1sr5UUT1MYG"
      }
    },
    {
      "cell_type": "code",
      "source": [
        "# Train the model\n",
        "train_bart_chatbot(model, tokenizer, train_loader, val_loader, optimizer, num_epochs=num_epochs)"
      ],
      "metadata": {
        "colab": {
          "base_uri": "https://localhost:8080/"
        },
        "id": "YzZBSercKcaw",
        "outputId": "40a3f2ba-8293-4690-d076-cb8b5f67309f"
      },
      "execution_count": null,
      "outputs": [
        {
          "output_type": "stream",
          "name": "stderr",
          "text": [
            "\rEpoch 1/6:   0%|          | 0/625 [00:00<?, ?it/s]<ipython-input-27-7faf1f6833a9>:21: UserWarning: To copy construct from a tensor, it is recommended to use sourceTensor.clone().detach() or sourceTensor.clone().detach().requires_grad_(True), rather than torch.tensor(sourceTensor).\n",
            "  'input_ids': torch.tensor(input_ids, dtype=torch.long),\n",
            "<ipython-input-27-7faf1f6833a9>:22: UserWarning: To copy construct from a tensor, it is recommended to use sourceTensor.clone().detach() or sourceTensor.clone().detach().requires_grad_(True), rather than torch.tensor(sourceTensor).\n",
            "  'attention_mask': torch.tensor(attention_mask, dtype=torch.long),\n",
            "<ipython-input-27-7faf1f6833a9>:23: UserWarning: To copy construct from a tensor, it is recommended to use sourceTensor.clone().detach() or sourceTensor.clone().detach().requires_grad_(True), rather than torch.tensor(sourceTensor).\n",
            "  'labels': torch.tensor(labels, dtype=torch.long)\n",
            "Validating: 100%|██████████| 157/157 [00:38<00:00,  4.11it/s]\n",
            "Validating: 100%|██████████| 157/157 [00:38<00:00,  4.10it/s]\n",
            "Validating: 100%|██████████| 157/157 [00:38<00:00,  4.12it/s]\n",
            "Validating: 100%|██████████| 157/157 [00:38<00:00,  4.08it/s]\n",
            "Validating: 100%|██████████| 157/157 [00:38<00:00,  4.10it/s]\n",
            "Validating: 100%|██████████| 157/157 [00:38<00:00,  4.09it/s]\n"
          ]
        }
      ]
    },
    {
      "cell_type": "code",
      "source": [
        "# final_val_loss, final_em_score, final_f1_score = validate_bart_chatbot_after_training(model, tokenizer, val_loader, device)\n",
        "# logging.info(f\"Final Exact Match: {final_em_score}\")\n",
        "# logging.info(f\"Final F1 Score: {final_f1_score}\")"
      ],
      "metadata": {
        "id": "my1Xj5yKFj2r"
      },
      "execution_count": null,
      "outputs": []
    },
    {
      "cell_type": "code",
      "source": [
        "# final_val_loss, final_em_score, final_f1_score = validate_bart_chatbot_after_training(model, tokenizer, val_loader, device)\n",
        "# logging.info(f\"Final Exact Match: {final_em_score}\")\n",
        "# logging.info(f\"Final F1 Score: {final_f1_score}\")"
      ],
      "metadata": {
        "id": "cKwdVfRASwj6"
      },
      "execution_count": null,
      "outputs": []
    },
    {
      "cell_type": "code",
      "source": [
        "# print(f\"Final Exact Match: {final_em_score}\")\n",
        "# print(f\"Final final_val_loss: {final_val_loss}\")\n",
        "# print(f\"Final F1 Score: {final_f1_score}\")"
      ],
      "metadata": {
        "id": "AccmKo5k_TXf"
      },
      "execution_count": null,
      "outputs": []
    },
    {
      "cell_type": "markdown",
      "source": [
        "## 12.Load the Fine-Tuned Model"
      ],
      "metadata": {
        "id": "5JSv7ygxrtxL"
      }
    },
    {
      "cell_type": "code",
      "source": [
        "# Save the fine-tuned model\n",
        "model.save_pretrained('/content/drive/MyDrive/ChatBox/model/fine_tuned_bart')\n",
        "tokenizer.save_pretrained('/content/drive/MyDrive/ChatBox/model/fine_tuned_bart')"
      ],
      "metadata": {
        "id": "IpaSHhZ3b1ES",
        "colab": {
          "base_uri": "https://localhost:8080/"
        },
        "outputId": "e2ec5e1c-4d0e-49cf-9774-cc3fff98fc94"
      },
      "execution_count": null,
      "outputs": [
        {
          "output_type": "stream",
          "name": "stderr",
          "text": [
            "Some non-default generation parameters are set in the model config. These should go into a GenerationConfig file (https://huggingface.co/docs/transformers/generation_strategies#save-a-custom-decoding-strategy-with-your-model) instead. This warning will be raised to an exception in v4.41.\n",
            "Non-default generation parameters: {'forced_eos_token_id': 2}\n"
          ]
        },
        {
          "output_type": "execute_result",
          "data": {
            "text/plain": [
              "('/content/drive/MyDrive/ChatBox/model/fine_tuned_bart/tokenizer_config.json',\n",
              " '/content/drive/MyDrive/ChatBox/model/fine_tuned_bart/special_tokens_map.json',\n",
              " '/content/drive/MyDrive/ChatBox/model/fine_tuned_bart/sentencepiece.bpe.model',\n",
              " '/content/drive/MyDrive/ChatBox/model/fine_tuned_bart/dict.txt',\n",
              " '/content/drive/MyDrive/ChatBox/model/fine_tuned_bart/added_tokens.json')"
            ]
          },
          "metadata": {},
          "execution_count": 78
        }
      ]
    },
    {
      "cell_type": "markdown",
      "source": [
        "## 13. Example: Generating a Response to a User's Question"
      ],
      "metadata": {
        "id": "LZ7P8N_41Jc0"
      }
    },
    {
      "cell_type": "code",
      "source": [
        "def generate_responses(input_text: str, num_responses=5) -> None:\n",
        "    \"\"\"\n",
        "    Generate and print multiple responses for the input text using a pre-trained model and tokenizer.\n",
        "\n",
        "    Args:\n",
        "        input_text (str): Input text for generating responses.\n",
        "        model: Pre-trained BART model.\n",
        "        tokenizer: Tokenizer for BART.\n",
        "        device (str): Device to run the model on ('cpu' or 'cuda'). Defaults to 'cpu'.\n",
        "        max_length (int): Maximum length of the generated response. Defaults to 1024.\n",
        "        num_responses (int): Number of responses to generate. Defaults to 5.\n",
        "    \"\"\"\n",
        "    # Tokenize input text and move tensors to device\n",
        "    inputs = tokenizer.encode_plus(input_text, return_tensors='pt',\n",
        "                                  truncation=True, max_length=50)\n",
        "    input_ids = inputs[\"input_ids\"].to(device) # Use the device argument directly\n",
        "    attention_mask = inputs[\"attention_mask\"].to(device)\n",
        "\n",
        "    # Move the model to the device\n",
        "    model.to(device)\n",
        "\n",
        "    # Generate response using the model\n",
        "    with torch.no_grad():\n",
        "         output = model.generate(\n",
        "            input_ids=input_ids,\n",
        "            attention_mask=attention_mask,\n",
        "            max_length=200,\n",
        "            num_beams=5,  # Use beam search\n",
        "            early_stopping=True,\n",
        "            no_repeat_ngram_size=2\n",
        "        )\n",
        "\n",
        "    # Decode the generated response\n",
        "    response = tokenizer.decode(output[0], skip_special_tokens=True, clean_up_tokenization_spaces=True)\n",
        "\n",
        "    return response"
      ],
      "metadata": {
        "id": "cd1mo8pbCWDK"
      },
      "execution_count": null,
      "outputs": []
    },
    {
      "cell_type": "code",
      "source": [
        "# Example\n",
        "user_question = \"rào_cản tự_nhiên chống lại nhiễm_trùng về niêm_mạc\"\n",
        "response = generate_responses(user_question, 3)\n",
        "print(f\"Generated Response: {response}\")"
      ],
      "metadata": {
        "id": "KFiCXzgJKpau",
        "colab": {
          "base_uri": "https://localhost:8080/"
        },
        "outputId": "75fa5a74-5d5c-46b1-bbd0-e17b26d572bb"
      },
      "execution_count": null,
      "outputs": [
        {
          "output_type": "stream",
          "name": "stdout",
          "text": [
            "Generated Response: các và được có có_thể hoặc là trong của ở không thuốc bệnh_nhân bệnh khi một những với  đến thường do ví_dụ cho viêm ra điều_trị máu giảm để sự nếuy sau tăng sử_dụng bị gây bao_gồm i rối_loạn l khác hơn\n"
          ]
        }
      ]
    },
    {
      "cell_type": "markdown",
      "source": [
        "#Use the Fine-Tuned Model in the Chatbox"
      ],
      "metadata": {
        "id": "XOehQa0Zrv5g"
      }
    },
    {
      "cell_type": "code",
      "source": [
        "# Use AutoTokenizer to ensure compatibility with BARTPho\n",
        "model = BartForConditionalGeneration.from_pretrained('/content/drive/MyDrive/ChatBox/model/fine_tuned_bart')\n",
        "tokenizer = BartphoTokenizer.from_pretrained('/content/drive/MyDrive/ChatBox/model/fine_tuned_bart')"
      ],
      "metadata": {
        "id": "hSYyNG0vcItb"
      },
      "execution_count": null,
      "outputs": []
    },
    {
      "cell_type": "code",
      "source": [],
      "metadata": {
        "id": "MFWbZTGdq6B2"
      },
      "execution_count": null,
      "outputs": []
    }
  ]
}
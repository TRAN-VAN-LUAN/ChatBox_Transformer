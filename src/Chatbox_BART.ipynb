{
  "nbformat": 4,
  "nbformat_minor": 0,
  "metadata": {
    "colab": {
      "provenance": [],
      "collapsed_sections": [
        "7c_dSFcLz-Tn",
        "kj5StGHN0Ece",
        "bk8YnmIi0Kvp",
        "stbE8k-U0TeV"
      ],
      "gpuType": "T4"
    },
    "kernelspec": {
      "name": "python3",
      "display_name": "Python 3"
    },
    "language_info": {
      "name": "python"
    },
    "accelerator": "GPU",
    "widgets": {
      "application/vnd.jupyter.widget-state+json": {
        "ce3ade4a1fa9445cb687a15db37157c9": {
          "model_module": "@jupyter-widgets/controls",
          "model_name": "HBoxModel",
          "model_module_version": "1.5.0",
          "state": {
            "_dom_classes": [],
            "_model_module": "@jupyter-widgets/controls",
            "_model_module_version": "1.5.0",
            "_model_name": "HBoxModel",
            "_view_count": null,
            "_view_module": "@jupyter-widgets/controls",
            "_view_module_version": "1.5.0",
            "_view_name": "HBoxView",
            "box_style": "",
            "children": [
              "IPY_MODEL_96c0908936b746bfa9cf00e6fc3dbfda",
              "IPY_MODEL_f9b613179b6d4d2294f59366bbb2d8ad",
              "IPY_MODEL_b3c17988f91b4c919b96f4f9beacfc5e"
            ],
            "layout": "IPY_MODEL_8e2b2b9dbb3d4fcfa511830fbb6cf8ae"
          }
        },
        "96c0908936b746bfa9cf00e6fc3dbfda": {
          "model_module": "@jupyter-widgets/controls",
          "model_name": "HTMLModel",
          "model_module_version": "1.5.0",
          "state": {
            "_dom_classes": [],
            "_model_module": "@jupyter-widgets/controls",
            "_model_module_version": "1.5.0",
            "_model_name": "HTMLModel",
            "_view_count": null,
            "_view_module": "@jupyter-widgets/controls",
            "_view_module_version": "1.5.0",
            "_view_name": "HTMLView",
            "description": "",
            "description_tooltip": null,
            "layout": "IPY_MODEL_675737a617e8418a984f5361275db59a",
            "placeholder": "​",
            "style": "IPY_MODEL_cfcfdbae515d459fbcf03aca89ee58df",
            "value": "sentencepiece.bpe.model: 100%"
          }
        },
        "f9b613179b6d4d2294f59366bbb2d8ad": {
          "model_module": "@jupyter-widgets/controls",
          "model_name": "FloatProgressModel",
          "model_module_version": "1.5.0",
          "state": {
            "_dom_classes": [],
            "_model_module": "@jupyter-widgets/controls",
            "_model_module_version": "1.5.0",
            "_model_name": "FloatProgressModel",
            "_view_count": null,
            "_view_module": "@jupyter-widgets/controls",
            "_view_module_version": "1.5.0",
            "_view_name": "ProgressView",
            "bar_style": "success",
            "description": "",
            "description_tooltip": null,
            "layout": "IPY_MODEL_55008311f13649aeb4a6b99cdcc8d47e",
            "max": 5069051,
            "min": 0,
            "orientation": "horizontal",
            "style": "IPY_MODEL_382e296400b7466eb8d013009d936c9f",
            "value": 5069051
          }
        },
        "b3c17988f91b4c919b96f4f9beacfc5e": {
          "model_module": "@jupyter-widgets/controls",
          "model_name": "HTMLModel",
          "model_module_version": "1.5.0",
          "state": {
            "_dom_classes": [],
            "_model_module": "@jupyter-widgets/controls",
            "_model_module_version": "1.5.0",
            "_model_name": "HTMLModel",
            "_view_count": null,
            "_view_module": "@jupyter-widgets/controls",
            "_view_module_version": "1.5.0",
            "_view_name": "HTMLView",
            "description": "",
            "description_tooltip": null,
            "layout": "IPY_MODEL_e3d8163518674e078df515590b4a31d4",
            "placeholder": "​",
            "style": "IPY_MODEL_6a542e93c9574609afa7ec6148cfa3de",
            "value": " 5.07M/5.07M [00:00&lt;00:00, 7.89MB/s]"
          }
        },
        "8e2b2b9dbb3d4fcfa511830fbb6cf8ae": {
          "model_module": "@jupyter-widgets/base",
          "model_name": "LayoutModel",
          "model_module_version": "1.2.0",
          "state": {
            "_model_module": "@jupyter-widgets/base",
            "_model_module_version": "1.2.0",
            "_model_name": "LayoutModel",
            "_view_count": null,
            "_view_module": "@jupyter-widgets/base",
            "_view_module_version": "1.2.0",
            "_view_name": "LayoutView",
            "align_content": null,
            "align_items": null,
            "align_self": null,
            "border": null,
            "bottom": null,
            "display": null,
            "flex": null,
            "flex_flow": null,
            "grid_area": null,
            "grid_auto_columns": null,
            "grid_auto_flow": null,
            "grid_auto_rows": null,
            "grid_column": null,
            "grid_gap": null,
            "grid_row": null,
            "grid_template_areas": null,
            "grid_template_columns": null,
            "grid_template_rows": null,
            "height": null,
            "justify_content": null,
            "justify_items": null,
            "left": null,
            "margin": null,
            "max_height": null,
            "max_width": null,
            "min_height": null,
            "min_width": null,
            "object_fit": null,
            "object_position": null,
            "order": null,
            "overflow": null,
            "overflow_x": null,
            "overflow_y": null,
            "padding": null,
            "right": null,
            "top": null,
            "visibility": null,
            "width": null
          }
        },
        "675737a617e8418a984f5361275db59a": {
          "model_module": "@jupyter-widgets/base",
          "model_name": "LayoutModel",
          "model_module_version": "1.2.0",
          "state": {
            "_model_module": "@jupyter-widgets/base",
            "_model_module_version": "1.2.0",
            "_model_name": "LayoutModel",
            "_view_count": null,
            "_view_module": "@jupyter-widgets/base",
            "_view_module_version": "1.2.0",
            "_view_name": "LayoutView",
            "align_content": null,
            "align_items": null,
            "align_self": null,
            "border": null,
            "bottom": null,
            "display": null,
            "flex": null,
            "flex_flow": null,
            "grid_area": null,
            "grid_auto_columns": null,
            "grid_auto_flow": null,
            "grid_auto_rows": null,
            "grid_column": null,
            "grid_gap": null,
            "grid_row": null,
            "grid_template_areas": null,
            "grid_template_columns": null,
            "grid_template_rows": null,
            "height": null,
            "justify_content": null,
            "justify_items": null,
            "left": null,
            "margin": null,
            "max_height": null,
            "max_width": null,
            "min_height": null,
            "min_width": null,
            "object_fit": null,
            "object_position": null,
            "order": null,
            "overflow": null,
            "overflow_x": null,
            "overflow_y": null,
            "padding": null,
            "right": null,
            "top": null,
            "visibility": null,
            "width": null
          }
        },
        "cfcfdbae515d459fbcf03aca89ee58df": {
          "model_module": "@jupyter-widgets/controls",
          "model_name": "DescriptionStyleModel",
          "model_module_version": "1.5.0",
          "state": {
            "_model_module": "@jupyter-widgets/controls",
            "_model_module_version": "1.5.0",
            "_model_name": "DescriptionStyleModel",
            "_view_count": null,
            "_view_module": "@jupyter-widgets/base",
            "_view_module_version": "1.2.0",
            "_view_name": "StyleView",
            "description_width": ""
          }
        },
        "55008311f13649aeb4a6b99cdcc8d47e": {
          "model_module": "@jupyter-widgets/base",
          "model_name": "LayoutModel",
          "model_module_version": "1.2.0",
          "state": {
            "_model_module": "@jupyter-widgets/base",
            "_model_module_version": "1.2.0",
            "_model_name": "LayoutModel",
            "_view_count": null,
            "_view_module": "@jupyter-widgets/base",
            "_view_module_version": "1.2.0",
            "_view_name": "LayoutView",
            "align_content": null,
            "align_items": null,
            "align_self": null,
            "border": null,
            "bottom": null,
            "display": null,
            "flex": null,
            "flex_flow": null,
            "grid_area": null,
            "grid_auto_columns": null,
            "grid_auto_flow": null,
            "grid_auto_rows": null,
            "grid_column": null,
            "grid_gap": null,
            "grid_row": null,
            "grid_template_areas": null,
            "grid_template_columns": null,
            "grid_template_rows": null,
            "height": null,
            "justify_content": null,
            "justify_items": null,
            "left": null,
            "margin": null,
            "max_height": null,
            "max_width": null,
            "min_height": null,
            "min_width": null,
            "object_fit": null,
            "object_position": null,
            "order": null,
            "overflow": null,
            "overflow_x": null,
            "overflow_y": null,
            "padding": null,
            "right": null,
            "top": null,
            "visibility": null,
            "width": null
          }
        },
        "382e296400b7466eb8d013009d936c9f": {
          "model_module": "@jupyter-widgets/controls",
          "model_name": "ProgressStyleModel",
          "model_module_version": "1.5.0",
          "state": {
            "_model_module": "@jupyter-widgets/controls",
            "_model_module_version": "1.5.0",
            "_model_name": "ProgressStyleModel",
            "_view_count": null,
            "_view_module": "@jupyter-widgets/base",
            "_view_module_version": "1.2.0",
            "_view_name": "StyleView",
            "bar_color": null,
            "description_width": ""
          }
        },
        "e3d8163518674e078df515590b4a31d4": {
          "model_module": "@jupyter-widgets/base",
          "model_name": "LayoutModel",
          "model_module_version": "1.2.0",
          "state": {
            "_model_module": "@jupyter-widgets/base",
            "_model_module_version": "1.2.0",
            "_model_name": "LayoutModel",
            "_view_count": null,
            "_view_module": "@jupyter-widgets/base",
            "_view_module_version": "1.2.0",
            "_view_name": "LayoutView",
            "align_content": null,
            "align_items": null,
            "align_self": null,
            "border": null,
            "bottom": null,
            "display": null,
            "flex": null,
            "flex_flow": null,
            "grid_area": null,
            "grid_auto_columns": null,
            "grid_auto_flow": null,
            "grid_auto_rows": null,
            "grid_column": null,
            "grid_gap": null,
            "grid_row": null,
            "grid_template_areas": null,
            "grid_template_columns": null,
            "grid_template_rows": null,
            "height": null,
            "justify_content": null,
            "justify_items": null,
            "left": null,
            "margin": null,
            "max_height": null,
            "max_width": null,
            "min_height": null,
            "min_width": null,
            "object_fit": null,
            "object_position": null,
            "order": null,
            "overflow": null,
            "overflow_x": null,
            "overflow_y": null,
            "padding": null,
            "right": null,
            "top": null,
            "visibility": null,
            "width": null
          }
        },
        "6a542e93c9574609afa7ec6148cfa3de": {
          "model_module": "@jupyter-widgets/controls",
          "model_name": "DescriptionStyleModel",
          "model_module_version": "1.5.0",
          "state": {
            "_model_module": "@jupyter-widgets/controls",
            "_model_module_version": "1.5.0",
            "_model_name": "DescriptionStyleModel",
            "_view_count": null,
            "_view_module": "@jupyter-widgets/base",
            "_view_module_version": "1.2.0",
            "_view_name": "StyleView",
            "description_width": ""
          }
        },
        "d738553f467246019195527f18cf7b8c": {
          "model_module": "@jupyter-widgets/controls",
          "model_name": "HBoxModel",
          "model_module_version": "1.5.0",
          "state": {
            "_dom_classes": [],
            "_model_module": "@jupyter-widgets/controls",
            "_model_module_version": "1.5.0",
            "_model_name": "HBoxModel",
            "_view_count": null,
            "_view_module": "@jupyter-widgets/controls",
            "_view_module_version": "1.5.0",
            "_view_name": "HBoxView",
            "box_style": "",
            "children": [
              "IPY_MODEL_5dc3af63f4204777bb2be4254250d8be",
              "IPY_MODEL_9193e922b8e14c098cccb99cb06d1b22",
              "IPY_MODEL_006c9e89b8e04b389e957acce6fcd13b"
            ],
            "layout": "IPY_MODEL_bb4a4777c7c1474bb355da7201341589"
          }
        },
        "5dc3af63f4204777bb2be4254250d8be": {
          "model_module": "@jupyter-widgets/controls",
          "model_name": "HTMLModel",
          "model_module_version": "1.5.0",
          "state": {
            "_dom_classes": [],
            "_model_module": "@jupyter-widgets/controls",
            "_model_module_version": "1.5.0",
            "_model_name": "HTMLModel",
            "_view_count": null,
            "_view_module": "@jupyter-widgets/controls",
            "_view_module_version": "1.5.0",
            "_view_name": "HTMLView",
            "description": "",
            "description_tooltip": null,
            "layout": "IPY_MODEL_bc240b905bf74b30b5423cc427aad78f",
            "placeholder": "​",
            "style": "IPY_MODEL_b29a9011ab26407fb112939dc11d4101",
            "value": "dict.txt: 100%"
          }
        },
        "9193e922b8e14c098cccb99cb06d1b22": {
          "model_module": "@jupyter-widgets/controls",
          "model_name": "FloatProgressModel",
          "model_module_version": "1.5.0",
          "state": {
            "_dom_classes": [],
            "_model_module": "@jupyter-widgets/controls",
            "_model_module_version": "1.5.0",
            "_model_name": "FloatProgressModel",
            "_view_count": null,
            "_view_module": "@jupyter-widgets/controls",
            "_view_module_version": "1.5.0",
            "_view_name": "ProgressView",
            "bar_style": "success",
            "description": "",
            "description_tooltip": null,
            "layout": "IPY_MODEL_790079ed7d8d4df592619c3d2152cb22",
            "max": 360025,
            "min": 0,
            "orientation": "horizontal",
            "style": "IPY_MODEL_fc2e8b1007414d89b8c7fbfac0e84a9c",
            "value": 360025
          }
        },
        "006c9e89b8e04b389e957acce6fcd13b": {
          "model_module": "@jupyter-widgets/controls",
          "model_name": "HTMLModel",
          "model_module_version": "1.5.0",
          "state": {
            "_dom_classes": [],
            "_model_module": "@jupyter-widgets/controls",
            "_model_module_version": "1.5.0",
            "_model_name": "HTMLModel",
            "_view_count": null,
            "_view_module": "@jupyter-widgets/controls",
            "_view_module_version": "1.5.0",
            "_view_name": "HTMLView",
            "description": "",
            "description_tooltip": null,
            "layout": "IPY_MODEL_647538d68ccb43ad893e95ea37fb3e8d",
            "placeholder": "​",
            "style": "IPY_MODEL_9ef5252d2c1a4867aa4472f5a1f56d00",
            "value": " 360k/360k [00:00&lt;00:00, 2.18MB/s]"
          }
        },
        "bb4a4777c7c1474bb355da7201341589": {
          "model_module": "@jupyter-widgets/base",
          "model_name": "LayoutModel",
          "model_module_version": "1.2.0",
          "state": {
            "_model_module": "@jupyter-widgets/base",
            "_model_module_version": "1.2.0",
            "_model_name": "LayoutModel",
            "_view_count": null,
            "_view_module": "@jupyter-widgets/base",
            "_view_module_version": "1.2.0",
            "_view_name": "LayoutView",
            "align_content": null,
            "align_items": null,
            "align_self": null,
            "border": null,
            "bottom": null,
            "display": null,
            "flex": null,
            "flex_flow": null,
            "grid_area": null,
            "grid_auto_columns": null,
            "grid_auto_flow": null,
            "grid_auto_rows": null,
            "grid_column": null,
            "grid_gap": null,
            "grid_row": null,
            "grid_template_areas": null,
            "grid_template_columns": null,
            "grid_template_rows": null,
            "height": null,
            "justify_content": null,
            "justify_items": null,
            "left": null,
            "margin": null,
            "max_height": null,
            "max_width": null,
            "min_height": null,
            "min_width": null,
            "object_fit": null,
            "object_position": null,
            "order": null,
            "overflow": null,
            "overflow_x": null,
            "overflow_y": null,
            "padding": null,
            "right": null,
            "top": null,
            "visibility": null,
            "width": null
          }
        },
        "bc240b905bf74b30b5423cc427aad78f": {
          "model_module": "@jupyter-widgets/base",
          "model_name": "LayoutModel",
          "model_module_version": "1.2.0",
          "state": {
            "_model_module": "@jupyter-widgets/base",
            "_model_module_version": "1.2.0",
            "_model_name": "LayoutModel",
            "_view_count": null,
            "_view_module": "@jupyter-widgets/base",
            "_view_module_version": "1.2.0",
            "_view_name": "LayoutView",
            "align_content": null,
            "align_items": null,
            "align_self": null,
            "border": null,
            "bottom": null,
            "display": null,
            "flex": null,
            "flex_flow": null,
            "grid_area": null,
            "grid_auto_columns": null,
            "grid_auto_flow": null,
            "grid_auto_rows": null,
            "grid_column": null,
            "grid_gap": null,
            "grid_row": null,
            "grid_template_areas": null,
            "grid_template_columns": null,
            "grid_template_rows": null,
            "height": null,
            "justify_content": null,
            "justify_items": null,
            "left": null,
            "margin": null,
            "max_height": null,
            "max_width": null,
            "min_height": null,
            "min_width": null,
            "object_fit": null,
            "object_position": null,
            "order": null,
            "overflow": null,
            "overflow_x": null,
            "overflow_y": null,
            "padding": null,
            "right": null,
            "top": null,
            "visibility": null,
            "width": null
          }
        },
        "b29a9011ab26407fb112939dc11d4101": {
          "model_module": "@jupyter-widgets/controls",
          "model_name": "DescriptionStyleModel",
          "model_module_version": "1.5.0",
          "state": {
            "_model_module": "@jupyter-widgets/controls",
            "_model_module_version": "1.5.0",
            "_model_name": "DescriptionStyleModel",
            "_view_count": null,
            "_view_module": "@jupyter-widgets/base",
            "_view_module_version": "1.2.0",
            "_view_name": "StyleView",
            "description_width": ""
          }
        },
        "790079ed7d8d4df592619c3d2152cb22": {
          "model_module": "@jupyter-widgets/base",
          "model_name": "LayoutModel",
          "model_module_version": "1.2.0",
          "state": {
            "_model_module": "@jupyter-widgets/base",
            "_model_module_version": "1.2.0",
            "_model_name": "LayoutModel",
            "_view_count": null,
            "_view_module": "@jupyter-widgets/base",
            "_view_module_version": "1.2.0",
            "_view_name": "LayoutView",
            "align_content": null,
            "align_items": null,
            "align_self": null,
            "border": null,
            "bottom": null,
            "display": null,
            "flex": null,
            "flex_flow": null,
            "grid_area": null,
            "grid_auto_columns": null,
            "grid_auto_flow": null,
            "grid_auto_rows": null,
            "grid_column": null,
            "grid_gap": null,
            "grid_row": null,
            "grid_template_areas": null,
            "grid_template_columns": null,
            "grid_template_rows": null,
            "height": null,
            "justify_content": null,
            "justify_items": null,
            "left": null,
            "margin": null,
            "max_height": null,
            "max_width": null,
            "min_height": null,
            "min_width": null,
            "object_fit": null,
            "object_position": null,
            "order": null,
            "overflow": null,
            "overflow_x": null,
            "overflow_y": null,
            "padding": null,
            "right": null,
            "top": null,
            "visibility": null,
            "width": null
          }
        },
        "fc2e8b1007414d89b8c7fbfac0e84a9c": {
          "model_module": "@jupyter-widgets/controls",
          "model_name": "ProgressStyleModel",
          "model_module_version": "1.5.0",
          "state": {
            "_model_module": "@jupyter-widgets/controls",
            "_model_module_version": "1.5.0",
            "_model_name": "ProgressStyleModel",
            "_view_count": null,
            "_view_module": "@jupyter-widgets/base",
            "_view_module_version": "1.2.0",
            "_view_name": "StyleView",
            "bar_color": null,
            "description_width": ""
          }
        },
        "647538d68ccb43ad893e95ea37fb3e8d": {
          "model_module": "@jupyter-widgets/base",
          "model_name": "LayoutModel",
          "model_module_version": "1.2.0",
          "state": {
            "_model_module": "@jupyter-widgets/base",
            "_model_module_version": "1.2.0",
            "_model_name": "LayoutModel",
            "_view_count": null,
            "_view_module": "@jupyter-widgets/base",
            "_view_module_version": "1.2.0",
            "_view_name": "LayoutView",
            "align_content": null,
            "align_items": null,
            "align_self": null,
            "border": null,
            "bottom": null,
            "display": null,
            "flex": null,
            "flex_flow": null,
            "grid_area": null,
            "grid_auto_columns": null,
            "grid_auto_flow": null,
            "grid_auto_rows": null,
            "grid_column": null,
            "grid_gap": null,
            "grid_row": null,
            "grid_template_areas": null,
            "grid_template_columns": null,
            "grid_template_rows": null,
            "height": null,
            "justify_content": null,
            "justify_items": null,
            "left": null,
            "margin": null,
            "max_height": null,
            "max_width": null,
            "min_height": null,
            "min_width": null,
            "object_fit": null,
            "object_position": null,
            "order": null,
            "overflow": null,
            "overflow_x": null,
            "overflow_y": null,
            "padding": null,
            "right": null,
            "top": null,
            "visibility": null,
            "width": null
          }
        },
        "9ef5252d2c1a4867aa4472f5a1f56d00": {
          "model_module": "@jupyter-widgets/controls",
          "model_name": "DescriptionStyleModel",
          "model_module_version": "1.5.0",
          "state": {
            "_model_module": "@jupyter-widgets/controls",
            "_model_module_version": "1.5.0",
            "_model_name": "DescriptionStyleModel",
            "_view_count": null,
            "_view_module": "@jupyter-widgets/base",
            "_view_module_version": "1.2.0",
            "_view_name": "StyleView",
            "description_width": ""
          }
        },
        "e44ceb3a57bc4289b660e1bc73f2aa33": {
          "model_module": "@jupyter-widgets/controls",
          "model_name": "HBoxModel",
          "model_module_version": "1.5.0",
          "state": {
            "_dom_classes": [],
            "_model_module": "@jupyter-widgets/controls",
            "_model_module_version": "1.5.0",
            "_model_name": "HBoxModel",
            "_view_count": null,
            "_view_module": "@jupyter-widgets/controls",
            "_view_module_version": "1.5.0",
            "_view_name": "HBoxView",
            "box_style": "",
            "children": [
              "IPY_MODEL_b331fb27eee54e8aa525e216badfd287",
              "IPY_MODEL_16083e61cbda4885b7f9d03d2e45bf79",
              "IPY_MODEL_b5f52ad46de04280b183fb9a9c542d75"
            ],
            "layout": "IPY_MODEL_ce162efbe7254377a1c7eae3c09ced82"
          }
        },
        "b331fb27eee54e8aa525e216badfd287": {
          "model_module": "@jupyter-widgets/controls",
          "model_name": "HTMLModel",
          "model_module_version": "1.5.0",
          "state": {
            "_dom_classes": [],
            "_model_module": "@jupyter-widgets/controls",
            "_model_module_version": "1.5.0",
            "_model_name": "HTMLModel",
            "_view_count": null,
            "_view_module": "@jupyter-widgets/controls",
            "_view_module_version": "1.5.0",
            "_view_name": "HTMLView",
            "description": "",
            "description_tooltip": null,
            "layout": "IPY_MODEL_8b2648028c2e48eebe782c5c0c1b721d",
            "placeholder": "​",
            "style": "IPY_MODEL_bd54f9ea06294d54ba74e6f0c005f8c2",
            "value": "tokenizer.json: 100%"
          }
        },
        "16083e61cbda4885b7f9d03d2e45bf79": {
          "model_module": "@jupyter-widgets/controls",
          "model_name": "FloatProgressModel",
          "model_module_version": "1.5.0",
          "state": {
            "_dom_classes": [],
            "_model_module": "@jupyter-widgets/controls",
            "_model_module_version": "1.5.0",
            "_model_name": "FloatProgressModel",
            "_view_count": null,
            "_view_module": "@jupyter-widgets/controls",
            "_view_module_version": "1.5.0",
            "_view_name": "ProgressView",
            "bar_style": "success",
            "description": "",
            "description_tooltip": null,
            "layout": "IPY_MODEL_6b3e27d3ad7f47e38310741ac9790a78",
            "max": 2830309,
            "min": 0,
            "orientation": "horizontal",
            "style": "IPY_MODEL_c8b7a22dd2cc48e8be538727d8ee78c8",
            "value": 2830309
          }
        },
        "b5f52ad46de04280b183fb9a9c542d75": {
          "model_module": "@jupyter-widgets/controls",
          "model_name": "HTMLModel",
          "model_module_version": "1.5.0",
          "state": {
            "_dom_classes": [],
            "_model_module": "@jupyter-widgets/controls",
            "_model_module_version": "1.5.0",
            "_model_name": "HTMLModel",
            "_view_count": null,
            "_view_module": "@jupyter-widgets/controls",
            "_view_module_version": "1.5.0",
            "_view_name": "HTMLView",
            "description": "",
            "description_tooltip": null,
            "layout": "IPY_MODEL_f83421c1c4fe4ed7a6b9a00c4ec79f71",
            "placeholder": "​",
            "style": "IPY_MODEL_33f755706ff0430f8727cad170e98583",
            "value": " 2.83M/2.83M [00:00&lt;00:00, 100MB/s]"
          }
        },
        "ce162efbe7254377a1c7eae3c09ced82": {
          "model_module": "@jupyter-widgets/base",
          "model_name": "LayoutModel",
          "model_module_version": "1.2.0",
          "state": {
            "_model_module": "@jupyter-widgets/base",
            "_model_module_version": "1.2.0",
            "_model_name": "LayoutModel",
            "_view_count": null,
            "_view_module": "@jupyter-widgets/base",
            "_view_module_version": "1.2.0",
            "_view_name": "LayoutView",
            "align_content": null,
            "align_items": null,
            "align_self": null,
            "border": null,
            "bottom": null,
            "display": null,
            "flex": null,
            "flex_flow": null,
            "grid_area": null,
            "grid_auto_columns": null,
            "grid_auto_flow": null,
            "grid_auto_rows": null,
            "grid_column": null,
            "grid_gap": null,
            "grid_row": null,
            "grid_template_areas": null,
            "grid_template_columns": null,
            "grid_template_rows": null,
            "height": null,
            "justify_content": null,
            "justify_items": null,
            "left": null,
            "margin": null,
            "max_height": null,
            "max_width": null,
            "min_height": null,
            "min_width": null,
            "object_fit": null,
            "object_position": null,
            "order": null,
            "overflow": null,
            "overflow_x": null,
            "overflow_y": null,
            "padding": null,
            "right": null,
            "top": null,
            "visibility": null,
            "width": null
          }
        },
        "8b2648028c2e48eebe782c5c0c1b721d": {
          "model_module": "@jupyter-widgets/base",
          "model_name": "LayoutModel",
          "model_module_version": "1.2.0",
          "state": {
            "_model_module": "@jupyter-widgets/base",
            "_model_module_version": "1.2.0",
            "_model_name": "LayoutModel",
            "_view_count": null,
            "_view_module": "@jupyter-widgets/base",
            "_view_module_version": "1.2.0",
            "_view_name": "LayoutView",
            "align_content": null,
            "align_items": null,
            "align_self": null,
            "border": null,
            "bottom": null,
            "display": null,
            "flex": null,
            "flex_flow": null,
            "grid_area": null,
            "grid_auto_columns": null,
            "grid_auto_flow": null,
            "grid_auto_rows": null,
            "grid_column": null,
            "grid_gap": null,
            "grid_row": null,
            "grid_template_areas": null,
            "grid_template_columns": null,
            "grid_template_rows": null,
            "height": null,
            "justify_content": null,
            "justify_items": null,
            "left": null,
            "margin": null,
            "max_height": null,
            "max_width": null,
            "min_height": null,
            "min_width": null,
            "object_fit": null,
            "object_position": null,
            "order": null,
            "overflow": null,
            "overflow_x": null,
            "overflow_y": null,
            "padding": null,
            "right": null,
            "top": null,
            "visibility": null,
            "width": null
          }
        },
        "bd54f9ea06294d54ba74e6f0c005f8c2": {
          "model_module": "@jupyter-widgets/controls",
          "model_name": "DescriptionStyleModel",
          "model_module_version": "1.5.0",
          "state": {
            "_model_module": "@jupyter-widgets/controls",
            "_model_module_version": "1.5.0",
            "_model_name": "DescriptionStyleModel",
            "_view_count": null,
            "_view_module": "@jupyter-widgets/base",
            "_view_module_version": "1.2.0",
            "_view_name": "StyleView",
            "description_width": ""
          }
        },
        "6b3e27d3ad7f47e38310741ac9790a78": {
          "model_module": "@jupyter-widgets/base",
          "model_name": "LayoutModel",
          "model_module_version": "1.2.0",
          "state": {
            "_model_module": "@jupyter-widgets/base",
            "_model_module_version": "1.2.0",
            "_model_name": "LayoutModel",
            "_view_count": null,
            "_view_module": "@jupyter-widgets/base",
            "_view_module_version": "1.2.0",
            "_view_name": "LayoutView",
            "align_content": null,
            "align_items": null,
            "align_self": null,
            "border": null,
            "bottom": null,
            "display": null,
            "flex": null,
            "flex_flow": null,
            "grid_area": null,
            "grid_auto_columns": null,
            "grid_auto_flow": null,
            "grid_auto_rows": null,
            "grid_column": null,
            "grid_gap": null,
            "grid_row": null,
            "grid_template_areas": null,
            "grid_template_columns": null,
            "grid_template_rows": null,
            "height": null,
            "justify_content": null,
            "justify_items": null,
            "left": null,
            "margin": null,
            "max_height": null,
            "max_width": null,
            "min_height": null,
            "min_width": null,
            "object_fit": null,
            "object_position": null,
            "order": null,
            "overflow": null,
            "overflow_x": null,
            "overflow_y": null,
            "padding": null,
            "right": null,
            "top": null,
            "visibility": null,
            "width": null
          }
        },
        "c8b7a22dd2cc48e8be538727d8ee78c8": {
          "model_module": "@jupyter-widgets/controls",
          "model_name": "ProgressStyleModel",
          "model_module_version": "1.5.0",
          "state": {
            "_model_module": "@jupyter-widgets/controls",
            "_model_module_version": "1.5.0",
            "_model_name": "ProgressStyleModel",
            "_view_count": null,
            "_view_module": "@jupyter-widgets/base",
            "_view_module_version": "1.2.0",
            "_view_name": "StyleView",
            "bar_color": null,
            "description_width": ""
          }
        },
        "f83421c1c4fe4ed7a6b9a00c4ec79f71": {
          "model_module": "@jupyter-widgets/base",
          "model_name": "LayoutModel",
          "model_module_version": "1.2.0",
          "state": {
            "_model_module": "@jupyter-widgets/base",
            "_model_module_version": "1.2.0",
            "_model_name": "LayoutModel",
            "_view_count": null,
            "_view_module": "@jupyter-widgets/base",
            "_view_module_version": "1.2.0",
            "_view_name": "LayoutView",
            "align_content": null,
            "align_items": null,
            "align_self": null,
            "border": null,
            "bottom": null,
            "display": null,
            "flex": null,
            "flex_flow": null,
            "grid_area": null,
            "grid_auto_columns": null,
            "grid_auto_flow": null,
            "grid_auto_rows": null,
            "grid_column": null,
            "grid_gap": null,
            "grid_row": null,
            "grid_template_areas": null,
            "grid_template_columns": null,
            "grid_template_rows": null,
            "height": null,
            "justify_content": null,
            "justify_items": null,
            "left": null,
            "margin": null,
            "max_height": null,
            "max_width": null,
            "min_height": null,
            "min_width": null,
            "object_fit": null,
            "object_position": null,
            "order": null,
            "overflow": null,
            "overflow_x": null,
            "overflow_y": null,
            "padding": null,
            "right": null,
            "top": null,
            "visibility": null,
            "width": null
          }
        },
        "33f755706ff0430f8727cad170e98583": {
          "model_module": "@jupyter-widgets/controls",
          "model_name": "DescriptionStyleModel",
          "model_module_version": "1.5.0",
          "state": {
            "_model_module": "@jupyter-widgets/controls",
            "_model_module_version": "1.5.0",
            "_model_name": "DescriptionStyleModel",
            "_view_count": null,
            "_view_module": "@jupyter-widgets/base",
            "_view_module_version": "1.2.0",
            "_view_name": "StyleView",
            "description_width": ""
          }
        },
        "07ac0e974da9496f89a6fe3321ae39ef": {
          "model_module": "@jupyter-widgets/controls",
          "model_name": "HBoxModel",
          "model_module_version": "1.5.0",
          "state": {
            "_dom_classes": [],
            "_model_module": "@jupyter-widgets/controls",
            "_model_module_version": "1.5.0",
            "_model_name": "HBoxModel",
            "_view_count": null,
            "_view_module": "@jupyter-widgets/controls",
            "_view_module_version": "1.5.0",
            "_view_name": "HBoxView",
            "box_style": "",
            "children": [
              "IPY_MODEL_3795d59089ca46f5a0732cea29a54b5e",
              "IPY_MODEL_9f7f2f8cd0d74a45b13d1d7409b69511",
              "IPY_MODEL_225569131eb44f0ebac54132e7edb3f8"
            ],
            "layout": "IPY_MODEL_54a724d5bb2743988c2b3debc87fd7b0"
          }
        },
        "3795d59089ca46f5a0732cea29a54b5e": {
          "model_module": "@jupyter-widgets/controls",
          "model_name": "HTMLModel",
          "model_module_version": "1.5.0",
          "state": {
            "_dom_classes": [],
            "_model_module": "@jupyter-widgets/controls",
            "_model_module_version": "1.5.0",
            "_model_name": "HTMLModel",
            "_view_count": null,
            "_view_module": "@jupyter-widgets/controls",
            "_view_module_version": "1.5.0",
            "_view_name": "HTMLView",
            "description": "",
            "description_tooltip": null,
            "layout": "IPY_MODEL_8ca104364f084999ae156cf6ea40f934",
            "placeholder": "​",
            "style": "IPY_MODEL_3d103c54465248e3bc5838a610f7d245",
            "value": "config.json: 100%"
          }
        },
        "9f7f2f8cd0d74a45b13d1d7409b69511": {
          "model_module": "@jupyter-widgets/controls",
          "model_name": "FloatProgressModel",
          "model_module_version": "1.5.0",
          "state": {
            "_dom_classes": [],
            "_model_module": "@jupyter-widgets/controls",
            "_model_module_version": "1.5.0",
            "_model_name": "FloatProgressModel",
            "_view_count": null,
            "_view_module": "@jupyter-widgets/controls",
            "_view_module_version": "1.5.0",
            "_view_name": "ProgressView",
            "bar_style": "success",
            "description": "",
            "description_tooltip": null,
            "layout": "IPY_MODEL_c23a36b9905d45dd9bdf7998066bfb1d",
            "max": 897,
            "min": 0,
            "orientation": "horizontal",
            "style": "IPY_MODEL_00414a5efebe4d53afbdf5d091755ea3",
            "value": 897
          }
        },
        "225569131eb44f0ebac54132e7edb3f8": {
          "model_module": "@jupyter-widgets/controls",
          "model_name": "HTMLModel",
          "model_module_version": "1.5.0",
          "state": {
            "_dom_classes": [],
            "_model_module": "@jupyter-widgets/controls",
            "_model_module_version": "1.5.0",
            "_model_name": "HTMLModel",
            "_view_count": null,
            "_view_module": "@jupyter-widgets/controls",
            "_view_module_version": "1.5.0",
            "_view_name": "HTMLView",
            "description": "",
            "description_tooltip": null,
            "layout": "IPY_MODEL_72ffffa6b7514f4c96a315bfd90cbd0a",
            "placeholder": "​",
            "style": "IPY_MODEL_bb5789c546614752a6341f9efbefceb8",
            "value": " 897/897 [00:00&lt;00:00, 39.1kB/s]"
          }
        },
        "54a724d5bb2743988c2b3debc87fd7b0": {
          "model_module": "@jupyter-widgets/base",
          "model_name": "LayoutModel",
          "model_module_version": "1.2.0",
          "state": {
            "_model_module": "@jupyter-widgets/base",
            "_model_module_version": "1.2.0",
            "_model_name": "LayoutModel",
            "_view_count": null,
            "_view_module": "@jupyter-widgets/base",
            "_view_module_version": "1.2.0",
            "_view_name": "LayoutView",
            "align_content": null,
            "align_items": null,
            "align_self": null,
            "border": null,
            "bottom": null,
            "display": null,
            "flex": null,
            "flex_flow": null,
            "grid_area": null,
            "grid_auto_columns": null,
            "grid_auto_flow": null,
            "grid_auto_rows": null,
            "grid_column": null,
            "grid_gap": null,
            "grid_row": null,
            "grid_template_areas": null,
            "grid_template_columns": null,
            "grid_template_rows": null,
            "height": null,
            "justify_content": null,
            "justify_items": null,
            "left": null,
            "margin": null,
            "max_height": null,
            "max_width": null,
            "min_height": null,
            "min_width": null,
            "object_fit": null,
            "object_position": null,
            "order": null,
            "overflow": null,
            "overflow_x": null,
            "overflow_y": null,
            "padding": null,
            "right": null,
            "top": null,
            "visibility": null,
            "width": null
          }
        },
        "8ca104364f084999ae156cf6ea40f934": {
          "model_module": "@jupyter-widgets/base",
          "model_name": "LayoutModel",
          "model_module_version": "1.2.0",
          "state": {
            "_model_module": "@jupyter-widgets/base",
            "_model_module_version": "1.2.0",
            "_model_name": "LayoutModel",
            "_view_count": null,
            "_view_module": "@jupyter-widgets/base",
            "_view_module_version": "1.2.0",
            "_view_name": "LayoutView",
            "align_content": null,
            "align_items": null,
            "align_self": null,
            "border": null,
            "bottom": null,
            "display": null,
            "flex": null,
            "flex_flow": null,
            "grid_area": null,
            "grid_auto_columns": null,
            "grid_auto_flow": null,
            "grid_auto_rows": null,
            "grid_column": null,
            "grid_gap": null,
            "grid_row": null,
            "grid_template_areas": null,
            "grid_template_columns": null,
            "grid_template_rows": null,
            "height": null,
            "justify_content": null,
            "justify_items": null,
            "left": null,
            "margin": null,
            "max_height": null,
            "max_width": null,
            "min_height": null,
            "min_width": null,
            "object_fit": null,
            "object_position": null,
            "order": null,
            "overflow": null,
            "overflow_x": null,
            "overflow_y": null,
            "padding": null,
            "right": null,
            "top": null,
            "visibility": null,
            "width": null
          }
        },
        "3d103c54465248e3bc5838a610f7d245": {
          "model_module": "@jupyter-widgets/controls",
          "model_name": "DescriptionStyleModel",
          "model_module_version": "1.5.0",
          "state": {
            "_model_module": "@jupyter-widgets/controls",
            "_model_module_version": "1.5.0",
            "_model_name": "DescriptionStyleModel",
            "_view_count": null,
            "_view_module": "@jupyter-widgets/base",
            "_view_module_version": "1.2.0",
            "_view_name": "StyleView",
            "description_width": ""
          }
        },
        "c23a36b9905d45dd9bdf7998066bfb1d": {
          "model_module": "@jupyter-widgets/base",
          "model_name": "LayoutModel",
          "model_module_version": "1.2.0",
          "state": {
            "_model_module": "@jupyter-widgets/base",
            "_model_module_version": "1.2.0",
            "_model_name": "LayoutModel",
            "_view_count": null,
            "_view_module": "@jupyter-widgets/base",
            "_view_module_version": "1.2.0",
            "_view_name": "LayoutView",
            "align_content": null,
            "align_items": null,
            "align_self": null,
            "border": null,
            "bottom": null,
            "display": null,
            "flex": null,
            "flex_flow": null,
            "grid_area": null,
            "grid_auto_columns": null,
            "grid_auto_flow": null,
            "grid_auto_rows": null,
            "grid_column": null,
            "grid_gap": null,
            "grid_row": null,
            "grid_template_areas": null,
            "grid_template_columns": null,
            "grid_template_rows": null,
            "height": null,
            "justify_content": null,
            "justify_items": null,
            "left": null,
            "margin": null,
            "max_height": null,
            "max_width": null,
            "min_height": null,
            "min_width": null,
            "object_fit": null,
            "object_position": null,
            "order": null,
            "overflow": null,
            "overflow_x": null,
            "overflow_y": null,
            "padding": null,
            "right": null,
            "top": null,
            "visibility": null,
            "width": null
          }
        },
        "00414a5efebe4d53afbdf5d091755ea3": {
          "model_module": "@jupyter-widgets/controls",
          "model_name": "ProgressStyleModel",
          "model_module_version": "1.5.0",
          "state": {
            "_model_module": "@jupyter-widgets/controls",
            "_model_module_version": "1.5.0",
            "_model_name": "ProgressStyleModel",
            "_view_count": null,
            "_view_module": "@jupyter-widgets/base",
            "_view_module_version": "1.2.0",
            "_view_name": "StyleView",
            "bar_color": null,
            "description_width": ""
          }
        },
        "72ffffa6b7514f4c96a315bfd90cbd0a": {
          "model_module": "@jupyter-widgets/base",
          "model_name": "LayoutModel",
          "model_module_version": "1.2.0",
          "state": {
            "_model_module": "@jupyter-widgets/base",
            "_model_module_version": "1.2.0",
            "_model_name": "LayoutModel",
            "_view_count": null,
            "_view_module": "@jupyter-widgets/base",
            "_view_module_version": "1.2.0",
            "_view_name": "LayoutView",
            "align_content": null,
            "align_items": null,
            "align_self": null,
            "border": null,
            "bottom": null,
            "display": null,
            "flex": null,
            "flex_flow": null,
            "grid_area": null,
            "grid_auto_columns": null,
            "grid_auto_flow": null,
            "grid_auto_rows": null,
            "grid_column": null,
            "grid_gap": null,
            "grid_row": null,
            "grid_template_areas": null,
            "grid_template_columns": null,
            "grid_template_rows": null,
            "height": null,
            "justify_content": null,
            "justify_items": null,
            "left": null,
            "margin": null,
            "max_height": null,
            "max_width": null,
            "min_height": null,
            "min_width": null,
            "object_fit": null,
            "object_position": null,
            "order": null,
            "overflow": null,
            "overflow_x": null,
            "overflow_y": null,
            "padding": null,
            "right": null,
            "top": null,
            "visibility": null,
            "width": null
          }
        },
        "bb5789c546614752a6341f9efbefceb8": {
          "model_module": "@jupyter-widgets/controls",
          "model_name": "DescriptionStyleModel",
          "model_module_version": "1.5.0",
          "state": {
            "_model_module": "@jupyter-widgets/controls",
            "_model_module_version": "1.5.0",
            "_model_name": "DescriptionStyleModel",
            "_view_count": null,
            "_view_module": "@jupyter-widgets/base",
            "_view_module_version": "1.2.0",
            "_view_name": "StyleView",
            "description_width": ""
          }
        },
        "19455a87ccb54612a32f82f40092f226": {
          "model_module": "@jupyter-widgets/controls",
          "model_name": "HBoxModel",
          "model_module_version": "1.5.0",
          "state": {
            "_dom_classes": [],
            "_model_module": "@jupyter-widgets/controls",
            "_model_module_version": "1.5.0",
            "_model_name": "HBoxModel",
            "_view_count": null,
            "_view_module": "@jupyter-widgets/controls",
            "_view_module_version": "1.5.0",
            "_view_name": "HBoxView",
            "box_style": "",
            "children": [
              "IPY_MODEL_944f91c3aaa343b18ce4915dea0e74fa",
              "IPY_MODEL_3061d83c4fca46fd8f8fb955453bc4ac",
              "IPY_MODEL_9b792bae8d414ed2add8b2f1008b941b"
            ],
            "layout": "IPY_MODEL_94cbd17afe18446ab942789273e2c9af"
          }
        },
        "944f91c3aaa343b18ce4915dea0e74fa": {
          "model_module": "@jupyter-widgets/controls",
          "model_name": "HTMLModel",
          "model_module_version": "1.5.0",
          "state": {
            "_dom_classes": [],
            "_model_module": "@jupyter-widgets/controls",
            "_model_module_version": "1.5.0",
            "_model_name": "HTMLModel",
            "_view_count": null,
            "_view_module": "@jupyter-widgets/controls",
            "_view_module_version": "1.5.0",
            "_view_name": "HTMLView",
            "description": "",
            "description_tooltip": null,
            "layout": "IPY_MODEL_2d8dee5eb20d4350bdbe6addc74cec0a",
            "placeholder": "​",
            "style": "IPY_MODEL_a78a5e5198994a49a60325dd1f500544",
            "value": "pytorch_model.bin: 100%"
          }
        },
        "3061d83c4fca46fd8f8fb955453bc4ac": {
          "model_module": "@jupyter-widgets/controls",
          "model_name": "FloatProgressModel",
          "model_module_version": "1.5.0",
          "state": {
            "_dom_classes": [],
            "_model_module": "@jupyter-widgets/controls",
            "_model_module_version": "1.5.0",
            "_model_name": "FloatProgressModel",
            "_view_count": null,
            "_view_module": "@jupyter-widgets/controls",
            "_view_module_version": "1.5.0",
            "_view_name": "ProgressView",
            "bar_style": "success",
            "description": "",
            "description_tooltip": null,
            "layout": "IPY_MODEL_acb06177078946b1a87bf0fe86da6e14",
            "max": 1583451917,
            "min": 0,
            "orientation": "horizontal",
            "style": "IPY_MODEL_8aa6753c139c41adb563bf603e2e2ef6",
            "value": 1583451917
          }
        },
        "9b792bae8d414ed2add8b2f1008b941b": {
          "model_module": "@jupyter-widgets/controls",
          "model_name": "HTMLModel",
          "model_module_version": "1.5.0",
          "state": {
            "_dom_classes": [],
            "_model_module": "@jupyter-widgets/controls",
            "_model_module_version": "1.5.0",
            "_model_name": "HTMLModel",
            "_view_count": null,
            "_view_module": "@jupyter-widgets/controls",
            "_view_module_version": "1.5.0",
            "_view_name": "HTMLView",
            "description": "",
            "description_tooltip": null,
            "layout": "IPY_MODEL_d7b82abc75b040798d41e93f2fb477f0",
            "placeholder": "​",
            "style": "IPY_MODEL_16303f6e61444af0ba9eee90a3bd4e06",
            "value": " 1.58G/1.58G [01:26&lt;00:00, 21.9MB/s]"
          }
        },
        "94cbd17afe18446ab942789273e2c9af": {
          "model_module": "@jupyter-widgets/base",
          "model_name": "LayoutModel",
          "model_module_version": "1.2.0",
          "state": {
            "_model_module": "@jupyter-widgets/base",
            "_model_module_version": "1.2.0",
            "_model_name": "LayoutModel",
            "_view_count": null,
            "_view_module": "@jupyter-widgets/base",
            "_view_module_version": "1.2.0",
            "_view_name": "LayoutView",
            "align_content": null,
            "align_items": null,
            "align_self": null,
            "border": null,
            "bottom": null,
            "display": null,
            "flex": null,
            "flex_flow": null,
            "grid_area": null,
            "grid_auto_columns": null,
            "grid_auto_flow": null,
            "grid_auto_rows": null,
            "grid_column": null,
            "grid_gap": null,
            "grid_row": null,
            "grid_template_areas": null,
            "grid_template_columns": null,
            "grid_template_rows": null,
            "height": null,
            "justify_content": null,
            "justify_items": null,
            "left": null,
            "margin": null,
            "max_height": null,
            "max_width": null,
            "min_height": null,
            "min_width": null,
            "object_fit": null,
            "object_position": null,
            "order": null,
            "overflow": null,
            "overflow_x": null,
            "overflow_y": null,
            "padding": null,
            "right": null,
            "top": null,
            "visibility": null,
            "width": null
          }
        },
        "2d8dee5eb20d4350bdbe6addc74cec0a": {
          "model_module": "@jupyter-widgets/base",
          "model_name": "LayoutModel",
          "model_module_version": "1.2.0",
          "state": {
            "_model_module": "@jupyter-widgets/base",
            "_model_module_version": "1.2.0",
            "_model_name": "LayoutModel",
            "_view_count": null,
            "_view_module": "@jupyter-widgets/base",
            "_view_module_version": "1.2.0",
            "_view_name": "LayoutView",
            "align_content": null,
            "align_items": null,
            "align_self": null,
            "border": null,
            "bottom": null,
            "display": null,
            "flex": null,
            "flex_flow": null,
            "grid_area": null,
            "grid_auto_columns": null,
            "grid_auto_flow": null,
            "grid_auto_rows": null,
            "grid_column": null,
            "grid_gap": null,
            "grid_row": null,
            "grid_template_areas": null,
            "grid_template_columns": null,
            "grid_template_rows": null,
            "height": null,
            "justify_content": null,
            "justify_items": null,
            "left": null,
            "margin": null,
            "max_height": null,
            "max_width": null,
            "min_height": null,
            "min_width": null,
            "object_fit": null,
            "object_position": null,
            "order": null,
            "overflow": null,
            "overflow_x": null,
            "overflow_y": null,
            "padding": null,
            "right": null,
            "top": null,
            "visibility": null,
            "width": null
          }
        },
        "a78a5e5198994a49a60325dd1f500544": {
          "model_module": "@jupyter-widgets/controls",
          "model_name": "DescriptionStyleModel",
          "model_module_version": "1.5.0",
          "state": {
            "_model_module": "@jupyter-widgets/controls",
            "_model_module_version": "1.5.0",
            "_model_name": "DescriptionStyleModel",
            "_view_count": null,
            "_view_module": "@jupyter-widgets/base",
            "_view_module_version": "1.2.0",
            "_view_name": "StyleView",
            "description_width": ""
          }
        },
        "acb06177078946b1a87bf0fe86da6e14": {
          "model_module": "@jupyter-widgets/base",
          "model_name": "LayoutModel",
          "model_module_version": "1.2.0",
          "state": {
            "_model_module": "@jupyter-widgets/base",
            "_model_module_version": "1.2.0",
            "_model_name": "LayoutModel",
            "_view_count": null,
            "_view_module": "@jupyter-widgets/base",
            "_view_module_version": "1.2.0",
            "_view_name": "LayoutView",
            "align_content": null,
            "align_items": null,
            "align_self": null,
            "border": null,
            "bottom": null,
            "display": null,
            "flex": null,
            "flex_flow": null,
            "grid_area": null,
            "grid_auto_columns": null,
            "grid_auto_flow": null,
            "grid_auto_rows": null,
            "grid_column": null,
            "grid_gap": null,
            "grid_row": null,
            "grid_template_areas": null,
            "grid_template_columns": null,
            "grid_template_rows": null,
            "height": null,
            "justify_content": null,
            "justify_items": null,
            "left": null,
            "margin": null,
            "max_height": null,
            "max_width": null,
            "min_height": null,
            "min_width": null,
            "object_fit": null,
            "object_position": null,
            "order": null,
            "overflow": null,
            "overflow_x": null,
            "overflow_y": null,
            "padding": null,
            "right": null,
            "top": null,
            "visibility": null,
            "width": null
          }
        },
        "8aa6753c139c41adb563bf603e2e2ef6": {
          "model_module": "@jupyter-widgets/controls",
          "model_name": "ProgressStyleModel",
          "model_module_version": "1.5.0",
          "state": {
            "_model_module": "@jupyter-widgets/controls",
            "_model_module_version": "1.5.0",
            "_model_name": "ProgressStyleModel",
            "_view_count": null,
            "_view_module": "@jupyter-widgets/base",
            "_view_module_version": "1.2.0",
            "_view_name": "StyleView",
            "bar_color": null,
            "description_width": ""
          }
        },
        "d7b82abc75b040798d41e93f2fb477f0": {
          "model_module": "@jupyter-widgets/base",
          "model_name": "LayoutModel",
          "model_module_version": "1.2.0",
          "state": {
            "_model_module": "@jupyter-widgets/base",
            "_model_module_version": "1.2.0",
            "_model_name": "LayoutModel",
            "_view_count": null,
            "_view_module": "@jupyter-widgets/base",
            "_view_module_version": "1.2.0",
            "_view_name": "LayoutView",
            "align_content": null,
            "align_items": null,
            "align_self": null,
            "border": null,
            "bottom": null,
            "display": null,
            "flex": null,
            "flex_flow": null,
            "grid_area": null,
            "grid_auto_columns": null,
            "grid_auto_flow": null,
            "grid_auto_rows": null,
            "grid_column": null,
            "grid_gap": null,
            "grid_row": null,
            "grid_template_areas": null,
            "grid_template_columns": null,
            "grid_template_rows": null,
            "height": null,
            "justify_content": null,
            "justify_items": null,
            "left": null,
            "margin": null,
            "max_height": null,
            "max_width": null,
            "min_height": null,
            "min_width": null,
            "object_fit": null,
            "object_position": null,
            "order": null,
            "overflow": null,
            "overflow_x": null,
            "overflow_y": null,
            "padding": null,
            "right": null,
            "top": null,
            "visibility": null,
            "width": null
          }
        },
        "16303f6e61444af0ba9eee90a3bd4e06": {
          "model_module": "@jupyter-widgets/controls",
          "model_name": "DescriptionStyleModel",
          "model_module_version": "1.5.0",
          "state": {
            "_model_module": "@jupyter-widgets/controls",
            "_model_module_version": "1.5.0",
            "_model_name": "DescriptionStyleModel",
            "_view_count": null,
            "_view_module": "@jupyter-widgets/base",
            "_view_module_version": "1.2.0",
            "_view_name": "StyleView",
            "description_width": ""
          }
        }
      }
    }
  },
  "cells": [
    {
      "cell_type": "markdown",
      "source": [
        "#**Chatbot Training and Response Generation with BART**"
      ],
      "metadata": {
        "id": "Lyh4wYJGyKyp"
      }
    },
    {
      "cell_type": "code",
      "execution_count": 1,
      "metadata": {
        "colab": {
          "base_uri": "https://localhost:8080/"
        },
        "id": "YDlGWhIHosOn",
        "outputId": "3e3308f4-3df2-41ce-fe3f-bb88aeb0ebfc"
      },
      "outputs": [
        {
          "output_type": "stream",
          "name": "stdout",
          "text": [
            "Mounted at /content/drive\n"
          ]
        }
      ],
      "source": [
        "from google.colab import drive\n",
        "drive.mount('/content/drive')\n",
        "#/content/drive/MyDrive/"
      ]
    },
    {
      "cell_type": "code",
      "source": [
        "# !pip install transformers torch pandas"
      ],
      "metadata": {
        "id": "y4pC7LH-ovAe"
      },
      "execution_count": 2,
      "outputs": []
    },
    {
      "cell_type": "code",
      "source": [
        "# # !pip install transformers[torch] vncorenlp\n",
        "# !pip install datasets"
      ],
      "metadata": {
        "id": "vn2rbmkdYi6h"
      },
      "execution_count": 3,
      "outputs": []
    },
    {
      "cell_type": "code",
      "source": [
        "# pip install transformers --upgrade"
      ],
      "metadata": {
        "id": "dTYV5WilfITg"
      },
      "execution_count": 4,
      "outputs": []
    },
    {
      "cell_type": "markdown",
      "source": [
        "## 1. Importing Libraries and Setting Up the Environment"
      ],
      "metadata": {
        "id": "M21njJA8ya3r"
      }
    },
    {
      "cell_type": "code",
      "source": [
        "import torch\n",
        "import torch.nn as nn\n",
        "from torch.utils.data import Dataset, DataLoader\n",
        "from transformers import BartphoTokenizer, BartForConditionalGeneration, AdamW\n",
        "from sklearn.metrics.pairwise import cosine_similarity\n",
        "import numpy as np\n",
        "from tqdm import tqdm\n",
        "import logging\n",
        "import pandas as pd\n",
        "from sklearn.decomposition import PCA"
      ],
      "metadata": {
        "id": "b1C7mTBzovHW"
      },
      "execution_count": 2,
      "outputs": []
    },
    {
      "cell_type": "code",
      "source": [
        "# Setup logging\n",
        "logging.basicConfig(level=logging.INFO)"
      ],
      "metadata": {
        "id": "h-8fuaniyhNO"
      },
      "execution_count": 6,
      "outputs": []
    },
    {
      "cell_type": "code",
      "source": [
        "# Device configuration\n",
        "device = torch.device(\"cuda\" if torch.cuda.is_available() else \"cpu\")"
      ],
      "metadata": {
        "id": "jYvFi31mlgo7"
      },
      "execution_count": 6,
      "outputs": []
    },
    {
      "cell_type": "markdown",
      "source": [
        "## 2. Loading Pretrained BART Model and Tokenizer"
      ],
      "metadata": {
        "id": "_69weJxPK1W8"
      }
    },
    {
      "cell_type": "code",
      "source": [
        "# Load BARTpho tokenizer and model\n",
        "model_name = 'vinai/bartpho-syllable'\n",
        "\n",
        "try:\n",
        "    # Use BartphoTokenizer for BARTpho models\n",
        "    tokenizer = BartphoTokenizer.from_pretrained(model_name)\n",
        "    model = BartForConditionalGeneration.from_pretrained(model_name).to(device)\n",
        "    print(\"Model and tokenizer loaded successfully.\")\n",
        "except Exception as e:\n",
        "    print(f\"An error occurred while loading the model: {e}\")\n",
        "    raise e"
      ],
      "metadata": {
        "colab": {
          "base_uri": "https://localhost:8080/",
          "height": 336,
          "referenced_widgets": [
            "ce3ade4a1fa9445cb687a15db37157c9",
            "96c0908936b746bfa9cf00e6fc3dbfda",
            "f9b613179b6d4d2294f59366bbb2d8ad",
            "b3c17988f91b4c919b96f4f9beacfc5e",
            "8e2b2b9dbb3d4fcfa511830fbb6cf8ae",
            "675737a617e8418a984f5361275db59a",
            "cfcfdbae515d459fbcf03aca89ee58df",
            "55008311f13649aeb4a6b99cdcc8d47e",
            "382e296400b7466eb8d013009d936c9f",
            "e3d8163518674e078df515590b4a31d4",
            "6a542e93c9574609afa7ec6148cfa3de",
            "d738553f467246019195527f18cf7b8c",
            "5dc3af63f4204777bb2be4254250d8be",
            "9193e922b8e14c098cccb99cb06d1b22",
            "006c9e89b8e04b389e957acce6fcd13b",
            "bb4a4777c7c1474bb355da7201341589",
            "bc240b905bf74b30b5423cc427aad78f",
            "b29a9011ab26407fb112939dc11d4101",
            "790079ed7d8d4df592619c3d2152cb22",
            "fc2e8b1007414d89b8c7fbfac0e84a9c",
            "647538d68ccb43ad893e95ea37fb3e8d",
            "9ef5252d2c1a4867aa4472f5a1f56d00",
            "e44ceb3a57bc4289b660e1bc73f2aa33",
            "b331fb27eee54e8aa525e216badfd287",
            "16083e61cbda4885b7f9d03d2e45bf79",
            "b5f52ad46de04280b183fb9a9c542d75",
            "ce162efbe7254377a1c7eae3c09ced82",
            "8b2648028c2e48eebe782c5c0c1b721d",
            "bd54f9ea06294d54ba74e6f0c005f8c2",
            "6b3e27d3ad7f47e38310741ac9790a78",
            "c8b7a22dd2cc48e8be538727d8ee78c8",
            "f83421c1c4fe4ed7a6b9a00c4ec79f71",
            "33f755706ff0430f8727cad170e98583",
            "07ac0e974da9496f89a6fe3321ae39ef",
            "3795d59089ca46f5a0732cea29a54b5e",
            "9f7f2f8cd0d74a45b13d1d7409b69511",
            "225569131eb44f0ebac54132e7edb3f8",
            "54a724d5bb2743988c2b3debc87fd7b0",
            "8ca104364f084999ae156cf6ea40f934",
            "3d103c54465248e3bc5838a610f7d245",
            "c23a36b9905d45dd9bdf7998066bfb1d",
            "00414a5efebe4d53afbdf5d091755ea3",
            "72ffffa6b7514f4c96a315bfd90cbd0a",
            "bb5789c546614752a6341f9efbefceb8",
            "19455a87ccb54612a32f82f40092f226",
            "944f91c3aaa343b18ce4915dea0e74fa",
            "3061d83c4fca46fd8f8fb955453bc4ac",
            "9b792bae8d414ed2add8b2f1008b941b",
            "94cbd17afe18446ab942789273e2c9af",
            "2d8dee5eb20d4350bdbe6addc74cec0a",
            "a78a5e5198994a49a60325dd1f500544",
            "acb06177078946b1a87bf0fe86da6e14",
            "8aa6753c139c41adb563bf603e2e2ef6",
            "d7b82abc75b040798d41e93f2fb477f0",
            "16303f6e61444af0ba9eee90a3bd4e06"
          ]
        },
        "id": "qhZCZ1pwK2fW",
        "outputId": "38ccc6ed-b316-4cc4-8120-9c576164e97f"
      },
      "execution_count": 7,
      "outputs": [
        {
          "output_type": "stream",
          "name": "stderr",
          "text": [
            "/usr/local/lib/python3.10/dist-packages/huggingface_hub/utils/_token.py:89: UserWarning: \n",
            "The secret `HF_TOKEN` does not exist in your Colab secrets.\n",
            "To authenticate with the Hugging Face Hub, create a token in your settings tab (https://huggingface.co/settings/tokens), set it as secret in your Google Colab and restart your session.\n",
            "You will be able to reuse this secret in all of your notebooks.\n",
            "Please note that authentication is recommended but still optional to access public models or datasets.\n",
            "  warnings.warn(\n"
          ]
        },
        {
          "output_type": "display_data",
          "data": {
            "text/plain": [
              "sentencepiece.bpe.model:   0%|          | 0.00/5.07M [00:00<?, ?B/s]"
            ],
            "application/vnd.jupyter.widget-view+json": {
              "version_major": 2,
              "version_minor": 0,
              "model_id": "ce3ade4a1fa9445cb687a15db37157c9"
            }
          },
          "metadata": {}
        },
        {
          "output_type": "display_data",
          "data": {
            "text/plain": [
              "dict.txt:   0%|          | 0.00/360k [00:00<?, ?B/s]"
            ],
            "application/vnd.jupyter.widget-view+json": {
              "version_major": 2,
              "version_minor": 0,
              "model_id": "d738553f467246019195527f18cf7b8c"
            }
          },
          "metadata": {}
        },
        {
          "output_type": "display_data",
          "data": {
            "text/plain": [
              "tokenizer.json:   0%|          | 0.00/2.83M [00:00<?, ?B/s]"
            ],
            "application/vnd.jupyter.widget-view+json": {
              "version_major": 2,
              "version_minor": 0,
              "model_id": "e44ceb3a57bc4289b660e1bc73f2aa33"
            }
          },
          "metadata": {}
        },
        {
          "output_type": "display_data",
          "data": {
            "text/plain": [
              "config.json:   0%|          | 0.00/897 [00:00<?, ?B/s]"
            ],
            "application/vnd.jupyter.widget-view+json": {
              "version_major": 2,
              "version_minor": 0,
              "model_id": "07ac0e974da9496f89a6fe3321ae39ef"
            }
          },
          "metadata": {}
        },
        {
          "output_type": "stream",
          "name": "stderr",
          "text": [
            "You are using a model of type mbart to instantiate a model of type bart. This is not supported for all configurations of models and can yield errors.\n"
          ]
        },
        {
          "output_type": "display_data",
          "data": {
            "text/plain": [
              "pytorch_model.bin:   0%|          | 0.00/1.58G [00:00<?, ?B/s]"
            ],
            "application/vnd.jupyter.widget-view+json": {
              "version_major": 2,
              "version_minor": 0,
              "model_id": "19455a87ccb54612a32f82f40092f226"
            }
          },
          "metadata": {}
        },
        {
          "output_type": "stream",
          "name": "stdout",
          "text": [
            "Model and tokenizer loaded successfully.\n"
          ]
        }
      ]
    },
    {
      "cell_type": "markdown",
      "source": [
        "## 3. Defining Hyperparameters"
      ],
      "metadata": {
        "id": "Ov23D06LzwAz"
      }
    },
    {
      "cell_type": "code",
      "source": [
        "# Hyperparameters\n",
        "batch_size = 8\n",
        "gradient_accumulation_steps = 4\n",
        "learning_rate = 5e-5\n",
        "num_epochs = 6\n",
        "warmup_steps = 100\n",
        "max_length = 1024"
      ],
      "metadata": {
        "id": "6tkRHPp5zwg4"
      },
      "execution_count": 8,
      "outputs": []
    },
    {
      "cell_type": "markdown",
      "source": [
        "## 4. Dataset for Demonstration"
      ],
      "metadata": {
        "id": "241mqPVHptpy"
      }
    },
    {
      "cell_type": "code",
      "source": [
        "# Đọc dữ liệu từ file CSV hoặc JSON\n",
        "df = pd.read_csv('/content/drive/MyDrive/ChatBox/data/processed_medical.csv')  # Thay đổi đường dẫn đến tập dữ liệu của bạn\n",
        "\n",
        "# Kiểm tra dữ liệu\n",
        "df.head()\n",
        "\n",
        "\n"
      ],
      "metadata": {
        "colab": {
          "base_uri": "https://localhost:8080/",
          "height": 293
        },
        "id": "K9nYn92FovKX",
        "outputId": "e0408b3c-d81c-488f-dac5-04cb9e7c949c"
      },
      "execution_count": 9,
      "outputs": [
        {
          "output_type": "execute_result",
          "data": {
            "text/plain": [
              "                                               Title  \\\n",
              "0          rào_cản tự_nhiên chống lại nhiễm_trùng da   \n",
              "1    rào_cản tự_nhiên chống lại nhiễm_trùng niêm_mạc   \n",
              "2  rào_cản tự_nhiên chống lại nhiễm_trùng đường h...   \n",
              "3  rào_cản tự_nhiên chống lại nhiễm_trùng đường t...   \n",
              "4  rào_cản tự_nhiên chống lại nhiễm_trùng đường s...   \n",
              "\n",
              "                                    Detailed Content  \\\n",
              "0  da thường chặn các vi_sinh_vật xâm_nhập trừ kh...   \n",
              "1  nhiều màng_nhầy ngập trong chất tiết có đặc_tí...   \n",
              "2  đường hô_hấp có các hệ_thống lọc đường thở trê...   \n",
              "3  các rào_cản trong đường tiêu_hóa bao_gồm ph ac...   \n",
              "4  các rào_cản về đường sinh_dục tiết_niệu bao_gồ...   \n",
              "\n",
              "                                      Reference Link  \n",
              "0  https://www.msdmanuals.com/vi-vn/professional/...  \n",
              "1  https://www.msdmanuals.com/vi-vn/professional/...  \n",
              "2  https://www.msdmanuals.com/vi-vn/professional/...  \n",
              "3  https://www.msdmanuals.com/vi-vn/professional/...  \n",
              "4  https://www.msdmanuals.com/vi-vn/professional/...  "
            ],
            "text/html": [
              "\n",
              "  <div id=\"df-5889735e-4e74-4ebf-b3d2-35e0b189c930\" class=\"colab-df-container\">\n",
              "    <div>\n",
              "<style scoped>\n",
              "    .dataframe tbody tr th:only-of-type {\n",
              "        vertical-align: middle;\n",
              "    }\n",
              "\n",
              "    .dataframe tbody tr th {\n",
              "        vertical-align: top;\n",
              "    }\n",
              "\n",
              "    .dataframe thead th {\n",
              "        text-align: right;\n",
              "    }\n",
              "</style>\n",
              "<table border=\"1\" class=\"dataframe\">\n",
              "  <thead>\n",
              "    <tr style=\"text-align: right;\">\n",
              "      <th></th>\n",
              "      <th>Title</th>\n",
              "      <th>Detailed Content</th>\n",
              "      <th>Reference Link</th>\n",
              "    </tr>\n",
              "  </thead>\n",
              "  <tbody>\n",
              "    <tr>\n",
              "      <th>0</th>\n",
              "      <td>rào_cản tự_nhiên chống lại nhiễm_trùng da</td>\n",
              "      <td>da thường chặn các vi_sinh_vật xâm_nhập trừ kh...</td>\n",
              "      <td>https://www.msdmanuals.com/vi-vn/professional/...</td>\n",
              "    </tr>\n",
              "    <tr>\n",
              "      <th>1</th>\n",
              "      <td>rào_cản tự_nhiên chống lại nhiễm_trùng niêm_mạc</td>\n",
              "      <td>nhiều màng_nhầy ngập trong chất tiết có đặc_tí...</td>\n",
              "      <td>https://www.msdmanuals.com/vi-vn/professional/...</td>\n",
              "    </tr>\n",
              "    <tr>\n",
              "      <th>2</th>\n",
              "      <td>rào_cản tự_nhiên chống lại nhiễm_trùng đường h...</td>\n",
              "      <td>đường hô_hấp có các hệ_thống lọc đường thở trê...</td>\n",
              "      <td>https://www.msdmanuals.com/vi-vn/professional/...</td>\n",
              "    </tr>\n",
              "    <tr>\n",
              "      <th>3</th>\n",
              "      <td>rào_cản tự_nhiên chống lại nhiễm_trùng đường t...</td>\n",
              "      <td>các rào_cản trong đường tiêu_hóa bao_gồm ph ac...</td>\n",
              "      <td>https://www.msdmanuals.com/vi-vn/professional/...</td>\n",
              "    </tr>\n",
              "    <tr>\n",
              "      <th>4</th>\n",
              "      <td>rào_cản tự_nhiên chống lại nhiễm_trùng đường s...</td>\n",
              "      <td>các rào_cản về đường sinh_dục tiết_niệu bao_gồ...</td>\n",
              "      <td>https://www.msdmanuals.com/vi-vn/professional/...</td>\n",
              "    </tr>\n",
              "  </tbody>\n",
              "</table>\n",
              "</div>\n",
              "    <div class=\"colab-df-buttons\">\n",
              "\n",
              "  <div class=\"colab-df-container\">\n",
              "    <button class=\"colab-df-convert\" onclick=\"convertToInteractive('df-5889735e-4e74-4ebf-b3d2-35e0b189c930')\"\n",
              "            title=\"Convert this dataframe to an interactive table.\"\n",
              "            style=\"display:none;\">\n",
              "\n",
              "  <svg xmlns=\"http://www.w3.org/2000/svg\" height=\"24px\" viewBox=\"0 -960 960 960\">\n",
              "    <path d=\"M120-120v-720h720v720H120Zm60-500h600v-160H180v160Zm220 220h160v-160H400v160Zm0 220h160v-160H400v160ZM180-400h160v-160H180v160Zm440 0h160v-160H620v160ZM180-180h160v-160H180v160Zm440 0h160v-160H620v160Z\"/>\n",
              "  </svg>\n",
              "    </button>\n",
              "\n",
              "  <style>\n",
              "    .colab-df-container {\n",
              "      display:flex;\n",
              "      gap: 12px;\n",
              "    }\n",
              "\n",
              "    .colab-df-convert {\n",
              "      background-color: #E8F0FE;\n",
              "      border: none;\n",
              "      border-radius: 50%;\n",
              "      cursor: pointer;\n",
              "      display: none;\n",
              "      fill: #1967D2;\n",
              "      height: 32px;\n",
              "      padding: 0 0 0 0;\n",
              "      width: 32px;\n",
              "    }\n",
              "\n",
              "    .colab-df-convert:hover {\n",
              "      background-color: #E2EBFA;\n",
              "      box-shadow: 0px 1px 2px rgba(60, 64, 67, 0.3), 0px 1px 3px 1px rgba(60, 64, 67, 0.15);\n",
              "      fill: #174EA6;\n",
              "    }\n",
              "\n",
              "    .colab-df-buttons div {\n",
              "      margin-bottom: 4px;\n",
              "    }\n",
              "\n",
              "    [theme=dark] .colab-df-convert {\n",
              "      background-color: #3B4455;\n",
              "      fill: #D2E3FC;\n",
              "    }\n",
              "\n",
              "    [theme=dark] .colab-df-convert:hover {\n",
              "      background-color: #434B5C;\n",
              "      box-shadow: 0px 1px 3px 1px rgba(0, 0, 0, 0.15);\n",
              "      filter: drop-shadow(0px 1px 2px rgba(0, 0, 0, 0.3));\n",
              "      fill: #FFFFFF;\n",
              "    }\n",
              "  </style>\n",
              "\n",
              "    <script>\n",
              "      const buttonEl =\n",
              "        document.querySelector('#df-5889735e-4e74-4ebf-b3d2-35e0b189c930 button.colab-df-convert');\n",
              "      buttonEl.style.display =\n",
              "        google.colab.kernel.accessAllowed ? 'block' : 'none';\n",
              "\n",
              "      async function convertToInteractive(key) {\n",
              "        const element = document.querySelector('#df-5889735e-4e74-4ebf-b3d2-35e0b189c930');\n",
              "        const dataTable =\n",
              "          await google.colab.kernel.invokeFunction('convertToInteractive',\n",
              "                                                    [key], {});\n",
              "        if (!dataTable) return;\n",
              "\n",
              "        const docLinkHtml = 'Like what you see? Visit the ' +\n",
              "          '<a target=\"_blank\" href=https://colab.research.google.com/notebooks/data_table.ipynb>data table notebook</a>'\n",
              "          + ' to learn more about interactive tables.';\n",
              "        element.innerHTML = '';\n",
              "        dataTable['output_type'] = 'display_data';\n",
              "        await google.colab.output.renderOutput(dataTable, element);\n",
              "        const docLink = document.createElement('div');\n",
              "        docLink.innerHTML = docLinkHtml;\n",
              "        element.appendChild(docLink);\n",
              "      }\n",
              "    </script>\n",
              "  </div>\n",
              "\n",
              "\n",
              "<div id=\"df-2b02f845-1fb0-48f3-85fb-8221c9abe18d\">\n",
              "  <button class=\"colab-df-quickchart\" onclick=\"quickchart('df-2b02f845-1fb0-48f3-85fb-8221c9abe18d')\"\n",
              "            title=\"Suggest charts\"\n",
              "            style=\"display:none;\">\n",
              "\n",
              "<svg xmlns=\"http://www.w3.org/2000/svg\" height=\"24px\"viewBox=\"0 0 24 24\"\n",
              "     width=\"24px\">\n",
              "    <g>\n",
              "        <path d=\"M19 3H5c-1.1 0-2 .9-2 2v14c0 1.1.9 2 2 2h14c1.1 0 2-.9 2-2V5c0-1.1-.9-2-2-2zM9 17H7v-7h2v7zm4 0h-2V7h2v10zm4 0h-2v-4h2v4z\"/>\n",
              "    </g>\n",
              "</svg>\n",
              "  </button>\n",
              "\n",
              "<style>\n",
              "  .colab-df-quickchart {\n",
              "      --bg-color: #E8F0FE;\n",
              "      --fill-color: #1967D2;\n",
              "      --hover-bg-color: #E2EBFA;\n",
              "      --hover-fill-color: #174EA6;\n",
              "      --disabled-fill-color: #AAA;\n",
              "      --disabled-bg-color: #DDD;\n",
              "  }\n",
              "\n",
              "  [theme=dark] .colab-df-quickchart {\n",
              "      --bg-color: #3B4455;\n",
              "      --fill-color: #D2E3FC;\n",
              "      --hover-bg-color: #434B5C;\n",
              "      --hover-fill-color: #FFFFFF;\n",
              "      --disabled-bg-color: #3B4455;\n",
              "      --disabled-fill-color: #666;\n",
              "  }\n",
              "\n",
              "  .colab-df-quickchart {\n",
              "    background-color: var(--bg-color);\n",
              "    border: none;\n",
              "    border-radius: 50%;\n",
              "    cursor: pointer;\n",
              "    display: none;\n",
              "    fill: var(--fill-color);\n",
              "    height: 32px;\n",
              "    padding: 0;\n",
              "    width: 32px;\n",
              "  }\n",
              "\n",
              "  .colab-df-quickchart:hover {\n",
              "    background-color: var(--hover-bg-color);\n",
              "    box-shadow: 0 1px 2px rgba(60, 64, 67, 0.3), 0 1px 3px 1px rgba(60, 64, 67, 0.15);\n",
              "    fill: var(--button-hover-fill-color);\n",
              "  }\n",
              "\n",
              "  .colab-df-quickchart-complete:disabled,\n",
              "  .colab-df-quickchart-complete:disabled:hover {\n",
              "    background-color: var(--disabled-bg-color);\n",
              "    fill: var(--disabled-fill-color);\n",
              "    box-shadow: none;\n",
              "  }\n",
              "\n",
              "  .colab-df-spinner {\n",
              "    border: 2px solid var(--fill-color);\n",
              "    border-color: transparent;\n",
              "    border-bottom-color: var(--fill-color);\n",
              "    animation:\n",
              "      spin 1s steps(1) infinite;\n",
              "  }\n",
              "\n",
              "  @keyframes spin {\n",
              "    0% {\n",
              "      border-color: transparent;\n",
              "      border-bottom-color: var(--fill-color);\n",
              "      border-left-color: var(--fill-color);\n",
              "    }\n",
              "    20% {\n",
              "      border-color: transparent;\n",
              "      border-left-color: var(--fill-color);\n",
              "      border-top-color: var(--fill-color);\n",
              "    }\n",
              "    30% {\n",
              "      border-color: transparent;\n",
              "      border-left-color: var(--fill-color);\n",
              "      border-top-color: var(--fill-color);\n",
              "      border-right-color: var(--fill-color);\n",
              "    }\n",
              "    40% {\n",
              "      border-color: transparent;\n",
              "      border-right-color: var(--fill-color);\n",
              "      border-top-color: var(--fill-color);\n",
              "    }\n",
              "    60% {\n",
              "      border-color: transparent;\n",
              "      border-right-color: var(--fill-color);\n",
              "    }\n",
              "    80% {\n",
              "      border-color: transparent;\n",
              "      border-right-color: var(--fill-color);\n",
              "      border-bottom-color: var(--fill-color);\n",
              "    }\n",
              "    90% {\n",
              "      border-color: transparent;\n",
              "      border-bottom-color: var(--fill-color);\n",
              "    }\n",
              "  }\n",
              "</style>\n",
              "\n",
              "  <script>\n",
              "    async function quickchart(key) {\n",
              "      const quickchartButtonEl =\n",
              "        document.querySelector('#' + key + ' button');\n",
              "      quickchartButtonEl.disabled = true;  // To prevent multiple clicks.\n",
              "      quickchartButtonEl.classList.add('colab-df-spinner');\n",
              "      try {\n",
              "        const charts = await google.colab.kernel.invokeFunction(\n",
              "            'suggestCharts', [key], {});\n",
              "      } catch (error) {\n",
              "        console.error('Error during call to suggestCharts:', error);\n",
              "      }\n",
              "      quickchartButtonEl.classList.remove('colab-df-spinner');\n",
              "      quickchartButtonEl.classList.add('colab-df-quickchart-complete');\n",
              "    }\n",
              "    (() => {\n",
              "      let quickchartButtonEl =\n",
              "        document.querySelector('#df-2b02f845-1fb0-48f3-85fb-8221c9abe18d button');\n",
              "      quickchartButtonEl.style.display =\n",
              "        google.colab.kernel.accessAllowed ? 'block' : 'none';\n",
              "    })();\n",
              "  </script>\n",
              "</div>\n",
              "\n",
              "    </div>\n",
              "  </div>\n"
            ],
            "application/vnd.google.colaboratory.intrinsic+json": {
              "type": "dataframe",
              "variable_name": "df",
              "summary": "{\n  \"name\": \"df\",\n  \"rows\": 11994,\n  \"fields\": [\n    {\n      \"column\": \"Title\",\n      \"properties\": {\n        \"dtype\": \"string\",\n        \"num_unique_values\": 11994,\n        \"samples\": [\n          \"\\u0111i\\u1ec1u_tr\\u1ecb h\\u1ed9i_ch\\u1ee9ng brugada\",\n          \"ch\\u1ea5n_th\\u01b0\\u01a1ng do v\\u1eadt t\\u00f9\",\n          \"c\\u00e1c b\\u1ed9_ph\\u1eadn gi\\u1ea3 c\\u1ef1c_tr\\u1ecb th\\u1ea5p h\\u01a1n kh\\u1edbp gi\\u1ea3 kh\\u1edbp c\\u1ed5_ch\\u00e2n\"\n        ],\n        \"semantic_type\": \"\",\n        \"description\": \"\"\n      }\n    },\n    {\n      \"column\": \"Detailed Content\",\n      \"properties\": {\n        \"dtype\": \"string\",\n        \"num_unique_values\": 11994,\n        \"samples\": [\n          \"\\u0111i\\u1ec1u_tr\\u1ecb h\\u1ed9i_ch\\u1ee9ng brugada c\\u1ea5y m\\u00e1y ph\\u00e1 rung t\\u1ef1_\\u0111\\u1ed9ng s\\u00e0ng_l\\u1ecdc c\\u00e1c th\\u00e0nh_vi\\u00ean trong gia_\\u0111\\u00ecnh b\\u1ec7nh_nh\\u00e2n c\\u00f3 d\\u1ea1ng ecg c\\u1ee7a h\\u1ed9i_ch\\u1ee9ng brugada lo\\u1ea1i 1 t\\u1ef1_ph\\u00e1t ho\\u1eb7c b\\u1ecb k\\u00edch_th\\u00edch v\\u00e0 ng\\u1ea5t g\\u1ea7n \\u0111\\u00e2y kh\\u00f4ng r\\u00f5 nguy\\u00ean_nh\\u00e2n nh\\u1ecbp nhanh th\\u1ea5t k\\u00e9o_d\\u00e0i ho\\u1eb7c ng\\u1eebng tim th\\u01b0\\u1eddng n\\u00ean c\\u00f3 m\\u00e1y kh\\u1eed rung tim c\\u1ea5y_gh\\u00e9p v\\u00e0o c\\u01a1_th\\u1ec3 icd khi c\\u1ea7n \\u1ee9c_ch\\u1ebf ph\\u00f3ng_\\u0111i\\u1ec7n icd th\\u01b0\\u1eddng_xuy\\u00ean quinidin ng\\u0103n_ch\\u1eb7n d\\u00f2ng kali \\u0111i ra tho\\u00e1ng qua c\\u00f3_th\\u1ec3 t\\u0103ng l\\u00ean trong h\\u1ed9i_ch\\u1ee9ng brugada c\\u00f3_th\\u1ec3 c\\u00f3 hi\\u1ec7u_qu\\u1ea3 isoproterenol \\u0111\\u01b0\\u1eddng t\\u0129nh_m\\u1ea1ch c\\u0169ng \\u0111\\u00e3 \\u0111\\u01b0\\u1ee3c s\\u1eed_d\\u1ee5ng n\\u1ebfu nguy\\u00ean_nh\\u00e2n g\\u00e2y ra lo\\u1ea1n nh\\u1ecbp tim th\\u01b0\\u1eddng_xuy\\u00ean t\\u00e1i_ph\\u00e1t xu\\u1ea5t_hi\\u1ec7n tho\\u00e1ng qua v\\u00e0 c\\u00f3_th\\u1ec3 ph\\u1ee5c_h\\u1ed3i \\u0111i\\u1ec1u_tr\\u1ecb hi\\u1ec7u_qu\\u1ea3 nh\\u1ea5t cho h\\u1ed9i_ch\\u1ee9ng brugada tr\\u00ean nh\\u1eefng b\\u1ec7nh_nh\\u00e2n c\\u00f3 ch\\u1ea9n_\\u0111o\\u00e1n d\\u1ef1a tr\\u00ean thay_\\u0111\\u1ed5i \\u1edf ecg v\\u00e0 ti\\u1ec1n_s\\u1eed_gia_\\u0111\\u00ecnh nh\\u01b0ng kh\\u00f4ng c\\u00f3 ng\\u1ea5t ho\\u1eb7c r\\u1ed1i_lo\\u1ea1n nh\\u1ecbp tim l\\u00e0 kh\\u00f4ng r\\u00f5_r\\u00e0ng m\\u1eb7c_d\\u00f9 h\\u1ecd c\\u00f3 t\\u0103ng nguy_c\\u01a1 \\u0111\\u1ed9t_t\\u1eed c\\u1ea5y m\\u00e1y ph\\u00e1 rung t\\u1ef1_\\u0111\\u1ed9ng s\\u00e0ng_l\\u1ecdc c\\u00e1c th\\u00e0nh_vi\\u00ean trong gia_\\u0111\\u00ecnh\",\n          \"ch\\u1ea5n_th\\u01b0\\u01a1ng th\\u1ec3_thao do v\\u1eadt t\\u00f9 c\\u00f3_th\\u1ec3 \\u0111\\u1ee5ng d\\u1eadp m\\u00f4 m\\u1ec1m ch\\u1ea5n_\\u0111\\u1ed9ng v\\u00e0 g\\u00e3y x\\u01b0\\u01a1ng c\\u01a1_ch\\u1ebf ch\\u1ea5n_th\\u01b0\\u01a1ng th\\u01b0\\u1eddng li\\u00ean_quan \\u0111\\u1ebfn va_ch\\u1ea1m v\\u1edbi \\u0111\\u1ed9ng_vi\\u00ean kh\\u00e1c ho\\u1eb7c b\\u1ecb \\u0111\\u1eadp b\\u1eb1ng v\\u1eadt c\\u1ee9ng v\\u00ed_d\\u1ee5 c\\u1ea3n ng\\u01b0\\u1eddi trong b\\u00f3ng_\\u0111\\u00e1 ho\\u1eb7c g\\u1eady trong kh\\u00fac c\\u00f4n_c\\u1ea7u ho\\u1eb7c ng\\u00e3 ho\\u1eb7c \\u0111\\u00e1nh tr\\u1ef1c_ti\\u1ebfp v\\u00ed_d\\u1ee5 trong m\\u00f4n quy\\u1ec1n anh ho\\u1eb7c v\\u00f5_thu\\u1eadt\",\n          \"ph\\u1eabu_thu\\u1eadt c\\u1eaft b\\u1ecf kh\\u1edbp c\\u1ed5_ch\\u00e2n c\\u1ee7a syme gi\\u1eef l\\u1ea1i m\\u1ed9t mi\\u1ebfng \\u0111\\u1ec7m g\\u00f3t ch\\u00e2n d\\u00e0y gi\\u00fap t\\u0103ng kh\\u1ea3_n\\u0103ng ch\\u1ecbu l\\u1ef1c m\\u1eb7c_d\\u00f9 chi\\u1ec1u d\\u00e0i c\\u1ee7a chi \\u0111\\u01b0\\u1ee3c r\\u00fat ng\\u1eafn t\\u1eeb 7 \\u0111\\u1ebfn 9 cm nh\\u01b0ng b\\u1ec7nh_nh\\u00e2n th\\u01b0\\u1eddng c\\u00f3_th\\u1ec3 \\u0111\\u1ee9ng v\\u00e0 \\u0111i b\\u1ed9 m\\u1ed9t qu\\u00e3ng ng\\u1eafn m\\u00e0 kh\\u00f4ng c\\u1ea7n \\u0111\\u1ebfn chi gi\\u1ea3 v\\u00ed_d\\u1ee5 di_chuy\\u1ec3n ra kh\\u1ecfi gi\\u01b0\\u1eddng ho\\u1eb7c gh\\u1ebf \\u0111i b\\u1ed9 \\u0111\\u1ebfn ph\\u00f2ng k\\u1ebf b\\u00ean c\\u00f3 m\\u1ed9t_s\\u1ed1 h\\u1ec7_th\\u1ed1ng \\u0111\\u00e1nh_gi\\u00e1 v\\u00e0 theo_d\\u00f5i c\\u00e1c y\\u1ebfu_t\\u1ed1 c\\u00f3 nguy_c\\u01a1 x\\u1ea3y ra trong khi mang thai ph\\u1eabu_thu\\u1eadt c\\u1eaft c\\u1ee5t chi \\u0111\\u00e3 s\\u1eeda_\\u0111\\u1ed5i l\\u00e0m gi\\u1ea3m ph\\u1ea7n \\u0111\\u1ea7u c\\u1ee7 \\u0111i\\u1ec3n_h\\u00ecnh b\\u1eb1ng c\\u00e1ch c\\u1ea1o c\\u00e1c ph\\u1ea7n x\\u01b0\\u01a1ng ch\\u00e0y s\\u1ef1 thay_\\u0111\\u1ed5i n\\u00e0y gi\\u00fap \\u0111\\u01a1n_gi\\u1ea3n_h\\u00f3a vi\\u1ec7c l\\u1eafp chi gi\\u1ea3 v\\u00e0 k\\u1ebft_qu\\u1ea3 l\\u00e0 h\\u00ecnh_d\\u1ea1ng kh\\u1edbp c\\u1ed5_ch\\u00e2n \\u00edt h\\u01a1n\"\n        ],\n        \"semantic_type\": \"\",\n        \"description\": \"\"\n      }\n    },\n    {\n      \"column\": \"Reference Link\",\n      \"properties\": {\n        \"dtype\": \"category\",\n        \"num_unique_values\": 2177,\n        \"samples\": [\n          \"https://www.msdmanuals.com/vi-vn/professional/ch%E1%BA%A5n-th%C6%B0%C6%A1ng-ng%E1%BB%99-%C4%91%E1%BB%99c/ch%E1%BA%A5n-th%C6%B0%C6%A1ng-ng%E1%BB%B1c/g%C3%A3y-x%C6%B0%C6%A1ng-s%C6%B0%E1%BB%9Dn\",\n          \"https://www.msdmanuals.com/vi-vn/professional/huy%E1%BA%BFt-h%E1%BB%8Dc-v%C3%A0-ung-th%C6%B0-h%E1%BB%8Dc/r%E1%BB%91i-lo%E1%BA%A1n-huy%E1%BA%BFt-kh%E1%BB%91i/thi%E1%BA%BFu-protein-s\",\n          \"https://www.msdmanuals.com/vi-vn/professional/r%E1%BB%91i-lo%E1%BA%A1n-dinh-d%C6%B0%E1%BB%A1ng/suy-dinh-d%C6%B0%E1%BB%A1ng/thi%E1%BA%BFu-h%E1%BB%A5t-carnitine\"\n        ],\n        \"semantic_type\": \"\",\n        \"description\": \"\"\n      }\n    }\n  ]\n}"
            }
          },
          "metadata": {},
          "execution_count": 9
        }
      ]
    },
    {
      "cell_type": "code",
      "source": [
        "df.shape"
      ],
      "metadata": {
        "colab": {
          "base_uri": "https://localhost:8080/"
        },
        "id": "cAcpjFVdj581",
        "outputId": "b16a1fb5-08fc-49d4-8809-3e8ef97e982a"
      },
      "execution_count": 10,
      "outputs": [
        {
          "output_type": "execute_result",
          "data": {
            "text/plain": [
              "(11994, 3)"
            ]
          },
          "metadata": {},
          "execution_count": 10
        }
      ]
    },
    {
      "cell_type": "code",
      "source": [
        "# Data Preparation\n",
        "titles = df['Title'].tolist()\n",
        "detailed_contents = df['Detailed Content'].tolist()"
      ],
      "metadata": {
        "id": "_mC6Wh9ULcHz"
      },
      "execution_count": 11,
      "outputs": []
    },
    {
      "cell_type": "code",
      "source": [
        "# Tokenize toàn bộ titles và detailed_contents\n",
        "input_encodings = tokenizer(titles, truncation=True, padding=True, return_tensors='pt')\n",
        "answer_encodings = tokenizer(detailed_contents, truncation=True, padding=True, return_tensors='pt')"
      ],
      "metadata": {
        "colab": {
          "base_uri": "https://localhost:8080/"
        },
        "id": "ZReYjIscpOli",
        "outputId": "23526926-5d29-44a0-a8d2-075608c64164"
      },
      "execution_count": 12,
      "outputs": [
        {
          "output_type": "stream",
          "name": "stderr",
          "text": [
            "Asking to truncate to max_length but no maximum length is provided and the model has no predefined maximum length. Default to no truncation.\n"
          ]
        }
      ]
    },
    {
      "cell_type": "code",
      "source": [
        "# Define a function to check word embeddings\n",
        "def check_word_embeddings(texts, tokenizer):\n",
        "    missing_words = set()\n",
        "    all_words = set()\n",
        "\n",
        "    # Tokenize each text and collect words\n",
        "    for text in texts:\n",
        "        tokens = tokenizer.tokenize(text)\n",
        "        all_words.update(tokens)\n",
        "\n",
        "    # Check which words are in the tokenizer's vocabulary\n",
        "    tokenizer_vocab = tokenizer.get_vocab()\n",
        "    missing_words = [word for word in all_words if word not in tokenizer_vocab]\n",
        "\n",
        "    return missing_words\n"
      ],
      "metadata": {
        "id": "N61aeZGtq5t8"
      },
      "execution_count": 13,
      "outputs": []
    },
    {
      "cell_type": "code",
      "source": [
        "# Check missing words\n",
        "missing_words = check_word_embeddings(detailed_contents, tokenizer)\n",
        "\n",
        "# Print results\n",
        "print(\"Number of missing words:\", len(missing_words))\n",
        "print(\"Missing words:\", missing_words)"
      ],
      "metadata": {
        "colab": {
          "base_uri": "https://localhost:8080/"
        },
        "id": "6zosTxB0q843",
        "outputId": "9670879e-6703-4982-97c3-bf5272f54bc4"
      },
      "execution_count": 14,
      "outputs": [
        {
          "output_type": "stream",
          "name": "stdout",
          "text": [
            "Number of missing words: 1540\n",
            "Missing words: ['▁knapp', '▁rør', '▁claro', 'ønn', '▁intensiv', '▁agam', '▁rys', '▁efficient', '▁kast', '▁veb', '▁altre', '▁eet', '▁sylw', '▁reso', '▁guida', '▁ryg', 'wiesen', '▁cure', '▁qal', '▁recommended', '▁tros', '▁stk', '▁professionals', '▁advice', '▁symptom', '▁suitable', 'therapie', '▁ủy', '▁defini', '▁halos', '▁ganti', '▁depend', '▁dọa', '▁arter', 'vrh', '▁họa', '▁sken', 'aois', '▁reag', '▁initiat', '▁rö', '▁doba', '▁burro', '▁koning', '▁changing', '▁resolvi', '▁juu', '▁modifier', '▁conversation', '▁heit', '▁presi', '▁molecular', '▁babes', '▁evaluation', '▁ej', 'leider', 'ttinen', '▁seeking', '▁gero', '▁finn', '▁adding', '▁inge', 'propor', '▁trauma', '▁sendi', '▁eventually', 'aliment', '▁nada', 'poja', '▁namna', 'idest', '▁rovin', '▁paradigm', '▁risa', '▁malas', 'hög', '▁valuable', '▁svo', '▁physio', '▁olun', '▁lhe', '▁prea', '▁gila', '▁henne', 'ões', '▁observe', '▁frais', 'evalua', '▁senti', '▁precipit', '▁kena', '▁gravida', 'iñeiro', '▁humans', '▁immobili', '▁asist', '▁nedo', '▁szer', '▁transcend', '▁kerk', '▁laboro', '▁barcelo', '▁hủy', '▁lyser', '▁filtr', 'attend', '▁japanese', '▁neste', '▁kras', 'aspect', '▁buni', '▁rendel', '▁boz', '▁koll', '▁kitab', '▁mindfulness', '▁faa', 'administration', '▁pulmonar', '▁slap', '▁agora', '▁scolar', '▁aller', 'ganja', 'likka', 'mije', '▁sperma', 'lasan', '▁cognitio', '▁brzy', '▁traz', '▁lyk', '▁vim', '▁draai', '▁bisogna', '▁reproduc', '▁excessive', '▁nava', '▁talp', '▁plaque', 'eficient', '▁khỏe', '▁gw', '▁barnet', '▁injuries', '▁samme', 'kroon', '▁prona', '▁individuals', '▁activ', '▁adolescents', '▁infiltra', '▁rez', '▁trapp', '▁ü', '▁vél', '▁hoppe', '▁itp', '▁consideration', '▁trus', '▁observation', '▁kauni', 'käl', 'realiz', '▁vee', '▁stair', '▁kropp', '▁circula', '▁szaf', '▁repro', '▁kuk', '▁stam', '▁aime', '▁circulation', '▁bero', '▁quarta', '▁prac', '▁malign', '▁thủy', '▁gips', '▁ünlü', '▁raj', '▁dhe', '▁kuo', '▁shiga', 'änsä', '▁dubl', '▁italian', '▁cred', '▁icma', '▁initiative', '▁dřev', '▁creu', 'mølle', '▁sano', '▁comparison', '▁cardiac', 'klein', 'schoenen', '▁nafar', 'neutral', '▁voll', '▁seda', 'vaid', '▁mutlu', '▁investi', 'wyk', '▁drugi', '▁fato', '▁apparent', '▁suna', '▁feitos', 'excellence', 'knop', '▁illness', '▁engagement', 'nkt', '▁gav', 'raju', '▁bianco', '▁otte', '▁objective', 'terv', 'xistin', '▁allir', '▁testi', '▁complica', '▁dayan', '▁rov', '▁arrest', '▁religio', '▁aps', '▁tens', '▁quantitat', 'laget', '▁gauche', '▁proprio', '▁aspects', '▁strategie', '▁kaffe', 'bouw', '▁gilt', 'fadh', '▁examine', 'intervention', '▁mees', '▁excita', '▁coordina', 'therapeut', 'schlaf', '▁mwa', '▁verko', '▁neurologi', '▁kapu', '▁structura', '▁glavi', '▁anus', '▁traumat', '▁london', '▁odd', '▁patir', '▁dependent', 'zdu', '▁rischi', '▁repeti', '▁hormonal', 'bilité', '▁viss', '▁dermatolog', '▁dado', '▁atac', '▁luft', '▁practical', '▁muscular', '▁pils', '▁farma', '▁twa', '▁vode', 'gxo', '▁conceptual', '▁prognos', '▁dok', 'valente', '▁uur', '▁possibility', 'øren', '▁kilpa', '▁doua', '▁empiri', '▁foram', '▁riz', 'ketten', '▁eso', '▁addiction', '▁lett', '▁hadden', '▁receiving', '▁ruch', '▁alap', '▁cavall', '▁bantu', '▁lupo', '▁vinde', '▁alten', '▁cerebral', '▁courses', '▁respirator', 'gardiner', '▁fez', 'trygg', '▁associations', '▁kakak', '▁peau', '▁demonstrat', '▁vicini', '▁tests', '▁studie', '▁falha', '▁lewe', '▁ondan', '▁mancare', '▁nazar', 'şek', '▁postre', '▁evacua', '▁geri', '▁vre', 'sinn', '▁podia', '▁chleb', '▁diffuse', '▁laver', 'allergi', '▁cento', 'djon', '▁castra', '▁prudent', '▁klaus', '▁counsel', '▁valgus', '▁pied', 'bagai', '▁jy', '▁standa', '▁himmel', '▁raho', '▁meu', 'degi', '▁metros', '▁katta', '▁conséquence', '▁rood', '▁supplement', '▁montre', '▁joo', '▁krab', 'qol', 'patient', '▁kuwa', '▁complementar', '▁profil', 'uose', 'knut', '▁upad', '▁preserva', '▁edo', '▁vegetarian', '▁hö', '▁probable', '▁participation', '▁laboratori', '▁dose', '▁periodic', 'zanim', 'eeee', '▁edi', '↓', '▁rosto', '▁succeed', '▁diabetes', '▁fy', 'ǂ', '▁coraz', '▁kö', '▁handels', '▁encourage', '▁kli', 'centes', 'löf', 'høj', '▁psychiatr', '▁fiducia', '▁strain', 'favor', '▁hobe', '▁noma', '▁klin', '▁commission', '▁stek', 'pesticid', '▁dres', '▁mál', '▁vaqt', '▁boek', '▁multime', '▁alls', '▁wisdom', '▁comparativ', '▁drie', '▁reda', '▁guidance', '▁potenc', '▁gö', '▁oes', 'lomba', '▁prob', 'tider', 'waarde', '▁compara', '▁asti', '▁blá', '▁marzo', '▁zoon', '▁discussion', '▁dominant', 'kolle', '▁curriculum', '▁pharmacy', '▁kosti', '▁autism', '▁verme', '▁marked', '▁neurodermatitis', 'eerde', 'ayurved', '▁treasure', '▁accurate', '▁druge', '▁european', '▁puerto', '▁dö', '▁calculator', '▁minne', '▁helps', 'cyj', '▁retard', '▁miel', 'wula', '▁faci', '▁dedicati', '▁posterior', '▁sore', 'insomni', 'cej', '▁chans', '▁berma', '▁iti', 'experiment', '▁concurrent', 'priori', '▁rhag', 'ansvar', '▁awareness', '▁chuva', 'stuen', '▁interaction', '▁ndi', '▁pollution', '▁gik', '▁trec', '▁presu', '▁öz', '▁withdraw', '▁gais', '▁zile', '▁sisa', '▁souci', '▁ventilation', '▁bilan', '▁saa', '▁vur', '▁creating', 'prova', '▁brenn', '▁dialect', '▁multidisciplina', '▁homma', '▁ampak', '▁prema', '▁belgi', '▁dostal', '▁dle', '▁competi', '▁mesi', '▁provides', '▁dron', '▁occupa', '▁ucrain', '▁licht', '▁marchio', '▁analyse', '▁fris', '▁descri', '▁procure', '▁fungo', '▁temperament', 'efter', '▁bile', '▁fonda', '▁ipse', '▁mü', '▁apne', '▁oly', '▁laat', 'management', '▁islam', '▁opportun', '▁metabol', '▁wegen', '▁gesta', '▁nurse', '▁banga', '▁toca', '▁uste', '▁fixa', '▁nombre', '▁esi', '▁giudice', '▁hamma', '▁dvor', '▁metra', '▁amplifica', '▁specialist', '▁identify', '▁sjø', '▁discord', 'adolescent', '▁ofte', '▁kruis', 'analyse', '▁schade', '▁blau', '▁januar', '▁relief', '▁broder', '▁menet', '▁sige', '▁focal', 'breek', '▁mga', 'riaus', '▁juara', '▁bilateral', '▁fahren', '▁kantor', '▁pasi', '▁prevale', '▁benda', '▁suggestion', '▁kelle', '▁hindi', '▁technologies', '▁dort', '▁hasa', '▁grill', 'dodd', '▁hadda', '▁secretar', '▁respons', '▁fons', '▁benefit', 'váz', '▁hausse', '▁flot', 'intro', 'orientation', '▁previously', '▁tract', '▁indice', '▁goede', '▁aloe', 'schirm', '▁corporis', '▁spie', '▁babu', '▁falls', '▁infantil', '▁prepared', '▁groot', 'liha', '▁decisions', '▁protocolo', '▁bö', 'matka', 'fryd', '▁welke', 'jme', '▁screening', '▁frequent', '▁artificial', '▁examina', '▁prasa', '▁respiro', '▁moja', '▁sota', '▁viel', '▁farq', '▁behaviour', '▁dobu', '▁fourni', 'absence', '▁agencies', '▁cigarette', 'vél', '▁osim', '▁surgery', 'linin', '▁raman', '▁aggressiv', '▁heer', '▁poole', '▁ramas', '▁skarp', '▁texto', '▁arrivé', '▁diagnose', '˃', '▁confirmation', '▁gant', '▁dla', '▁residu', '▁satisfaction', 'ataj', '▁gând', '▁diabet', '▁anat', '▁abba', '▁guidelines', '▁retire', '▁dø', '▁aap', '▁waard', '▁abusi', '▁modification', 'variant', '▁slag', '▁mutation', '▁cerebro', '▁rohan', '▁infants', '▁oggi', '▁minimal', '▁qualitativ', 'halb', '▁peut', '▁fatigue', '▁simultan', '▁bril', '▁zem', '▁certa', '▁kreu', '▁egy', 'baar', '▁recruit', '▁intellectu', '▁pince', '▁kalan', '▁hamar', '▁summary', '▁brud', '▁concentration', '▁endre', '▁mbl', '▁experienced', '▁serva', '▁nisi', 'depressiv', '▁presso', '▁besser', '▁ambula', '▁stim', 'giem', '▁asking', '▁sade', '▁blij', '▁pilar', '▁giovane', '▁dedicato', '▁sporo', '▁toh', '▁ipsi', '▁menstrua', '▁altra', '▁mcm', 'sponsor', '▁jari', '▁jauni', '▁yola', '▁superficial', '▁intoleran', 'augmentation', '▁tùy', 'strek', '▁piek', 'szych', '▁hest', '▁interpret', '▁fino', '▁ddim', '▁audit', '▁sonho', '▁gleich', '▁anomali', '▁laborator', '▁frum', '▁allergi', '▁logro', 'popol', '▁pappa', '▁hech', '▁implicit', '▁épp', '▁lieber', '▁grec', 'lenme', '▁ingredient', '▁beneficia', 'optimal', '▁darbe', '▁acea', '▁april', 'itvi', '▁immediate', '▁lettere', '▁hlad', '▁sustain', '▁mln', '▁aire', '▁auditor', '▁merci', 'stjo', '▁doma', '▁castelo', '▁yin', '▁facit', 'wyd', '▁hof', '▁privilegi', '▁prill', '▁clic', '▁innovative', 'iisa', '▁synchron', '▁abri', '▁functional', '▁heman', '▁calme', '▁sod', '▁dati', '▁learned', '▁assess', 'improv', '▁iga', '▁fick', 'tausch', '▁stad', '▁proven', 'haver', '▁bordet', '▁presse', '▁escala', '▁advers', '▁betra', '▁bhon', '▁inclusi', '▁vigne', '▁feb', '▁szab', '▁doel', '▁italiano', '▁ged', '▁mondo', '▁heima', '▁dispo', '▁pui', '▁chiar', '▁polvere', '▁nutrition', 'giver', '▁koop', '▁pyar', '▁sinus', '_', '▁moderna', '▁pior', '▁meio', '▁να', '▁sebe', '▁federa', 'pasti', '▁lande', '▁excess', '▁reik', '▁attribut', '▁improvement', '▁diger', '▁symptoms', '▁parasito', '▁kall', '▁comprehensive', '▁august', '▁conclusion', '▁hinc', '▁tud', '▁még', '▁transplant', '▁rä', '▁kwiat', '▁expose', '▁norwegian', '▁strate', '▁discrimina', '▁baj', '▁fabrication', '▁branco', '▁confidence', '▁snelle', '▁asso', 'regul', 'rnar', '▁humor', '▁matern', '▁determina', '▁önce', 'ttelin', 'profi', '▁soos', '▁useful', '▁grant', '▁volunt', '▁dhal', '▁eis', '▁suicide', '▁developing', '▁gawe', '▁bü', '▁imagine', '▁anatomi', '▁↑', 'zgar', '▁graves', '▁bonito', '▁krist', '▁sabato', '▁vore', '▁costo', 'bory', '▁dental', '▁isla', '▁procedura', '▁disabili', '▁imajo', '▁criza', '▁konstant', '▁appreciate', '▁diagnostic', '▁lessons', '▁apre', 'ség', '▁kasaba', '▁proposal', '▁spontane', '▁dermatit', '▁jab', '▁adolesce', '▁landi', '▁ç', '▁donor', '▁prior', '▁intense', '▁substance', '▁identified', '▁provoca', '▁multo', '▁şi', '▁insult', '▁cardiovascular', '▁routine', '▁jej', '▁röd', '▁balon', '▁bence', '▁spital', '▁bouton', '▁fh', '▁napi', '▁suicida', '▁wann', '▁gj', '▁intim', '▁iar', '▁lubi', '▁cilt', '▁labs', 'oare', '▁classe', '▁pkt', '▁assistance', '▁berge', '▁stimula', '▁lle', '▁causing', '▁olan', 'tunni', 'bürger', 'institution', '▁umor', '▁confirma', '▁prev', '▁brann', '▁deutsch', '▁focused', '▁kojima', '▁interfere', '▁react', '▁kush', '▁kassa', '▁scambi', '▁constitution', 'wering', '▁rehabilita', 'abast', '▁ici', '▁outcome', '▁postura', '▁sest', '▁operativ', '▁mengu', '▁manns', '▁aran', '▁pisz', 'sommer', '▁teraz', '▁embo', 'tisk', '▁menn', '▁brug', '▁agus', '▁kesk', '▁fastidio', '▁depression', '▁hỏa', '▁editorial', '▁meh', 'pastu', '▁koli', '▁physician', '▁decrease', '▁responsive', '▁soll', '▁abuse', '▁pande', '▁xist', '▁relevant', '▁mö', '▁amik', '▁kula', '▁seku', 'gjer', '▁sjö', '▁shoh', 'kost', '▁patients', 'paus', '▁respond', '▁germ', '▁traject', '▁arian', '▁provisional', '▁skel', '▁utiliza', '▁pots', '▁jeg', '▁institut', '▁significa', '▁flink', '▁rivero', '▁colore', '▁ilo', '▁vei', 'brem', '▁ernst', '▁rado', '▁plazo', '▁medicina', '▁olsa', '▁intent', '▁digestiv', '▁pime', '▁legg', '‡', '▁acho', '▁vink', '▁affected', '▁civili', '▁jest', '▁satte', '▁toward', '▁imperativ', '▁brist', '▁urobil', '▁imani', '▁benign', '▁opportunities', '▁nee', 'vlad', '▁hva', 'izzato', '▁agenda', '▁transmit', '▁diam', '▁commitment', '▁sequenti', '▁daun', '▁consolida', '▁ramach', '▁khóa', '▁aduc', '▁kolon', '▁precis', 'consider', '▁identi', '▁baze', '▁destruction', '▁keele', '▁jude', '▁metai', '▁infection', '▁folle', '▁prins', '▁nevi', '▁lausa', 'inflammation', '▁leiden', '▁aspira', '▁contribute', '▁aq', 'sigt', '▁intestinal', 'prins', '▁merit', '▁indirect', '▁forno', '▁kreis', '▁veteran', '▁schön', '▁kring', '▁situs', '▁rend', '▁prostat', '▁nih', '▁kansa', '▁raya', '▁durable', '▁siad', '▁centru', '▁badala', '▁impet', '▁severe', '▁exercise', '▁pct', '▁hòa', '▁długo', '▁hace', '▁febr', '▁mna', '▁maschi', '▁lait', '▁consequences', '▁gwir', '▁mezi', '▁interpretation', '▁suffering', '▁têk', '▁ο', '‖', '▁nemali', '▁periodo', '▁suv', '▁cognitive', 'sindi', '▁emphasis', '▁toll', '▁dolu', '▁pamo', '▁recommendations', '▁messi', '▁vibr', '▁kleiner', '▁klippe', '▁consensu', '▁badu', '▁akin', 'edat', '▁fari', '▁typical', '▁felice', 'nadh', '▁previa', '▁metabolism', '▁qe', '▁ym', '▁nesse', '▁ö', '▁termin', '▁kalt', '▁cid', '▁secundum', '▁alcanza', 'cych', '▁heredita', '▁gitt', '▁elastan', '▁deste', 'ddf', '▁crit', '▁heen', 'sweise', 'nieuw', '▁bulma', '▁redistribu', '▁buscar', '▁synd', '▁agents', 'iniu', '▁legisla', '▁efe', 'turen', '▁appropriate', 'cadh', '▁antico', '▁unna', '▁consultation', '▁wewe', '▁ovu', '▁offen', '▁dieta', 'delig', '▁mechan', '▁informe', '▁lyst', '▁residents', '▁bhi', '▁reconcilia', '▁consult', '▁legi', '▁preparation', '▁norme', '▁wale', '▁brett', '▁menga', '▁langer', '▁arterial', '▁tọa', 'ivos', '▁tosi', '▁regime', '▁nid', '▁minn', '▁explanation', 'barkeit', '▁valg', '▁marr', '▁samt', '▁experts', 'fuhr', '▁vorto', '▁prematur', '▁weit', '▁immigrant', '▁ponte', '▁viser', '▁recipient', '▁bude', '▁cousin', '▁anterior', '▁grund', 'tön', 'ję', '▁puesto', '▁fok', '▁haj', '▁orto', '▁coordinat', '▁kampe', '▁kempen', '▁vola', '▁unusual', '▁rull', '▁bergen', '▁ventila', '▁buenos', '▁advance', '▁noon', '▁azy', '▁loh', '▁stok', 'infect', '▁sert', '▁reta', '▁först', '▁mortal', '▁kies', '▁menar', 'klat', '▁cca', '▁usual', '▁bruto', '▁flexibil', '▁plano', '▁namn', '▁mmg', '▁optimal', '▁certo', '▁massive', '▁nera', '▁psoriasis', '▁veld', '▁terminologi', '▁consent', '▁intention', '▁kini', '▁dzi', 'nast', 'lø', '▁tard', 'menin', '▁intervention', '▁tsaro', '▁dosta', '▁lumina', '▁kaun', '▁aday', '▁gust', '▁ongoing', '▁joven', '▁tega', '▁kaha', '▁bulu', '▁paso', '▁hemos', '▁graafi', '▁maine', 'völl', '▁negra', '▁yolda', '▁decline', '▁zale', '▁basse', '▁relation', '▁obses', '▁experiences', '▁genere', '▁muga', 'trä', '▁almal', 'islam', '▁relationships', '▁gasto', '▁linn', '▁redde', '▁rivi', '▁ventilator', '▁desen', '▁pulled', '▁delu', '▁oran', '▁hazard', '▁biologi', '▁pareja', '▁fetish', '▁thỏa', 'scribi', '▁alvo', '▁representativ', '▁prazo', '▁meski', 'messi', '▁sza', '▁ahaa', '▁puu', '▁payer', '▁unga', 'alimentation', '▁claims', '▁sicher', '▁norge', '▁pats', '▁mercat', '▁pone', '▁fein', '▁preced', '▁admit', '▁narod', '▁melk', '▁buena', '▁eska', '▁humana', '▁lindo', '▁ramme', '▁igra', '▁casal', '▁pinta', '▁externo', 'spill', '▁maximal', '▁fede', '¶', '▁onde', '▁circumstances', '▁rinne', '▁renal', '▁kada', '▁halda', '▁pedig', '▁transporter', '▁volunteer', '▁improving', '▁bags', '▁respira', '▁mbi', '▁gender', '▁vacuum', '▁tòa', 'oidh', '▁risus', '▁dialogue', 'optim', '▁conduit', '▁firem', '▁kota', '▁amen', '▁bord', '▁posa', '▁uva', '▁apr', '▁dono', 'dauer', '▁mero', '▁hj', 'iraju', '▁urma', '▁sensitive', '▁ehrlich', '▁stessi', '▁efa', 'banding', '▁visible', '▁reper', '▁anxiety', '▁famo', '▁krit', '▁rett', 'parol', '▁hospitali', '▁noso', '▁hazi', '▁seva', '▁systematic', '▁sensi', '▁doar', '▁puo', '▁dib', '▁hepatitis', '▁tendo', '▁facilities', '▁szar', '▁luxe', '▁pregnant', '▁preference', '▁organisation', 'neho', '▁patient', 'cind', '▁prep', '▁emergency', '▁responde', '▁collabora', '▁definitiv', '▁regne', '▁indir', '▁bruit', 'mehr', '▁korra', '▁crise', '▁itt', '▁maji', '▁\\u202c', 'reducing', '▁pisan', '▁visiting', '▁unos', '▁côté', '▁mature', 'lusta', 'krep', '▁muset', '▁akut', '▁relat', '▁directly', '▁maf', '▁environ', '▁piedra', '▁preventiv', '▁bø', '▁amalga', '▁madh', '▁prava', '▁understanding', 'telor', '▁xóa', '▁steriliz', '▁detailed', '▁yaz', '▁faccio', '▁manifestation', '▁behalf', '▁concorda', '▁mld', '▁gati', '▁raised', '▁snel', '▁sympa', '▁alin', '\\u202d', '▁chronic', '▁iad', '▁providing', 'ssss', '▁oda', 'eink', '▁ajan', '▁veg', '▁treg', '▁hominis', '▁hav', '▁jiro', '▁kender', '▁produc', 'àna', '▁kova', '▁treated', '▁menos', '▁blad', '▁nej', '▁limitation', '▁stie', '▁havne', '▁bros', '▁incide', '▁medication', '▁trh', '▁appel', 'appropria', '▁dilemma', '▁caused', '▁nusi', '▁renova', '▁neer', '▁pik', '▁inferior', '▁demonstra', '▁vagin', '▁piv', 'hja', '▁prospect', '▁tunel', '▁middel', 'besar', '▁importance', '▁kawan', '▁leita', '▁gern', 'interdisciplinar', '▁diverti', '▁fallo', '▁violence', '▁hev', '▁sko', '▁progression', '▁burde', '▁zeit', 'katzen', '▁wieczor', '▁requiri', '▁pediatr', '▁vaziri', '▁naik', '▁sobe', '▁deficit', '▁koske', '▁preco', 'fase', '▁tez', '▁composition', '▁complement', '▁zak', '▁minta', '▁karta', '▁labour', '▁lille', '▁arteri', '▁remit', '▁signo', '▁previ', '▁orsak', '▁surprising', '▁competitive', '▁epilepsi', '▁reeds', '▁inta', '▁nepri', '▁blauw', '▁kristen', '▁jne', '▁donker', '▁urin', '▁teri', '▁sonder', '▁antibiotic', '▁vann', '▁berlin', '▁rendu', '▁pleca', '▁licence', '▁epidemi', '▁agita', 'adequa', '▁bases', '▁pyy']\n"
          ]
        }
      ]
    },
    {
      "cell_type": "code",
      "source": [
        "# # Split and tokenize the texts\n",
        "# def split_text(text, max_length=1024):\n",
        "#     tokens = tokenizer.encode(text, truncation=False)\n",
        "#     return [tokens[i:i + max_length] for i in range(0, len(tokens), max_length)]\n",
        "\n",
        "# split_texts = [split_text(content, max_length=max_length) for content in detailed_contents]\n",
        "# flat_split_texts = [tokenizer.decode(tokens) for sublist in split_texts for tokens in sublist]\n",
        "\n",
        "# # Tokenize inputs and labels\n",
        "# input_encodings = tokenizer(titles, truncation=True, padding=True, return_tensors='pt')\n",
        "# answer_encodings = tokenizer(flat_split_texts, truncation=True, padding=True, return_tensors='pt')\n"
      ],
      "metadata": {
        "id": "JGy0kGrzZvK5"
      },
      "execution_count": 15,
      "outputs": []
    },
    {
      "cell_type": "markdown",
      "source": [
        "## 5. Defining the Medical Dataset Class"
      ],
      "metadata": {
        "id": "Kr0MKfoqzETw"
      }
    },
    {
      "cell_type": "code",
      "source": [
        "class MedicalDataset(Dataset):\n",
        "    def __init__(self, input_encodings, answer_encodings):\n",
        "        self.input_encodings = input_encodings\n",
        "        self.answer_encodings = answer_encodings\n",
        "\n",
        "    def __len__(self):\n",
        "        return len(self.input_encodings['input_ids'])\n",
        "\n",
        "    def __getitem__(self, idx):\n",
        "        input_ids = self.input_encodings['input_ids'][idx]\n",
        "        attention_mask = self.input_encodings['attention_mask'][idx]\n",
        "        labels = self.answer_encodings['input_ids'][idx]\n",
        "\n",
        "        # Padding or truncating labels to match input_ids length\n",
        "        if len(labels) < len(input_ids):\n",
        "            labels = labels + [0] * (len(input_ids) - len(labels))  # Pad with 0\n",
        "        elif len(labels) > len(input_ids):\n",
        "            labels = labels[:len(input_ids)]  # Truncate labels\n",
        "\n",
        "        return {\n",
        "            'input_ids': torch.tensor(input_ids, dtype=torch.long),\n",
        "            'attention_mask': torch.tensor(attention_mask, dtype=torch.long),\n",
        "            'labels': torch.tensor(labels, dtype=torch.long)\n",
        "        }"
      ],
      "metadata": {
        "id": "QlP7eGmg43GT"
      },
      "execution_count": 16,
      "outputs": []
    },
    {
      "cell_type": "code",
      "source": [
        "# Split data into train and validation sets\n",
        "train_size = int(0.8 * len(input_encodings['input_ids']))\n",
        "val_size = len(input_encodings['input_ids']) - train_size\n",
        "\n",
        "train_dataset = MedicalDataset(\n",
        "    {key: val[:train_size] for key, val in input_encodings.items()},\n",
        "    {key: val[:train_size] for key, val in answer_encodings.items()}\n",
        ")\n",
        "\n",
        "val_dataset = MedicalDataset(\n",
        "    {key: val[train_size:] for key, val in input_encodings.items()},\n",
        "    {key: val[train_size:] for key, val in answer_encodings.items()}\n",
        ")"
      ],
      "metadata": {
        "id": "awgrEFMI9luO"
      },
      "execution_count": 17,
      "outputs": []
    },
    {
      "cell_type": "code",
      "source": [
        "# Dataloaders\n",
        "train_loader = DataLoader(train_dataset, batch_size=batch_size, shuffle=True)\n",
        "val_loader = DataLoader(val_dataset, batch_size=batch_size, shuffle=False)\n",
        "\n",
        "# Optimizer and Scheduler\n",
        "optimizer = AdamW(model.parameters(), lr=learning_rate)"
      ],
      "metadata": {
        "colab": {
          "base_uri": "https://localhost:8080/"
        },
        "id": "obVqjlS4LKdY",
        "outputId": "51de5fd6-faca-45a2-d729-4e89e55b7c2b"
      },
      "execution_count": 18,
      "outputs": [
        {
          "output_type": "stream",
          "name": "stderr",
          "text": [
            "/usr/local/lib/python3.10/dist-packages/transformers/optimization.py:591: FutureWarning: This implementation of AdamW is deprecated and will be removed in a future version. Use the PyTorch implementation torch.optim.AdamW instead, or set `no_deprecation_warning=True` to disable this warning\n",
            "  warnings.warn(\n"
          ]
        }
      ]
    },
    {
      "cell_type": "markdown",
      "source": [
        "## 6. Encoding Questions for Cosine Similarity"
      ],
      "metadata": {
        "id": "7c_dSFcLz-Tn"
      }
    },
    {
      "cell_type": "code",
      "source": [
        "# def encode_question(question, tokenizer, model):\n",
        "#     \"\"\"\n",
        "#     Encode a question into a vector using the tokenizer and model.\n",
        "\n",
        "#     Args:\n",
        "#         question (str): The question to encode.\n",
        "#         tokenizer: Tokenizer to use for encoding.\n",
        "#         model: Model to use for encoding.\n",
        "\n",
        "#     Returns:\n",
        "#         np.ndarray: The encoded question vector.\n",
        "#     \"\"\"\n",
        "#     # Tokenize the question\n",
        "#     inputs = tokenizer(question, return_tensors='pt', truncation=True, padding=True).to(device)\n",
        "\n",
        "#     # Pass inputs through the model to get the logits\n",
        "#     with torch.no_grad():  # Disable gradient calculation for faster encoding\n",
        "#         outputs = model(**inputs)\n",
        "\n",
        "#     # Use 'logits' to get the output embeddings\n",
        "#     logits = outputs.logits  # Shape: [batch_size, seq_len, vocab_size]\n",
        "\n",
        "#     # Mean pooling to get sentence embedding\n",
        "#     sentence_embedding = torch.mean(logits, dim=1).squeeze().detach().cpu().numpy()\n",
        "\n",
        "#     return sentence_embedding"
      ],
      "metadata": {
        "id": "rJIwt66OK440"
      },
      "execution_count": 19,
      "outputs": []
    },
    {
      "cell_type": "markdown",
      "source": [
        "## 7. Calculating Cosine Similarity"
      ],
      "metadata": {
        "id": "kj5StGHN0Ece"
      }
    },
    {
      "cell_type": "code",
      "source": [
        "# def calculate_cosine_similarity(question, model_questions, tokenizer, model):\n",
        "#     question_embedding = encode_question(question, tokenizer, model)\n",
        "#     question_embeddings = np.array([encode_question(q, tokenizer, model) for q in model_questions])\n",
        "\n",
        "#     similarities = cosine_similarity([question_embedding], question_embeddings)\n",
        "#     top_indices = np.argsort(similarities[0])[::-1]  # Sort in descending order\n",
        "\n",
        "#     return top_indices[:3], similarities[0][top_indices[:3]]"
      ],
      "metadata": {
        "id": "r6nMlTKB0GX4"
      },
      "execution_count": 20,
      "outputs": []
    },
    {
      "cell_type": "markdown",
      "source": [
        "## 8. Generating Answers Using BART"
      ],
      "metadata": {
        "id": "bk8YnmIi0Kvp"
      }
    },
    {
      "cell_type": "code",
      "source": [
        "# def generate_answer(question, model, tokenizer, max_length=300, num_return_sequences=3):\n",
        "#     \"\"\"\n",
        "#     Generate a refined answer for the most similar question.\n",
        "\n",
        "#     Args:\n",
        "#         question (str): Most similar question.\n",
        "#         model: Trained BART model.\n",
        "#         tokenizer: Tokenizer for BART.\n",
        "#         max_length (int, optional): Maximum length of generated answer. Defaults to 300.\n",
        "#         num_return_sequences (int, optional): Number of answer sequences to generate. Defaults to 3.\n",
        "\n",
        "#     Returns:\n",
        "#         list: List of generated answers.\n",
        "#     \"\"\"\n",
        "#     inputs = tokenizer(question, return_tensors='pt').to(device)\n",
        "\n",
        "#     outputs = model.generate(\n",
        "#         inputs['input_ids'],\n",
        "#         max_length=200,\n",
        "#         num_return_sequences=num_return_sequences,\n",
        "#         do_sample=True,\n",
        "#         top_k=50,\n",
        "#         top_p=0.9,\n",
        "#         temperature=1.0,\n",
        "#         early_stopping=True\n",
        "#     )\n",
        "\n",
        "#     return [tokenizer.decode(output, skip_special_tokens=True) for output in outputs]"
      ],
      "metadata": {
        "id": "aRwfkjB00Mpp"
      },
      "execution_count": 21,
      "outputs": []
    },
    {
      "cell_type": "markdown",
      "source": [
        "## 9. Generating Responses Based on Similarity Scores"
      ],
      "metadata": {
        "id": "stbE8k-U0TeV"
      }
    },
    {
      "cell_type": "code",
      "source": [
        "# def generate_response(input_text, model, tokenizer, model_questions, model_answers):\n",
        "#     \"\"\"\n",
        "#     Generate a response for the input text using cosine similarity.\n",
        "\n",
        "#     Args:\n",
        "#         input_text (str): Input text for generating the response.\n",
        "#         model: Trained BART model.\n",
        "#         tokenizer: Tokenizer for BART.\n",
        "#         model_questions (list): List of questions from the model's training data.\n",
        "#         model_answers (list): List of answers corresponding to the model's questions.\n",
        "\n",
        "#     Returns:\n",
        "#         str: The generated response by the Chatbot.\n",
        "#     \"\"\"\n",
        "#     # Tính toán cosine similarity\n",
        "#     top_indices, similarities = calculate_cosine_similarity(input_text, model_questions, tokenizer, model)\n",
        "\n",
        "#     print(f\"User Question: {input_text}\")\n",
        "#     print(f\"Top Indices: {top_indices}\")\n",
        "#     print(f\"Similarities: {similarities}\")\n",
        "#     print(f\"Model Questions Length: {len(model_questions)}\")\n",
        "#     print(f\"Model Answers Length: {len(model_answers)}\")\n",
        "\n",
        "#     responses = []\n",
        "#     for idx in top_indices:\n",
        "#         # Kiểm tra chỉ số để đảm bảo không vượt quá kích thước mảng\n",
        "#         if 0 <= idx < len(model_questions) and 0 <= idx < len(model_answers):\n",
        "#             similar_question = model_questions[idx]\n",
        "#             corresponding_answer = model_answers[idx]\n",
        "#             print(f\"\\nSimilar Question: {similar_question} (Similarity: {similarities[idx]:.2f})\")\n",
        "#             print(f\"Answer: {corresponding_answer}\")\n",
        "\n",
        "#             # Sinh câu trả lời từ câu hỏi tương tự\n",
        "#             refined_answers = generate_answer(similar_question, model, tokenizer)\n",
        "#             responses.append((similar_question, corresponding_answer, refined_answers))\n",
        "#         else:\n",
        "#             print(f\"Index {idx} is out of bounds for model questions or answers.\")\n",
        "\n",
        "#     return responses"
      ],
      "metadata": {
        "id": "BxdG5fRo0UGl"
      },
      "execution_count": 22,
      "outputs": []
    },
    {
      "cell_type": "markdown",
      "source": [
        "## **10. Training the Model**"
      ],
      "metadata": {
        "id": "LJfscdNa0yfp"
      }
    },
    {
      "cell_type": "code",
      "source": [
        "# Training Function\n",
        "def train_bart_chatbot(model, tokenizer, train_loader, val_loader, optimizer, num_epochs=3, gradient_accumulation_steps=4):\n",
        "    model.train()\n",
        "    for epoch in range(num_epochs):\n",
        "        total_loss = 0\n",
        "\n",
        "        epoch_progress_bar = tqdm(enumerate(train_loader), total=len(train_loader),\n",
        "                                  desc=f\"Epoch {epoch + 1}/{num_epochs}\", leave=False)\n",
        "\n",
        "        for step, batch in epoch_progress_bar:\n",
        "            try:\n",
        "                inputs = {k: v.to(device) for k, v in batch.items()}\n",
        "                outputs = model(**inputs)\n",
        "\n",
        "                loss = outputs.loss\n",
        "                total_loss += loss.item()\n",
        "\n",
        "                loss = loss / gradient_accumulation_steps\n",
        "                loss.backward()\n",
        "\n",
        "                if (step + 1) % gradient_accumulation_steps == 0:\n",
        "                    optimizer.step()\n",
        "                    optimizer.zero_grad()\n",
        "\n",
        "                epoch_progress_bar.set_postfix({\"Loss\": total_loss / (step + 1)})\n",
        "\n",
        "            except IndexError as e:\n",
        "                print(f\"IndexError during training step {step}: {e}\")\n",
        "                raise e\n",
        "\n",
        "        avg_loss = total_loss / len(train_loader)\n",
        "        logging.info(f\"Epoch {epoch + 1}/{num_epochs}, Average Loss: {avg_loss}\")\n",
        "\n",
        "        # Validation\n",
        "        validate_bart_chatbot(model, val_loader, device)"
      ],
      "metadata": {
        "id": "N4VgY_hj08Y7"
      },
      "execution_count": 26,
      "outputs": []
    },
    {
      "cell_type": "code",
      "source": [
        "def validate_bart_chatbot(model, val_loader, device):\n",
        "    \"\"\"\n",
        "    Validate the Chatbot using the BART model.\n",
        "\n",
        "    Args:\n",
        "        model: BART model\n",
        "        val_loader: DataLoader for validation data\n",
        "        device: Device to run the model on ('cpu' or 'cuda')\n",
        "    \"\"\"\n",
        "    model.eval()\n",
        "    total_val_loss = 0\n",
        "    num_batches = len(val_loader)\n",
        "\n",
        "    with torch.no_grad():\n",
        "        # Use tqdm to show progress bar\n",
        "        progress_bar = tqdm(val_loader, desc=\"Validation\", total=num_batches, leave=False)\n",
        "\n",
        "        for batch in progress_bar:\n",
        "            inputs = {k: v.to(device) for k, v in batch.items()}\n",
        "\n",
        "            outputs = model(**inputs)\n",
        "            loss = outputs.loss\n",
        "            total_val_loss += loss.item()\n",
        "\n",
        "            # Update progress bar with current batch loss\n",
        "            progress_bar.set_postfix({'Batch Loss': loss.item()})\n",
        "\n",
        "    avg_val_loss = total_val_loss / num_batches\n",
        "    # Log the average validation loss\n",
        "    logging.info(f\"Validation Loss: {avg_val_loss:.4f}\")\n",
        "\n",
        "    return avg_val_loss"
      ],
      "metadata": {
        "id": "XJuYZ-xqKJ7r"
      },
      "execution_count": 27,
      "outputs": []
    },
    {
      "cell_type": "markdown",
      "source": [
        "## 11. Start Training"
      ],
      "metadata": {
        "id": "_1sr5UUT1MYG"
      }
    },
    {
      "cell_type": "code",
      "source": [
        "# Train the model\n",
        "train_bart_chatbot(model, tokenizer, train_loader, val_loader, optimizer, num_epochs=num_epochs)"
      ],
      "metadata": {
        "colab": {
          "base_uri": "https://localhost:8080/"
        },
        "id": "YzZBSercKcaw",
        "outputId": "c1629ecf-a7ab-4d5d-a581-826a308c50cd"
      },
      "execution_count": 28,
      "outputs": [
        {
          "output_type": "stream",
          "name": "stderr",
          "text": [
            "\rEpoch 1/6:   0%|          | 0/1200 [00:00<?, ?it/s]<ipython-input-16-be73958c2d03>:21: UserWarning: To copy construct from a tensor, it is recommended to use sourceTensor.clone().detach() or sourceTensor.clone().detach().requires_grad_(True), rather than torch.tensor(sourceTensor).\n",
            "  'input_ids': torch.tensor(input_ids, dtype=torch.long),\n",
            "<ipython-input-16-be73958c2d03>:22: UserWarning: To copy construct from a tensor, it is recommended to use sourceTensor.clone().detach() or sourceTensor.clone().detach().requires_grad_(True), rather than torch.tensor(sourceTensor).\n",
            "  'attention_mask': torch.tensor(attention_mask, dtype=torch.long),\n",
            "<ipython-input-16-be73958c2d03>:23: UserWarning: To copy construct from a tensor, it is recommended to use sourceTensor.clone().detach() or sourceTensor.clone().detach().requires_grad_(True), rather than torch.tensor(sourceTensor).\n",
            "  'labels': torch.tensor(labels, dtype=torch.long)\n"
          ]
        }
      ]
    },
    {
      "cell_type": "markdown",
      "source": [
        "## 12.Load the Fine-Tuned Model"
      ],
      "metadata": {
        "id": "5JSv7ygxrtxL"
      }
    },
    {
      "cell_type": "code",
      "source": [
        "# Save the fine-tuned model\n",
        "model.save_pretrained('/content/drive/MyDrive/ChatBox/model/fine_tuned_bart')\n",
        "tokenizer.save_pretrained('/content/drive/MyDrive/ChatBox/model/fine_tuned_bart')"
      ],
      "metadata": {
        "id": "IpaSHhZ3b1ES",
        "colab": {
          "base_uri": "https://localhost:8080/"
        },
        "outputId": "aa12815e-4749-495f-eec9-06d95802d9de"
      },
      "execution_count": 29,
      "outputs": [
        {
          "output_type": "stream",
          "name": "stderr",
          "text": [
            "Some non-default generation parameters are set in the model config. These should go into a GenerationConfig file (https://huggingface.co/docs/transformers/generation_strategies#save-a-custom-decoding-strategy-with-your-model) instead. This warning will be raised to an exception in v4.41.\n",
            "Non-default generation parameters: {'forced_eos_token_id': 2}\n"
          ]
        },
        {
          "output_type": "execute_result",
          "data": {
            "text/plain": [
              "('/content/drive/MyDrive/ChatBox/model/fine_tuned_bart/tokenizer_config.json',\n",
              " '/content/drive/MyDrive/ChatBox/model/fine_tuned_bart/special_tokens_map.json',\n",
              " '/content/drive/MyDrive/ChatBox/model/fine_tuned_bart/sentencepiece.bpe.model',\n",
              " '/content/drive/MyDrive/ChatBox/model/fine_tuned_bart/dict.txt',\n",
              " '/content/drive/MyDrive/ChatBox/model/fine_tuned_bart/added_tokens.json')"
            ]
          },
          "metadata": {},
          "execution_count": 29
        }
      ]
    },
    {
      "cell_type": "code",
      "source": [
        "\n",
        "# # Plot the performance\n",
        "# plot_performance(batch_losses, epoch_losses)"
      ],
      "metadata": {
        "id": "EDg0s_OUk-X9"
      },
      "execution_count": null,
      "outputs": []
    },
    {
      "cell_type": "markdown",
      "source": [
        "## 13. Example: Generating a Response to a User's Question"
      ],
      "metadata": {
        "id": "LZ7P8N_41Jc0"
      }
    },
    {
      "cell_type": "code",
      "source": [
        "def generate_response1(input_text: str) -> str:\n",
        "    \"\"\"\n",
        "    Generate a response for the input text.\n",
        "\n",
        "    Args:\n",
        "        input_text (str): Input text for generating the response.\n",
        "        model: Pre-trained BART model.\n",
        "        tokenizer: Tokenizer for BART.\n",
        "        device (str): Device to run the model on ('cpu' or 'cuda'). Defaults to 'cpu'.\n",
        "        max_length (int): Maximum length of the generated response. Defaults to 1024.\n",
        "\n",
        "    Returns:\n",
        "        str: The generated response by the Chatbot.\n",
        "    \"\"\"\n",
        "    # Tokenize input text and move tensors to device\n",
        "    input_ids = tokenizer.encode(input_text, return_tensors='pt',\n",
        "                                  truncation=True, padding='max_length')\n",
        "    input_ids = input_ids.to(device)\n",
        "    print(\"Tokenized Input IDs:\", input_ids)\n",
        "\n",
        "    # Generate response using the model\n",
        "    with torch.no_grad():\n",
        "        output = model.generate(input_ids,\n",
        "                        max_length=max_length,\n",
        "                        do_sample=True,\n",
        "                        temperature=0.7,  # A value between 0.7 and 1.0 can work well\n",
        "                        no_repeat_ngram_size=1,\n",
        "                        early_stopping=True)\n",
        "        # output = model.generate(input_ids,\n",
        "        #                 max_length=max_length,\n",
        "        #                 do_sample=True,  # Allow sampling to introduce randomness\n",
        "        #                 top_k=50,  # Consider the top 50 words\n",
        "        #                 no_repeat_ngram_size=2,\n",
        "        #                 early_stopping=True)\n",
        "        # output = model.generate(input_ids,\n",
        "        #                 max_length=max_length,\n",
        "        #                 do_sample=True,\n",
        "        #                 top_p=0.92,  # Consider top-p words where p is a cumulative probability\n",
        "        #                 no_repeat_ngram_size=2,\n",
        "        #                 early_stopping=True)\n",
        "\n",
        "    # Decode the generated response\n",
        "    response = tokenizer.decode(output[0], skip_special_tokens=True, clean_up_tokenization_spaces=True)\n",
        "    return response"
      ],
      "metadata": {
        "id": "cd1mo8pbCWDK"
      },
      "execution_count": 32,
      "outputs": []
    },
    {
      "cell_type": "code",
      "source": [
        "# Example of generating a response\n",
        "user_question = \"trẻ em bị lao phổi\"\n",
        "response = generate_response1(user_question)\n",
        "print(f\"Generated Response: {response}\")"
      ],
      "metadata": {
        "colab": {
          "base_uri": "https://localhost:8080/"
        },
        "id": "KFiCXzgJKpau",
        "outputId": "04a59ab4-eef7-43ea-e03a-6d3b7eb7b4d5"
      },
      "execution_count": 33,
      "outputs": [
        {
          "output_type": "stream",
          "name": "stdout",
          "text": [
            "Tokenized Input IDs: tensor([[   0,  318,  293,   46,  565,   63, 1140,   40,    2]])\n",
            "Generated Response: h vànng làmạ do thườngđdchứthsu  có được cáctr ở thuốcyiệugể baob sau bệnh với choi nhiễmlcị tăng 1ộthuhântố khôngương triệu hoặc củav sự nguyênphảa n điều một trong bằngồ khi nhữngật chx đếnánầo sửp bị trẻà rối and m trêniện xươngụ thầnơ nếu cơẩ máu ra gây 2 đặcnhệ sinh làmệtquequakin dấu đau này inbi ngườiường viêmốngá nhưngápấ khớpgi giảm phải huyếthế sốổ phổ alý thiếuọ đường víỏ khácọcịnhến loạiíchhó tổnti cần như hơnợ để phẫuư dượng nướcênloếtátắ j đánh dùng daiệm hộikkhiức kiểm thực theosin lâm đầu từ x chỉ phân sới l thận xem of xét kết phát trướcùngử bấtiển cao thông biểu việc nên tếộcăng về 10 khám đôi –ĩ dịch the nhiều c chất tính cấp mô cáchtín thay đối vếtực vào xuất chống mất mắtạch não liên màng nhấtịch 3 b bàn tử tìnhal vùng biến quá tuổiình g chủối hầuco alậnâm áp gặp đó thời10 hạviề chứngạc xác bên bởi kích v 101 fortaymáạoục tại tiền thở tuyếnế thai giải phụthi tiêu chức trung khángờ khối tiê tương nặng hìnhừ u coồng đã cổ dưới t ảnh cắt động yếu sơ nộir ung khíữẹác toàn mạchtríisủ qua hoạt nguy ngoàiho vi chấn mức tiểu tự ngày khu cả dây phản phần et trườngỳ suy khoảng dẫn ng vị thành dị nămtru thể toẫ liệu nó chụp độ ngón tiếp miễntrakhu xả táciềuânếu bỏinyên tim thánghi di tiến with hỗóc đây dựato khảgian cảmưởng dạng căn chăm bắt an med tất đặtànhù uống ngoại hệ kéo nhẹ táihu i ăn lo chảy âmkh kim phương đo chi cortijập mặc sản ngay đi ngực tắcung mạn kò đa tay khó chân hai rất cũngự nhỏ chuyểnne tiết nghi bạchol treatment rõ h nào lên báctin ban phù tư thấy đơn thịxu e2 quan thủớ gã can pxi đ tủcy016 tiên mắc tĩnhsteroid1 chính ho bảng lớn hiếm en nhanh phòng tâmỗ on vận sống12 giúpology gần trànđi hay conthan r miệngẽ hiệu management tuần độtàn thứ tỷ 20101 vìúc hô thiết bình cân 2020 mang tinhso mà íttrú buồný nhau bổ truyền am lầnic hồng reviewách american nh 5 duy đá vaiậu đều nằm nhận mặtuổi giai tránhoxyrà họ sẽumngu hút 4 sức 2022ễ thấp11 sắc disease tuy disorder clinic hướngétồi nghiêm tạo giờchu th gen hormone ghé pre mgốt lại kỳ mũi kỹ vòng đồng sâu cầu trầm chúngú dung ruộtkho cứng đỏ bụng giữa sớm tối naem nhân tốtclinsungmyid vậthắc 2017ine học gợi cơnri điện protein000000 dương 6 2019 ac điểm cánhtri cònỉnh hiệnông trật răng trực lượng thanh nhiệt3 tậpở siêuêm khởivo kh ob chế tổng vàide sư nấmã ngănliỷếp vô cố ctespha neuro lưu nam bộ 2021 hạn association nangốcing mở màutis phơi tớiạt syndrome13ặt bàoìus giácời rút24ed thìgl dự khoa thân 2018 định ngộ 2016diagnos khâu trởtherapycol cancerốn thất băng loạnantiondo điển nhãnrìse14 công hàngảng 30ni lan lymph19ặc giảitylà xo vitamin biện thu thụ quyte16 15 độc gan4 xin chỉnh khỏi phía kèm trị nuôi gia 7 12ướng dễ18mamoer 2023 món đóng de nghiên so cùng đáng 25 met nhómline rá 9 practice002 đủưỡngtalphy kiểu nô khuyến ni dài sàngặ cung thêm hànhfnaộicin op giống 13gia muướcsonen đôngõi xeticste non căng mỗi mềm cụcột ngủ cấunang study tụẳ21 tìm từng mm vẫn phụcsuiếm đốt đầy nhịp o cá môi thương liệt17 đạiép chứa15 giới hấp bề 24dine đưa ar5 khô thích immun meta 8 society anti gyn nhuảiraí bàiáng giãn ngược lấy rhe ml hoàn97 mẹ kaliphos rộng đợt chưa giáprung dày yxit hàm chu dòng ne 50ồn dis poly kinh thửnej25 chiều lợi rượu lớp ba as no cột thoáiôièn nền risk hoa truyly56og dạ cụ vàngation chậm gluco đáp sắt lưỡi cậnthro biếtle cải hi lập children insulinẻ23 care gốc fromnão vấnluxa kínhạp sur ý22 thượng xung báncamu xu ad du 11 cmằng mệt 18hì laab phóng sửa car mụctê001ci hồi hẹpio máy xâmút sợ gọi ma cuối lựa cảnh trial mụnmat tháo rằng ổnrin vỏ giữ updatemin28 tiếng nhìn đang sa40ây lưng gồm lực pe van phức hem quanh võ xacá nhàrine bướcon ghi random bảogo thức1111hẳng health nói nhẫn phút01 giường lành rev đảmrecom đệ vỡ phá chết nguồn 2014cute xuống đồ 14 lọc\n"
          ]
        }
      ]
    },
    {
      "cell_type": "code",
      "source": [
        "# # Example user question\n",
        "# user_question = \"dấu hiệu của nhiễm trùng\"\n",
        "\n",
        "# # Generate response\n",
        "# responses = generate_response(user_question, model, tokenizer, titles, detailed_contents)\n",
        "\n",
        "# print(responses)\n",
        "\n",
        "# # # Print generated responses\n",
        "# # for idx, (similar_question, corresponding_answer, refined_answers) in enumerate(responses):\n",
        "# #     print(f\"\\nResponse {idx + 1}:\")\n",
        "# #     print(f\"Similar Question: {similar_question}\")\n",
        "# #     print(f\"Original Answer: {corresponding_answer}\")\n",
        "# #     print(f\"Refined Answer: {refined_answers}\")"
      ],
      "metadata": {
        "id": "0xF8h_8qiopp"
      },
      "execution_count": null,
      "outputs": []
    },
    {
      "cell_type": "markdown",
      "source": [
        "#Use the Fine-Tuned Model in the Chatbox"
      ],
      "metadata": {
        "id": "XOehQa0Zrv5g"
      }
    },
    {
      "cell_type": "code",
      "source": [
        "# Use AutoTokenizer to ensure compatibility with BARTPho\n",
        "model = BartForConditionalGeneration.from_pretrained('/content/drive/MyDrive/ChatBox/model/fine_tuned_bart')\n",
        "tokenizer = BartphoTokenizer.from_pretrained('/content/drive/MyDrive/ChatBox/model/fine_tuned_bart')"
      ],
      "metadata": {
        "id": "hSYyNG0vcItb"
      },
      "execution_count": 3,
      "outputs": []
    }
  ]
}
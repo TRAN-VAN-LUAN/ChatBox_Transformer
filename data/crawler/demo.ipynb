{
 "cells": [
  {
   "cell_type": "code",
   "execution_count": 1,
   "metadata": {},
   "outputs": [
    {
     "name": "stdout",
     "output_type": "stream",
     "text": [
      "Airflow 1\n",
      "Docker 1\n",
      "Hello 5\n",
      "Spark 1\n",
      "Python 1\n",
      "and 1\n",
      "Yusuf 1\n"
     ]
    }
   ],
   "source": [
    "from pyspark.sql import SparkSession\n",
    "\n",
    "spark = SparkSession.builder.appName(\"PythonWordCount\").getOrCreate()\n",
    "\n",
    "text = \"Hello Spark Hello Python Hello Airflow Hello Docker and Hello Yusuf\"\n",
    "\n",
    "words = spark.sparkContext.parallelize(text.split(\" \"))\n",
    "\n",
    "wordCounts = words.map(lambda word: (word, 1)).reduceByKey(lambda a, b: a + b)\n",
    "\n",
    "for wc in wordCounts.collect():\n",
    "    print(wc[0], wc[1])\n",
    "\n",
    "spark.stop()"
   ]
  }
 ],
 "metadata": {
  "kernelspec": {
   "display_name": "venv",
   "language": "python",
   "name": "python3"
  },
  "language_info": {
   "codemirror_mode": {
    "name": "ipython",
    "version": 3
   },
   "file_extension": ".py",
   "mimetype": "text/x-python",
   "name": "python",
   "nbconvert_exporter": "python",
   "pygments_lexer": "ipython3",
   "version": "3.9.11"
  }
 },
 "nbformat": 4,
 "nbformat_minor": 2
}
